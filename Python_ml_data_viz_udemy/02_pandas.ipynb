{
 "metadata": {
  "name": "",
  "signature": "sha256:394a75f6358c83177598becdc5a10536d8ed950b7d3c4a19b678826a887401c9"
 },
 "nbformat": 3,
 "nbformat_minor": 0,
 "worksheets": [
  {
   "cells": [
    {
     "cell_type": "heading",
     "level": 1,
     "metadata": {},
     "source": [
      "Pandas"
     ]
    },
    {
     "cell_type": "code",
     "collapsed": false,
     "input": [
      "import pandas as pd\n",
      "import numpy as np\n",
      "from pandas import Series, DataFrame"
     ],
     "language": "python",
     "metadata": {},
     "outputs": [],
     "prompt_number": 3
    },
    {
     "cell_type": "code",
     "collapsed": false,
     "input": [
      "obj = Series([3,6,9,12])\n",
      "obj"
     ],
     "language": "python",
     "metadata": {},
     "outputs": [
      {
       "metadata": {},
       "output_type": "pyout",
       "prompt_number": 2,
       "text": [
        "0     3\n",
        "1     6\n",
        "2     9\n",
        "3    12\n",
        "dtype: int64"
       ]
      }
     ],
     "prompt_number": 2
    },
    {
     "cell_type": "code",
     "collapsed": false,
     "input": [
      "obj.values"
     ],
     "language": "python",
     "metadata": {},
     "outputs": [
      {
       "metadata": {},
       "output_type": "pyout",
       "prompt_number": 3,
       "text": [
        "array([ 3,  6,  9, 12], dtype=int64)"
       ]
      }
     ],
     "prompt_number": 3
    },
    {
     "cell_type": "code",
     "collapsed": false,
     "input": [
      "obj.index"
     ],
     "language": "python",
     "metadata": {},
     "outputs": [
      {
       "metadata": {},
       "output_type": "pyout",
       "prompt_number": 5,
       "text": [
        "Int64Index([0, 1, 2, 3], dtype='int64')"
       ]
      }
     ],
     "prompt_number": 5
    },
    {
     "cell_type": "code",
     "collapsed": false,
     "input": [
      "ww2_cas = Series([8700000,4200000,3000000,2100000,400000],index=['USSR','Germain','China','Japan','USA'])\n",
      "ww2_cas"
     ],
     "language": "python",
     "metadata": {},
     "outputs": [
      {
       "metadata": {},
       "output_type": "pyout",
       "prompt_number": 7,
       "text": [
        "USSR       8700000\n",
        "Germain    4200000\n",
        "China      3000000\n",
        "Japan      2100000\n",
        "USA         400000\n",
        "dtype: int64"
       ]
      }
     ],
     "prompt_number": 7
    },
    {
     "cell_type": "code",
     "collapsed": false,
     "input": [
      "ww2_cas['USA']"
     ],
     "language": "python",
     "metadata": {},
     "outputs": [
      {
       "metadata": {},
       "output_type": "pyout",
       "prompt_number": 8,
       "text": [
        "400000"
       ]
      }
     ],
     "prompt_number": 8
    },
    {
     "cell_type": "code",
     "collapsed": false,
     "input": [
      "#cechk with country has cas greater than 4 mil\n",
      "ww2_cas[ww2_cas> 4000000]"
     ],
     "language": "python",
     "metadata": {},
     "outputs": [
      {
       "metadata": {},
       "output_type": "pyout",
       "prompt_number": 10,
       "text": [
        "USSR       8700000\n",
        "Germain    4200000\n",
        "dtype: int64"
       ]
      }
     ],
     "prompt_number": 10
    },
    {
     "cell_type": "code",
     "collapsed": false,
     "input": [
      "'USSR' in ww2_cas"
     ],
     "language": "python",
     "metadata": {},
     "outputs": [
      {
       "metadata": {},
       "output_type": "pyout",
       "prompt_number": 11,
       "text": [
        "True"
       ]
      }
     ],
     "prompt_number": 11
    },
    {
     "cell_type": "code",
     "collapsed": false,
     "input": [
      "ww2_dict=ww2_cas.to_dict()\n",
      "ww2_dict"
     ],
     "language": "python",
     "metadata": {},
     "outputs": [
      {
       "metadata": {},
       "output_type": "pyout",
       "prompt_number": 12,
       "text": [
        "{'China': 3000000,\n",
        " 'Germain': 4200000,\n",
        " 'Japan': 2100000,\n",
        " 'USA': 400000,\n",
        " 'USSR': 8700000}"
       ]
      }
     ],
     "prompt_number": 12
    },
    {
     "cell_type": "code",
     "collapsed": false,
     "input": [
      "ww2_s = Series(ww2_dict)\n",
      "ww2_s"
     ],
     "language": "python",
     "metadata": {},
     "outputs": [
      {
       "metadata": {},
       "output_type": "pyout",
       "prompt_number": 13,
       "text": [
        "China      3000000\n",
        "Germain    4200000\n",
        "Japan      2100000\n",
        "USA         400000\n",
        "USSR       8700000\n",
        "dtype: int64"
       ]
      }
     ],
     "prompt_number": 13
    },
    {
     "cell_type": "code",
     "collapsed": false,
     "input": [
      "countries = ['China','Germain','Japan','USA','USSR','Argentina']\n",
      "obj2 = Series(ww2_dict,index=countries)\n",
      "obj2"
     ],
     "language": "python",
     "metadata": {},
     "outputs": [
      {
       "metadata": {},
       "output_type": "pyout",
       "prompt_number": 19,
       "text": [
        "China        3000000\n",
        "Germain      4200000\n",
        "Japan        2100000\n",
        "USA           400000\n",
        "USSR         8700000\n",
        "Argentina        NaN\n",
        "dtype: float64"
       ]
      }
     ],
     "prompt_number": 19
    },
    {
     "cell_type": "code",
     "collapsed": false,
     "input": [
      "pd.isnull(obj2)"
     ],
     "language": "python",
     "metadata": {},
     "outputs": [
      {
       "metadata": {},
       "output_type": "pyout",
       "prompt_number": 20,
       "text": [
        "China        False\n",
        "Germain      False\n",
        "Japan        False\n",
        "USA          False\n",
        "USSR         False\n",
        "Argentina     True\n",
        "dtype: bool"
       ]
      }
     ],
     "prompt_number": 20
    },
    {
     "cell_type": "code",
     "collapsed": false,
     "input": [
      "ww2_s + obj2"
     ],
     "language": "python",
     "metadata": {},
     "outputs": [
      {
       "metadata": {},
       "output_type": "pyout",
       "prompt_number": 23,
       "text": [
        "Argentina         NaN\n",
        "China         6000000\n",
        "Germain       8400000\n",
        "Japan         4200000\n",
        "USA            800000\n",
        "USSR         17400000\n",
        "dtype: float64"
       ]
      }
     ],
     "prompt_number": 23
    },
    {
     "cell_type": "code",
     "collapsed": false,
     "input": [
      "obj2.name = \"WW 2 casualties\"\n",
      "obj2"
     ],
     "language": "python",
     "metadata": {},
     "outputs": [
      {
       "metadata": {},
       "output_type": "pyout",
       "prompt_number": 27,
       "text": [
        "China        3000000\n",
        "Germain      4200000\n",
        "Japan        2100000\n",
        "USA           400000\n",
        "USSR         8700000\n",
        "Argentina        NaN\n",
        "Name: WW 2 casualties, dtype: float64"
       ]
      }
     ],
     "prompt_number": 27
    },
    {
     "cell_type": "code",
     "collapsed": false,
     "input": [
      "obj2.index.name=\"countries\"\n",
      "obj2"
     ],
     "language": "python",
     "metadata": {},
     "outputs": [
      {
       "metadata": {},
       "output_type": "pyout",
       "prompt_number": 29,
       "text": [
        "countries\n",
        "China        3000000\n",
        "Germain      4200000\n",
        "Japan        2100000\n",
        "USA           400000\n",
        "USSR         8700000\n",
        "Argentina        NaN\n",
        "Name: WW 2 casualties, dtype: float64"
       ]
      }
     ],
     "prompt_number": 29
    },
    {
     "cell_type": "markdown",
     "metadata": {},
     "source": [
      "#Lecture 2"
     ]
    },
    {
     "cell_type": "code",
     "collapsed": false,
     "input": [
      "import webbrowser\n",
      "website = \"http://en.wikipedia.org/wiki/NFL_win-loss_records\"\n",
      "webbrowser.open(website)\n",
      "#copy from the browser"
     ],
     "language": "python",
     "metadata": {},
     "outputs": [
      {
       "metadata": {},
       "output_type": "pyout",
       "prompt_number": 1,
       "text": [
        "True"
       ]
      }
     ],
     "prompt_number": 1
    },
    {
     "cell_type": "code",
     "collapsed": false,
     "input": [
      "nfl=pd.read_clipboard()\n",
      "nfl"
     ],
     "language": "python",
     "metadata": {},
     "outputs": [
      {
       "html": [
        "<div style=\"max-height:1000px;max-width:1500px;overflow:auto;\">\n",
        "<table border=\"1\" class=\"dataframe\">\n",
        "  <thead>\n",
        "    <tr style=\"text-align: right;\">\n",
        "      <th></th>\n",
        "      <th>Rank</th>\n",
        "      <th>Team</th>\n",
        "      <th>Won</th>\n",
        "      <th>Lost</th>\n",
        "      <th>Tied*</th>\n",
        "      <th>Pct.</th>\n",
        "      <th>First Season</th>\n",
        "      <th>Total Games</th>\n",
        "      <th>Conference</th>\n",
        "    </tr>\n",
        "  </thead>\n",
        "  <tbody>\n",
        "    <tr>\n",
        "      <th>0 </th>\n",
        "      <td>  1</td>\n",
        "      <td>       Dallas Cowboys</td>\n",
        "      <td> 510</td>\n",
        "      <td> 378</td>\n",
        "      <td>  6</td>\n",
        "      <td> 0.574</td>\n",
        "      <td> 1960</td>\n",
        "      <td>  894</td>\n",
        "      <td>  NFC East</td>\n",
        "    </tr>\n",
        "    <tr>\n",
        "      <th>1 </th>\n",
        "      <td>  2</td>\n",
        "      <td>        Chicago Bears</td>\n",
        "      <td> 752</td>\n",
        "      <td> 563</td>\n",
        "      <td> 42</td>\n",
        "      <td> 0.570</td>\n",
        "      <td> 1920</td>\n",
        "      <td> 1357</td>\n",
        "      <td> NFC North</td>\n",
        "    </tr>\n",
        "    <tr>\n",
        "      <th>2 </th>\n",
        "      <td>  3</td>\n",
        "      <td>    Green Bay Packers</td>\n",
        "      <td> 741</td>\n",
        "      <td> 561</td>\n",
        "      <td> 37</td>\n",
        "      <td> 0.567</td>\n",
        "      <td> 1921</td>\n",
        "      <td> 1339</td>\n",
        "      <td> NFC North</td>\n",
        "    </tr>\n",
        "    <tr>\n",
        "      <th>3 </th>\n",
        "      <td>  4</td>\n",
        "      <td>       Miami Dolphins</td>\n",
        "      <td> 443</td>\n",
        "      <td> 345</td>\n",
        "      <td>  4</td>\n",
        "      <td> 0.562</td>\n",
        "      <td> 1966</td>\n",
        "      <td>  792</td>\n",
        "      <td>  AFC East</td>\n",
        "    </tr>\n",
        "    <tr>\n",
        "      <th>4 </th>\n",
        "      <td>  5</td>\n",
        "      <td>     Baltimore Ravens</td>\n",
        "      <td> 182</td>\n",
        "      <td> 143</td>\n",
        "      <td>  1</td>\n",
        "      <td> 0.560</td>\n",
        "      <td> 1996</td>\n",
        "      <td>  326</td>\n",
        "      <td> AFC North</td>\n",
        "    </tr>\n",
        "    <tr>\n",
        "      <th>5 </th>\n",
        "      <td>  6</td>\n",
        "      <td>  San Francisco 49ers</td>\n",
        "      <td> 545</td>\n",
        "      <td> 444</td>\n",
        "      <td> 14</td>\n",
        "      <td> 0.550</td>\n",
        "      <td> 1950</td>\n",
        "      <td> 1003</td>\n",
        "      <td>  NFC West</td>\n",
        "    </tr>\n",
        "    <tr>\n",
        "      <th>6 </th>\n",
        "      <td>  7</td>\n",
        "      <td> New England Patriots</td>\n",
        "      <td> 478</td>\n",
        "      <td> 395</td>\n",
        "      <td>  9</td>\n",
        "      <td> 0.547</td>\n",
        "      <td> 1960</td>\n",
        "      <td>  882</td>\n",
        "      <td>  AFC East</td>\n",
        "    </tr>\n",
        "    <tr>\n",
        "      <th>7 </th>\n",
        "      <td>  8</td>\n",
        "      <td>      New York Giants</td>\n",
        "      <td> 691</td>\n",
        "      <td> 581</td>\n",
        "      <td> 33</td>\n",
        "      <td> 0.542</td>\n",
        "      <td> 1925</td>\n",
        "      <td> 1305</td>\n",
        "      <td>  NFC East</td>\n",
        "    </tr>\n",
        "    <tr>\n",
        "      <th>8 </th>\n",
        "      <td>  9</td>\n",
        "      <td>       Denver Broncos</td>\n",
        "      <td> 464</td>\n",
        "      <td> 400</td>\n",
        "      <td> 10</td>\n",
        "      <td> 0.537</td>\n",
        "      <td> 1960</td>\n",
        "      <td>  874</td>\n",
        "      <td>  AFC West</td>\n",
        "    </tr>\n",
        "    <tr>\n",
        "      <th>9 </th>\n",
        "      <td> 10</td>\n",
        "      <td>      Oakland Raiders</td>\n",
        "      <td> 462</td>\n",
        "      <td> 406</td>\n",
        "      <td> 11</td>\n",
        "      <td> 0.532</td>\n",
        "      <td> 1960</td>\n",
        "      <td>  879</td>\n",
        "      <td>  AFC West</td>\n",
        "    </tr>\n",
        "    <tr>\n",
        "      <th>10</th>\n",
        "      <td> 11</td>\n",
        "      <td>    Minnesota Vikings</td>\n",
        "      <td> 457</td>\n",
        "      <td> 401</td>\n",
        "      <td> 10</td>\n",
        "      <td> 0.532</td>\n",
        "      <td> 1961</td>\n",
        "      <td>  868</td>\n",
        "      <td> NFC North</td>\n",
        "    </tr>\n",
        "  </tbody>\n",
        "</table>\n",
        "</div>"
       ],
       "metadata": {},
       "output_type": "pyout",
       "prompt_number": 4,
       "text": [
        "    Rank                  Team  Won  Lost  Tied*   Pct.  First Season  \\\n",
        "0      1        Dallas Cowboys  510   378      6  0.574          1960   \n",
        "1      2         Chicago Bears  752   563     42  0.570          1920   \n",
        "2      3     Green Bay Packers  741   561     37  0.567          1921   \n",
        "3      4        Miami Dolphins  443   345      4  0.562          1966   \n",
        "4      5      Baltimore Ravens  182   143      1  0.560          1996   \n",
        "5      6   San Francisco 49ers  545   444     14  0.550          1950   \n",
        "6      7  New England Patriots  478   395      9  0.547          1960   \n",
        "7      8       New York Giants  691   581     33  0.542          1925   \n",
        "8      9        Denver Broncos  464   400     10  0.537          1960   \n",
        "9     10       Oakland Raiders  462   406     11  0.532          1960   \n",
        "10    11     Minnesota Vikings  457   401     10  0.532          1961   \n",
        "\n",
        "    Total Games Conference  \n",
        "0           894   NFC East  \n",
        "1          1357  NFC North  \n",
        "2          1339  NFC North  \n",
        "3           792   AFC East  \n",
        "4           326  AFC North  \n",
        "5          1003   NFC West  \n",
        "6           882   AFC East  \n",
        "7          1305   NFC East  \n",
        "8           874   AFC West  \n",
        "9           879   AFC West  \n",
        "10          868  NFC North  "
       ]
      }
     ],
     "prompt_number": 4
    },
    {
     "cell_type": "code",
     "collapsed": false,
     "input": [
      "nfl.columns"
     ],
     "language": "python",
     "metadata": {},
     "outputs": [
      {
       "metadata": {},
       "output_type": "pyout",
       "prompt_number": 33,
       "text": [
        "Index([u'Rank', u'Team', u'Won', u'Lost', u'Tied*', u'Pct.', u'First Season', u'Total Games', u'Conference'], dtype='object')"
       ]
      }
     ],
     "prompt_number": 33
    },
    {
     "cell_type": "code",
     "collapsed": false,
     "input": [
      "nfl.Rank"
     ],
     "language": "python",
     "metadata": {},
     "outputs": [
      {
       "metadata": {},
       "output_type": "pyout",
       "prompt_number": 34,
       "text": [
        "0    1\n",
        "1    2\n",
        "2    3\n",
        "3    4\n",
        "Name: Rank, dtype: int64"
       ]
      }
     ],
     "prompt_number": 34
    },
    {
     "cell_type": "code",
     "collapsed": false,
     "input": [
      "nfl['First Season']"
     ],
     "language": "python",
     "metadata": {},
     "outputs": [
      {
       "metadata": {},
       "output_type": "pyout",
       "prompt_number": 35,
       "text": [
        "0    1960\n",
        "1    1920\n",
        "2    1921\n",
        "3    1966\n",
        "Name: First Season, dtype: int64"
       ]
      }
     ],
     "prompt_number": 35
    },
    {
     "cell_type": "code",
     "collapsed": false,
     "input": [
      "DataFrame(nfl,columns=['Team','First Season','Total Games'])"
     ],
     "language": "python",
     "metadata": {},
     "outputs": [
      {
       "html": [
        "<div style=\"max-height:1000px;max-width:1500px;overflow:auto;\">\n",
        "<table border=\"1\" class=\"dataframe\">\n",
        "  <thead>\n",
        "    <tr style=\"text-align: right;\">\n",
        "      <th></th>\n",
        "      <th>Team</th>\n",
        "      <th>First Season</th>\n",
        "      <th>Total Games</th>\n",
        "    </tr>\n",
        "  </thead>\n",
        "  <tbody>\n",
        "    <tr>\n",
        "      <th>0</th>\n",
        "      <td>    Dallas Cowboys</td>\n",
        "      <td> 1960</td>\n",
        "      <td>  894</td>\n",
        "    </tr>\n",
        "    <tr>\n",
        "      <th>1</th>\n",
        "      <td>     Chicago Bears</td>\n",
        "      <td> 1920</td>\n",
        "      <td> 1357</td>\n",
        "    </tr>\n",
        "    <tr>\n",
        "      <th>2</th>\n",
        "      <td> Green Bay Packers</td>\n",
        "      <td> 1921</td>\n",
        "      <td> 1339</td>\n",
        "    </tr>\n",
        "    <tr>\n",
        "      <th>3</th>\n",
        "      <td>    Miami Dolphins</td>\n",
        "      <td> 1966</td>\n",
        "      <td>  792</td>\n",
        "    </tr>\n",
        "  </tbody>\n",
        "</table>\n",
        "</div>"
       ],
       "metadata": {},
       "output_type": "pyout",
       "prompt_number": 37,
       "text": [
        "                Team  First Season  Total Games\n",
        "0     Dallas Cowboys          1960          894\n",
        "1      Chicago Bears          1920         1357\n",
        "2  Green Bay Packers          1921         1339\n",
        "3     Miami Dolphins          1966          792"
       ]
      }
     ],
     "prompt_number": 37
    },
    {
     "cell_type": "code",
     "collapsed": false,
     "input": [
      "DataFrame(nfl,columns=['Team','First Season','Total Games','Stadium'])"
     ],
     "language": "python",
     "metadata": {},
     "outputs": [
      {
       "html": [
        "<div style=\"max-height:1000px;max-width:1500px;overflow:auto;\">\n",
        "<table border=\"1\" class=\"dataframe\">\n",
        "  <thead>\n",
        "    <tr style=\"text-align: right;\">\n",
        "      <th></th>\n",
        "      <th>Team</th>\n",
        "      <th>First Season</th>\n",
        "      <th>Total Games</th>\n",
        "      <th>Stadium</th>\n",
        "    </tr>\n",
        "  </thead>\n",
        "  <tbody>\n",
        "    <tr>\n",
        "      <th>0</th>\n",
        "      <td>    Dallas Cowboys</td>\n",
        "      <td> 1960</td>\n",
        "      <td>  894</td>\n",
        "      <td>NaN</td>\n",
        "    </tr>\n",
        "    <tr>\n",
        "      <th>1</th>\n",
        "      <td>     Chicago Bears</td>\n",
        "      <td> 1920</td>\n",
        "      <td> 1357</td>\n",
        "      <td>NaN</td>\n",
        "    </tr>\n",
        "    <tr>\n",
        "      <th>2</th>\n",
        "      <td> Green Bay Packers</td>\n",
        "      <td> 1921</td>\n",
        "      <td> 1339</td>\n",
        "      <td>NaN</td>\n",
        "    </tr>\n",
        "    <tr>\n",
        "      <th>3</th>\n",
        "      <td>    Miami Dolphins</td>\n",
        "      <td> 1966</td>\n",
        "      <td>  792</td>\n",
        "      <td>NaN</td>\n",
        "    </tr>\n",
        "  </tbody>\n",
        "</table>\n",
        "</div>"
       ],
       "metadata": {},
       "output_type": "pyout",
       "prompt_number": 38,
       "text": [
        "                Team  First Season  Total Games  Stadium\n",
        "0     Dallas Cowboys          1960          894      NaN\n",
        "1      Chicago Bears          1920         1357      NaN\n",
        "2  Green Bay Packers          1921         1339      NaN\n",
        "3     Miami Dolphins          1966          792      NaN"
       ]
      }
     ],
     "prompt_number": 38
    },
    {
     "cell_type": "code",
     "collapsed": false,
     "input": [
      "nfl.head(2)"
     ],
     "language": "python",
     "metadata": {},
     "outputs": [
      {
       "html": [
        "<div style=\"max-height:1000px;max-width:1500px;overflow:auto;\">\n",
        "<table border=\"1\" class=\"dataframe\">\n",
        "  <thead>\n",
        "    <tr style=\"text-align: right;\">\n",
        "      <th></th>\n",
        "      <th>Rank</th>\n",
        "      <th>Team</th>\n",
        "      <th>Won</th>\n",
        "      <th>Lost</th>\n",
        "      <th>Tied*</th>\n",
        "      <th>Pct.</th>\n",
        "      <th>First Season</th>\n",
        "      <th>Total Games</th>\n",
        "      <th>Conference</th>\n",
        "    </tr>\n",
        "  </thead>\n",
        "  <tbody>\n",
        "    <tr>\n",
        "      <th>0</th>\n",
        "      <td> 1</td>\n",
        "      <td> Dallas Cowboys</td>\n",
        "      <td> 510</td>\n",
        "      <td> 378</td>\n",
        "      <td>  6</td>\n",
        "      <td> 0.574</td>\n",
        "      <td> 1960</td>\n",
        "      <td>  894</td>\n",
        "      <td>  NFC East</td>\n",
        "    </tr>\n",
        "    <tr>\n",
        "      <th>1</th>\n",
        "      <td> 2</td>\n",
        "      <td>  Chicago Bears</td>\n",
        "      <td> 752</td>\n",
        "      <td> 563</td>\n",
        "      <td> 42</td>\n",
        "      <td> 0.570</td>\n",
        "      <td> 1920</td>\n",
        "      <td> 1357</td>\n",
        "      <td> NFC North</td>\n",
        "    </tr>\n",
        "  </tbody>\n",
        "</table>\n",
        "</div>"
       ],
       "metadata": {},
       "output_type": "pyout",
       "prompt_number": 40,
       "text": [
        "   Rank            Team  Won  Lost  Tied*   Pct.  First Season  Total Games  \\\n",
        "0     1  Dallas Cowboys  510   378      6  0.574          1960          894   \n",
        "1     2   Chicago Bears  752   563     42  0.570          1920         1357   \n",
        "\n",
        "  Conference  \n",
        "0   NFC East  \n",
        "1  NFC North  "
       ]
      }
     ],
     "prompt_number": 40
    },
    {
     "cell_type": "code",
     "collapsed": false,
     "input": [
      "nfl.tail(2)"
     ],
     "language": "python",
     "metadata": {},
     "outputs": [
      {
       "html": [
        "<div style=\"max-height:1000px;max-width:1500px;overflow:auto;\">\n",
        "<table border=\"1\" class=\"dataframe\">\n",
        "  <thead>\n",
        "    <tr style=\"text-align: right;\">\n",
        "      <th></th>\n",
        "      <th>Rank</th>\n",
        "      <th>Team</th>\n",
        "      <th>Won</th>\n",
        "      <th>Lost</th>\n",
        "      <th>Tied*</th>\n",
        "      <th>Pct.</th>\n",
        "      <th>First Season</th>\n",
        "      <th>Total Games</th>\n",
        "      <th>Conference</th>\n",
        "    </tr>\n",
        "  </thead>\n",
        "  <tbody>\n",
        "    <tr>\n",
        "      <th>2</th>\n",
        "      <td> 3</td>\n",
        "      <td> Green Bay Packers</td>\n",
        "      <td> 741</td>\n",
        "      <td> 561</td>\n",
        "      <td> 37</td>\n",
        "      <td> 0.567</td>\n",
        "      <td> 1921</td>\n",
        "      <td> 1339</td>\n",
        "      <td> NFC North</td>\n",
        "    </tr>\n",
        "    <tr>\n",
        "      <th>3</th>\n",
        "      <td> 4</td>\n",
        "      <td>    Miami Dolphins</td>\n",
        "      <td> 443</td>\n",
        "      <td> 345</td>\n",
        "      <td>  4</td>\n",
        "      <td> 0.562</td>\n",
        "      <td> 1966</td>\n",
        "      <td>  792</td>\n",
        "      <td>  AFC East</td>\n",
        "    </tr>\n",
        "  </tbody>\n",
        "</table>\n",
        "</div>"
       ],
       "metadata": {},
       "output_type": "pyout",
       "prompt_number": 41,
       "text": [
        "   Rank               Team  Won  Lost  Tied*   Pct.  First Season  \\\n",
        "2     3  Green Bay Packers  741   561     37  0.567          1921   \n",
        "3     4     Miami Dolphins  443   345      4  0.562          1966   \n",
        "\n",
        "   Total Games Conference  \n",
        "2         1339  NFC North  \n",
        "3          792   AFC East  "
       ]
      }
     ],
     "prompt_number": 41
    },
    {
     "cell_type": "code",
     "collapsed": false,
     "input": [
      "nfl.ix[3]"
     ],
     "language": "python",
     "metadata": {},
     "outputs": [
      {
       "metadata": {},
       "output_type": "pyout",
       "prompt_number": 42,
       "text": [
        "Rank                         4\n",
        "Team            Miami Dolphins\n",
        "Won                        443\n",
        "Lost                       345\n",
        "Tied*                        4\n",
        "Pct.                     0.562\n",
        "First Season              1966\n",
        "Total Games                792\n",
        "Conference            AFC East\n",
        "Name: 3, dtype: object"
       ]
      }
     ],
     "prompt_number": 42
    },
    {
     "cell_type": "code",
     "collapsed": false,
     "input": [
      "nfl['Stadium'] = \"Levis's stadium\"\n",
      "nfl"
     ],
     "language": "python",
     "metadata": {},
     "outputs": [
      {
       "html": [
        "<div style=\"max-height:1000px;max-width:1500px;overflow:auto;\">\n",
        "<table border=\"1\" class=\"dataframe\">\n",
        "  <thead>\n",
        "    <tr style=\"text-align: right;\">\n",
        "      <th></th>\n",
        "      <th>Rank</th>\n",
        "      <th>Team</th>\n",
        "      <th>Won</th>\n",
        "      <th>Lost</th>\n",
        "      <th>Tied*</th>\n",
        "      <th>Pct.</th>\n",
        "      <th>First Season</th>\n",
        "      <th>Total Games</th>\n",
        "      <th>Conference</th>\n",
        "      <th>Stadium</th>\n",
        "    </tr>\n",
        "  </thead>\n",
        "  <tbody>\n",
        "    <tr>\n",
        "      <th>0</th>\n",
        "      <td> 1</td>\n",
        "      <td>    Dallas Cowboys</td>\n",
        "      <td> 510</td>\n",
        "      <td> 378</td>\n",
        "      <td>  6</td>\n",
        "      <td> 0.574</td>\n",
        "      <td> 1960</td>\n",
        "      <td>  894</td>\n",
        "      <td>  NFC East</td>\n",
        "      <td> Levis's stadium</td>\n",
        "    </tr>\n",
        "    <tr>\n",
        "      <th>1</th>\n",
        "      <td> 2</td>\n",
        "      <td>     Chicago Bears</td>\n",
        "      <td> 752</td>\n",
        "      <td> 563</td>\n",
        "      <td> 42</td>\n",
        "      <td> 0.570</td>\n",
        "      <td> 1920</td>\n",
        "      <td> 1357</td>\n",
        "      <td> NFC North</td>\n",
        "      <td> Levis's stadium</td>\n",
        "    </tr>\n",
        "    <tr>\n",
        "      <th>2</th>\n",
        "      <td> 3</td>\n",
        "      <td> Green Bay Packers</td>\n",
        "      <td> 741</td>\n",
        "      <td> 561</td>\n",
        "      <td> 37</td>\n",
        "      <td> 0.567</td>\n",
        "      <td> 1921</td>\n",
        "      <td> 1339</td>\n",
        "      <td> NFC North</td>\n",
        "      <td> Levis's stadium</td>\n",
        "    </tr>\n",
        "    <tr>\n",
        "      <th>3</th>\n",
        "      <td> 4</td>\n",
        "      <td>    Miami Dolphins</td>\n",
        "      <td> 443</td>\n",
        "      <td> 345</td>\n",
        "      <td>  4</td>\n",
        "      <td> 0.562</td>\n",
        "      <td> 1966</td>\n",
        "      <td>  792</td>\n",
        "      <td>  AFC East</td>\n",
        "      <td> Levis's stadium</td>\n",
        "    </tr>\n",
        "  </tbody>\n",
        "</table>\n",
        "</div>"
       ],
       "metadata": {},
       "output_type": "pyout",
       "prompt_number": 43,
       "text": [
        "   Rank               Team  Won  Lost  Tied*   Pct.  First Season  \\\n",
        "0     1     Dallas Cowboys  510   378      6  0.574          1960   \n",
        "1     2      Chicago Bears  752   563     42  0.570          1920   \n",
        "2     3  Green Bay Packers  741   561     37  0.567          1921   \n",
        "3     4     Miami Dolphins  443   345      4  0.562          1966   \n",
        "\n",
        "   Total Games Conference          Stadium  \n",
        "0          894   NFC East  Levis's stadium  \n",
        "1         1357  NFC North  Levis's stadium  \n",
        "2         1339  NFC North  Levis's stadium  \n",
        "3          792   AFC East  Levis's stadium  "
       ]
      }
     ],
     "prompt_number": 43
    },
    {
     "cell_type": "code",
     "collapsed": false,
     "input": [
      "nfl['Stadium'] = np.arange(4)\n",
      "nfl"
     ],
     "language": "python",
     "metadata": {},
     "outputs": [
      {
       "html": [
        "<div style=\"max-height:1000px;max-width:1500px;overflow:auto;\">\n",
        "<table border=\"1\" class=\"dataframe\">\n",
        "  <thead>\n",
        "    <tr style=\"text-align: right;\">\n",
        "      <th></th>\n",
        "      <th>Rank</th>\n",
        "      <th>Team</th>\n",
        "      <th>Won</th>\n",
        "      <th>Lost</th>\n",
        "      <th>Tied*</th>\n",
        "      <th>Pct.</th>\n",
        "      <th>First Season</th>\n",
        "      <th>Total Games</th>\n",
        "      <th>Conference</th>\n",
        "      <th>Stadium</th>\n",
        "    </tr>\n",
        "  </thead>\n",
        "  <tbody>\n",
        "    <tr>\n",
        "      <th>0</th>\n",
        "      <td> 1</td>\n",
        "      <td>    Dallas Cowboys</td>\n",
        "      <td> 510</td>\n",
        "      <td> 378</td>\n",
        "      <td>  6</td>\n",
        "      <td> 0.574</td>\n",
        "      <td> 1960</td>\n",
        "      <td>  894</td>\n",
        "      <td>  NFC East</td>\n",
        "      <td> 0</td>\n",
        "    </tr>\n",
        "    <tr>\n",
        "      <th>1</th>\n",
        "      <td> 2</td>\n",
        "      <td>     Chicago Bears</td>\n",
        "      <td> 752</td>\n",
        "      <td> 563</td>\n",
        "      <td> 42</td>\n",
        "      <td> 0.570</td>\n",
        "      <td> 1920</td>\n",
        "      <td> 1357</td>\n",
        "      <td> NFC North</td>\n",
        "      <td> 1</td>\n",
        "    </tr>\n",
        "    <tr>\n",
        "      <th>2</th>\n",
        "      <td> 3</td>\n",
        "      <td> Green Bay Packers</td>\n",
        "      <td> 741</td>\n",
        "      <td> 561</td>\n",
        "      <td> 37</td>\n",
        "      <td> 0.567</td>\n",
        "      <td> 1921</td>\n",
        "      <td> 1339</td>\n",
        "      <td> NFC North</td>\n",
        "      <td> 2</td>\n",
        "    </tr>\n",
        "    <tr>\n",
        "      <th>3</th>\n",
        "      <td> 4</td>\n",
        "      <td>    Miami Dolphins</td>\n",
        "      <td> 443</td>\n",
        "      <td> 345</td>\n",
        "      <td>  4</td>\n",
        "      <td> 0.562</td>\n",
        "      <td> 1966</td>\n",
        "      <td>  792</td>\n",
        "      <td>  AFC East</td>\n",
        "      <td> 3</td>\n",
        "    </tr>\n",
        "  </tbody>\n",
        "</table>\n",
        "</div>"
       ],
       "metadata": {},
       "output_type": "pyout",
       "prompt_number": 45,
       "text": [
        "   Rank               Team  Won  Lost  Tied*   Pct.  First Season  \\\n",
        "0     1     Dallas Cowboys  510   378      6  0.574          1960   \n",
        "1     2      Chicago Bears  752   563     42  0.570          1920   \n",
        "2     3  Green Bay Packers  741   561     37  0.567          1921   \n",
        "3     4     Miami Dolphins  443   345      4  0.562          1966   \n",
        "\n",
        "   Total Games Conference  Stadium  \n",
        "0          894   NFC East        0  \n",
        "1         1357  NFC North        1  \n",
        "2         1339  NFC North        2  \n",
        "3          792   AFC East        3  "
       ]
      }
     ],
     "prompt_number": 45
    },
    {
     "cell_type": "code",
     "collapsed": false,
     "input": [
      "stadiums = Series([\"Levi's Stadium\",\"AT&T Stadium\"],index=[2,0])\n",
      "stadiums"
     ],
     "language": "python",
     "metadata": {},
     "outputs": [
      {
       "metadata": {},
       "output_type": "pyout",
       "prompt_number": 46,
       "text": [
        "2    Levi's Stadium\n",
        "0      AT&T Stadium\n",
        "dtype: object"
       ]
      }
     ],
     "prompt_number": 46
    },
    {
     "cell_type": "code",
     "collapsed": false,
     "input": [
      "nfl['Stadium'] = stadiums\n",
      "nfl"
     ],
     "language": "python",
     "metadata": {},
     "outputs": [
      {
       "html": [
        "<div style=\"max-height:1000px;max-width:1500px;overflow:auto;\">\n",
        "<table border=\"1\" class=\"dataframe\">\n",
        "  <thead>\n",
        "    <tr style=\"text-align: right;\">\n",
        "      <th></th>\n",
        "      <th>Rank</th>\n",
        "      <th>Team</th>\n",
        "      <th>Won</th>\n",
        "      <th>Lost</th>\n",
        "      <th>Tied*</th>\n",
        "      <th>Pct.</th>\n",
        "      <th>First Season</th>\n",
        "      <th>Total Games</th>\n",
        "      <th>Conference</th>\n",
        "      <th>Stadium</th>\n",
        "    </tr>\n",
        "  </thead>\n",
        "  <tbody>\n",
        "    <tr>\n",
        "      <th>0</th>\n",
        "      <td> 1</td>\n",
        "      <td>    Dallas Cowboys</td>\n",
        "      <td> 510</td>\n",
        "      <td> 378</td>\n",
        "      <td>  6</td>\n",
        "      <td> 0.574</td>\n",
        "      <td> 1960</td>\n",
        "      <td>  894</td>\n",
        "      <td>  NFC East</td>\n",
        "      <td>   AT&amp;T Stadium</td>\n",
        "    </tr>\n",
        "    <tr>\n",
        "      <th>1</th>\n",
        "      <td> 2</td>\n",
        "      <td>     Chicago Bears</td>\n",
        "      <td> 752</td>\n",
        "      <td> 563</td>\n",
        "      <td> 42</td>\n",
        "      <td> 0.570</td>\n",
        "      <td> 1920</td>\n",
        "      <td> 1357</td>\n",
        "      <td> NFC North</td>\n",
        "      <td>            NaN</td>\n",
        "    </tr>\n",
        "    <tr>\n",
        "      <th>2</th>\n",
        "      <td> 3</td>\n",
        "      <td> Green Bay Packers</td>\n",
        "      <td> 741</td>\n",
        "      <td> 561</td>\n",
        "      <td> 37</td>\n",
        "      <td> 0.567</td>\n",
        "      <td> 1921</td>\n",
        "      <td> 1339</td>\n",
        "      <td> NFC North</td>\n",
        "      <td> Levi's Stadium</td>\n",
        "    </tr>\n",
        "    <tr>\n",
        "      <th>3</th>\n",
        "      <td> 4</td>\n",
        "      <td>    Miami Dolphins</td>\n",
        "      <td> 443</td>\n",
        "      <td> 345</td>\n",
        "      <td>  4</td>\n",
        "      <td> 0.562</td>\n",
        "      <td> 1966</td>\n",
        "      <td>  792</td>\n",
        "      <td>  AFC East</td>\n",
        "      <td>            NaN</td>\n",
        "    </tr>\n",
        "  </tbody>\n",
        "</table>\n",
        "</div>"
       ],
       "metadata": {},
       "output_type": "pyout",
       "prompt_number": 47,
       "text": [
        "   Rank               Team  Won  Lost  Tied*   Pct.  First Season  \\\n",
        "0     1     Dallas Cowboys  510   378      6  0.574          1960   \n",
        "1     2      Chicago Bears  752   563     42  0.570          1920   \n",
        "2     3  Green Bay Packers  741   561     37  0.567          1921   \n",
        "3     4     Miami Dolphins  443   345      4  0.562          1966   \n",
        "\n",
        "   Total Games Conference         Stadium  \n",
        "0          894   NFC East    AT&T Stadium  \n",
        "1         1357  NFC North             NaN  \n",
        "2         1339  NFC North  Levi's Stadium  \n",
        "3          792   AFC East             NaN  "
       ]
      }
     ],
     "prompt_number": 47
    },
    {
     "cell_type": "code",
     "collapsed": false,
     "input": [
      "del nfl['Stadium']\n",
      "nfl"
     ],
     "language": "python",
     "metadata": {},
     "outputs": [
      {
       "html": [
        "<div style=\"max-height:1000px;max-width:1500px;overflow:auto;\">\n",
        "<table border=\"1\" class=\"dataframe\">\n",
        "  <thead>\n",
        "    <tr style=\"text-align: right;\">\n",
        "      <th></th>\n",
        "      <th>Rank</th>\n",
        "      <th>Team</th>\n",
        "      <th>Won</th>\n",
        "      <th>Lost</th>\n",
        "      <th>Tied*</th>\n",
        "      <th>Pct.</th>\n",
        "      <th>First Season</th>\n",
        "      <th>Total Games</th>\n",
        "      <th>Conference</th>\n",
        "    </tr>\n",
        "  </thead>\n",
        "  <tbody>\n",
        "    <tr>\n",
        "      <th>0</th>\n",
        "      <td> 1</td>\n",
        "      <td>    Dallas Cowboys</td>\n",
        "      <td> 510</td>\n",
        "      <td> 378</td>\n",
        "      <td>  6</td>\n",
        "      <td> 0.574</td>\n",
        "      <td> 1960</td>\n",
        "      <td>  894</td>\n",
        "      <td>  NFC East</td>\n",
        "    </tr>\n",
        "    <tr>\n",
        "      <th>1</th>\n",
        "      <td> 2</td>\n",
        "      <td>     Chicago Bears</td>\n",
        "      <td> 752</td>\n",
        "      <td> 563</td>\n",
        "      <td> 42</td>\n",
        "      <td> 0.570</td>\n",
        "      <td> 1920</td>\n",
        "      <td> 1357</td>\n",
        "      <td> NFC North</td>\n",
        "    </tr>\n",
        "    <tr>\n",
        "      <th>2</th>\n",
        "      <td> 3</td>\n",
        "      <td> Green Bay Packers</td>\n",
        "      <td> 741</td>\n",
        "      <td> 561</td>\n",
        "      <td> 37</td>\n",
        "      <td> 0.567</td>\n",
        "      <td> 1921</td>\n",
        "      <td> 1339</td>\n",
        "      <td> NFC North</td>\n",
        "    </tr>\n",
        "    <tr>\n",
        "      <th>3</th>\n",
        "      <td> 4</td>\n",
        "      <td>    Miami Dolphins</td>\n",
        "      <td> 443</td>\n",
        "      <td> 345</td>\n",
        "      <td>  4</td>\n",
        "      <td> 0.562</td>\n",
        "      <td> 1966</td>\n",
        "      <td>  792</td>\n",
        "      <td>  AFC East</td>\n",
        "    </tr>\n",
        "  </tbody>\n",
        "</table>\n",
        "</div>"
       ],
       "metadata": {},
       "output_type": "pyout",
       "prompt_number": 48,
       "text": [
        "   Rank               Team  Won  Lost  Tied*   Pct.  First Season  \\\n",
        "0     1     Dallas Cowboys  510   378      6  0.574          1960   \n",
        "1     2      Chicago Bears  752   563     42  0.570          1920   \n",
        "2     3  Green Bay Packers  741   561     37  0.567          1921   \n",
        "3     4     Miami Dolphins  443   345      4  0.562          1966   \n",
        "\n",
        "   Total Games Conference  \n",
        "0          894   NFC East  \n",
        "1         1357  NFC North  \n",
        "2         1339  NFC North  \n",
        "3          792   AFC East  "
       ]
      }
     ],
     "prompt_number": 48
    },
    {
     "cell_type": "code",
     "collapsed": false,
     "input": [
      "data = {'City':['SF','LA','NYC'],\n",
      "        'Population':[837000,3880000,8400000]}\n",
      "\n",
      "city=DataFrame(data)\n",
      "\n",
      "city"
     ],
     "language": "python",
     "metadata": {},
     "outputs": [
      {
       "html": [
        "<div style=\"max-height:1000px;max-width:1500px;overflow:auto;\">\n",
        "<table border=\"1\" class=\"dataframe\">\n",
        "  <thead>\n",
        "    <tr style=\"text-align: right;\">\n",
        "      <th></th>\n",
        "      <th>City</th>\n",
        "      <th>Population</th>\n",
        "    </tr>\n",
        "  </thead>\n",
        "  <tbody>\n",
        "    <tr>\n",
        "      <th>0</th>\n",
        "      <td>  SF</td>\n",
        "      <td>  837000</td>\n",
        "    </tr>\n",
        "    <tr>\n",
        "      <th>1</th>\n",
        "      <td>  LA</td>\n",
        "      <td> 3880000</td>\n",
        "    </tr>\n",
        "    <tr>\n",
        "      <th>2</th>\n",
        "      <td> NYC</td>\n",
        "      <td> 8400000</td>\n",
        "    </tr>\n",
        "  </tbody>\n",
        "</table>\n",
        "</div>"
       ],
       "metadata": {},
       "output_type": "pyout",
       "prompt_number": 49,
       "text": [
        "  City  Population\n",
        "0   SF      837000\n",
        "1   LA     3880000\n",
        "2  NYC     8400000"
       ]
      }
     ],
     "prompt_number": 49
    },
    {
     "cell_type": "code",
     "collapsed": false,
     "input": [
      "#For full list of ways to create DataFrames from various sources go to teh documentation for pandas:\n",
      "website = 'http://pandas.pydata.org/pandas-docs/dev/generated/pandas.DataFrame.html'\n",
      "webbrowser.open(website)"
     ],
     "language": "python",
     "metadata": {},
     "outputs": [
      {
       "metadata": {},
       "output_type": "pyout",
       "prompt_number": 50,
       "text": [
        "True"
       ]
      }
     ],
     "prompt_number": 50
    },
    {
     "cell_type": "markdown",
     "metadata": {},
     "source": [
      "#Lecture 3"
     ]
    },
    {
     "cell_type": "code",
     "collapsed": false,
     "input": [
      "my_ser = Series([1,2,3,4], index=['A','B','C','D'])\n",
      "my_ser"
     ],
     "language": "python",
     "metadata": {},
     "outputs": [
      {
       "metadata": {},
       "output_type": "pyout",
       "prompt_number": 6,
       "text": [
        "A    1\n",
        "B    2\n",
        "C    3\n",
        "D    4\n",
        "dtype: int64"
       ]
      }
     ],
     "prompt_number": 6
    },
    {
     "cell_type": "code",
     "collapsed": false,
     "input": [
      "my_index = my_ser.index\n",
      "my_index"
     ],
     "language": "python",
     "metadata": {},
     "outputs": [
      {
       "metadata": {},
       "output_type": "pyout",
       "prompt_number": 7,
       "text": [
        "Index([u'A', u'B', u'C', u'D'], dtype='object')"
       ]
      }
     ],
     "prompt_number": 7
    },
    {
     "cell_type": "code",
     "collapsed": false,
     "input": [
      "my_index[2:]"
     ],
     "language": "python",
     "metadata": {},
     "outputs": [
      {
       "metadata": {},
       "output_type": "pyout",
       "prompt_number": 8,
       "text": [
        "Index([u'C', u'D'], dtype='object')"
       ]
      }
     ],
     "prompt_number": 8
    },
    {
     "cell_type": "code",
     "collapsed": false,
     "input": [
      "my_index[0] = 'Z'"
     ],
     "language": "python",
     "metadata": {},
     "outputs": [
      {
       "ename": "TypeError",
       "evalue": "'<class 'pandas.core.index.Index'>' does not support mutable operations.",
       "output_type": "pyerr",
       "traceback": [
        "\u001b[1;31m---------------------------------------------------------------------------\u001b[0m\n\u001b[1;31mTypeError\u001b[0m                                 Traceback (most recent call last)",
        "\u001b[1;32m<ipython-input-9-92ae0de335f8>\u001b[0m in \u001b[0;36m<module>\u001b[1;34m()\u001b[0m\n\u001b[1;32m----> 1\u001b[1;33m \u001b[0mmy_index\u001b[0m\u001b[1;33m[\u001b[0m\u001b[1;36m0\u001b[0m\u001b[1;33m]\u001b[0m \u001b[1;33m=\u001b[0m \u001b[1;34m'Z'\u001b[0m\u001b[1;33m\u001b[0m\u001b[0m\n\u001b[0m",
        "\u001b[1;32mC:\\Users\\Fabio\\Anaconda\\lib\\site-packages\\pandas\\core\\base.pyc\u001b[0m in \u001b[0;36m_disabled\u001b[1;34m(self, *args, **kwargs)\u001b[0m\n\u001b[0;32m    180\u001b[0m         \u001b[1;34m\"\"\"This method will not function because object is immutable.\"\"\"\u001b[0m\u001b[1;33m\u001b[0m\u001b[0m\n\u001b[0;32m    181\u001b[0m         raise TypeError(\"'%s' does not support mutable operations.\" %\n\u001b[1;32m--> 182\u001b[1;33m                         self.__class__)\n\u001b[0m\u001b[0;32m    183\u001b[0m \u001b[1;33m\u001b[0m\u001b[0m\n\u001b[0;32m    184\u001b[0m     \u001b[0m__setitem__\u001b[0m \u001b[1;33m=\u001b[0m \u001b[0m__setslice__\u001b[0m \u001b[1;33m=\u001b[0m \u001b[0m__delitem__\u001b[0m \u001b[1;33m=\u001b[0m \u001b[0m__delslice__\u001b[0m \u001b[1;33m=\u001b[0m \u001b[0m_disabled\u001b[0m\u001b[1;33m\u001b[0m\u001b[0m\n",
        "\u001b[1;31mTypeError\u001b[0m: '<class 'pandas.core.index.Index'>' does not support mutable operations."
       ]
      }
     ],
     "prompt_number": 9
    },
    {
     "cell_type": "code",
     "collapsed": false,
     "input": [
      "ser_2 = my_ser.reindex(['A','B','C','D','E','F'])\n",
      "ser_2"
     ],
     "language": "python",
     "metadata": {},
     "outputs": [
      {
       "metadata": {},
       "output_type": "pyout",
       "prompt_number": 12,
       "text": [
        "A     1\n",
        "B     2\n",
        "C     3\n",
        "D     4\n",
        "E   NaN\n",
        "F   NaN\n",
        "dtype: float64"
       ]
      }
     ],
     "prompt_number": 12
    },
    {
     "cell_type": "code",
     "collapsed": false,
     "input": [
      "ser_2.reindex(['A','B','C','D','E','F','G'],fill_value=0)"
     ],
     "language": "python",
     "metadata": {},
     "outputs": [
      {
       "metadata": {},
       "output_type": "pyout",
       "prompt_number": 14,
       "text": [
        "A     1\n",
        "B     2\n",
        "C     3\n",
        "D     4\n",
        "E   NaN\n",
        "F   NaN\n",
        "G     0\n",
        "dtype: float64"
       ]
      }
     ],
     "prompt_number": 14
    },
    {
     "cell_type": "code",
     "collapsed": false,
     "input": [
      "ser_3 = Series(['USA','Mexico','Canada'],index=[0,3,10])\n",
      "ser_3"
     ],
     "language": "python",
     "metadata": {},
     "outputs": [
      {
       "metadata": {},
       "output_type": "pyout",
       "prompt_number": 23,
       "text": [
        "0        USA\n",
        "3     Mexico\n",
        "10    Canada\n",
        "dtype: object"
       ]
      }
     ],
     "prompt_number": 23
    },
    {
     "cell_type": "code",
     "collapsed": false,
     "input": [
      "#forward fill -> \n",
      "ser_3.reindex(range(15),method='ffill')\n"
     ],
     "language": "python",
     "metadata": {},
     "outputs": [
      {
       "metadata": {},
       "output_type": "pyout",
       "prompt_number": 25,
       "text": [
        "0        USA\n",
        "1        USA\n",
        "2        USA\n",
        "3     Mexico\n",
        "4     Mexico\n",
        "5     Mexico\n",
        "6     Mexico\n",
        "7     Mexico\n",
        "8     Mexico\n",
        "9     Mexico\n",
        "10    Canada\n",
        "11    Canada\n",
        "12    Canada\n",
        "13    Canada\n",
        "14    Canada\n",
        "dtype: object"
       ]
      }
     ],
     "prompt_number": 25
    },
    {
     "cell_type": "code",
     "collapsed": false,
     "input": [
      "dframe = DataFrame(randn(25).reshape((5,5)),index=['A','B','D','E','F'],columns=['col1','col2','col3','col4','col5'])\n",
      "\n",
      "#Show\n",
      "dframe"
     ],
     "language": "python",
     "metadata": {},
     "outputs": [
      {
       "html": [
        "<div style=\"max-height:1000px;max-width:1500px;overflow:auto;\">\n",
        "<table border=\"1\" class=\"dataframe\">\n",
        "  <thead>\n",
        "    <tr style=\"text-align: right;\">\n",
        "      <th></th>\n",
        "      <th>col1</th>\n",
        "      <th>col2</th>\n",
        "      <th>col3</th>\n",
        "      <th>col4</th>\n",
        "      <th>col5</th>\n",
        "    </tr>\n",
        "  </thead>\n",
        "  <tbody>\n",
        "    <tr>\n",
        "      <th>A</th>\n",
        "      <td> 0.124991</td>\n",
        "      <td> 0.711871</td>\n",
        "      <td>-0.334201</td>\n",
        "      <td>-1.375417</td>\n",
        "      <td> 0.085972</td>\n",
        "    </tr>\n",
        "    <tr>\n",
        "      <th>B</th>\n",
        "      <td>-1.973487</td>\n",
        "      <td>-0.447761</td>\n",
        "      <td>-1.127489</td>\n",
        "      <td>-1.297472</td>\n",
        "      <td> 0.769919</td>\n",
        "    </tr>\n",
        "    <tr>\n",
        "      <th>D</th>\n",
        "      <td> 0.331138</td>\n",
        "      <td>-1.182104</td>\n",
        "      <td>-0.652455</td>\n",
        "      <td>-0.787272</td>\n",
        "      <td> 0.584078</td>\n",
        "    </tr>\n",
        "    <tr>\n",
        "      <th>E</th>\n",
        "      <td> 0.293480</td>\n",
        "      <td>-1.400592</td>\n",
        "      <td> 0.652881</td>\n",
        "      <td> 1.073671</td>\n",
        "      <td> 0.151215</td>\n",
        "    </tr>\n",
        "    <tr>\n",
        "      <th>F</th>\n",
        "      <td> 0.855380</td>\n",
        "      <td> 1.112555</td>\n",
        "      <td> 0.857606</td>\n",
        "      <td> 0.105873</td>\n",
        "      <td> 0.962984</td>\n",
        "    </tr>\n",
        "  </tbody>\n",
        "</table>\n",
        "</div>"
       ],
       "metadata": {},
       "output_type": "pyout",
       "prompt_number": 29,
       "text": [
        "       col1      col2      col3      col4      col5\n",
        "A  0.124991  0.711871 -0.334201 -1.375417  0.085972\n",
        "B -1.973487 -0.447761 -1.127489 -1.297472  0.769919\n",
        "D  0.331138 -1.182104 -0.652455 -0.787272  0.584078\n",
        "E  0.293480 -1.400592  0.652881  1.073671  0.151215\n",
        "F  0.855380  1.112555  0.857606  0.105873  0.962984"
       ]
      }
     ],
     "prompt_number": 29
    },
    {
     "cell_type": "code",
     "collapsed": false,
     "input": [
      "dframe2 = dframe.reindex(['A','B','C','D','E','F'])\n",
      "dframe2"
     ],
     "language": "python",
     "metadata": {},
     "outputs": [
      {
       "html": [
        "<div style=\"max-height:1000px;max-width:1500px;overflow:auto;\">\n",
        "<table border=\"1\" class=\"dataframe\">\n",
        "  <thead>\n",
        "    <tr style=\"text-align: right;\">\n",
        "      <th></th>\n",
        "      <th>col1</th>\n",
        "      <th>col2</th>\n",
        "      <th>col3</th>\n",
        "      <th>col4</th>\n",
        "      <th>col5</th>\n",
        "    </tr>\n",
        "  </thead>\n",
        "  <tbody>\n",
        "    <tr>\n",
        "      <th>A</th>\n",
        "      <td> 0.124991</td>\n",
        "      <td> 0.711871</td>\n",
        "      <td>-0.334201</td>\n",
        "      <td>-1.375417</td>\n",
        "      <td> 0.085972</td>\n",
        "    </tr>\n",
        "    <tr>\n",
        "      <th>B</th>\n",
        "      <td>-1.973487</td>\n",
        "      <td>-0.447761</td>\n",
        "      <td>-1.127489</td>\n",
        "      <td>-1.297472</td>\n",
        "      <td> 0.769919</td>\n",
        "    </tr>\n",
        "    <tr>\n",
        "      <th>C</th>\n",
        "      <td>      NaN</td>\n",
        "      <td>      NaN</td>\n",
        "      <td>      NaN</td>\n",
        "      <td>      NaN</td>\n",
        "      <td>      NaN</td>\n",
        "    </tr>\n",
        "    <tr>\n",
        "      <th>D</th>\n",
        "      <td> 0.331138</td>\n",
        "      <td>-1.182104</td>\n",
        "      <td>-0.652455</td>\n",
        "      <td>-0.787272</td>\n",
        "      <td> 0.584078</td>\n",
        "    </tr>\n",
        "    <tr>\n",
        "      <th>E</th>\n",
        "      <td> 0.293480</td>\n",
        "      <td>-1.400592</td>\n",
        "      <td> 0.652881</td>\n",
        "      <td> 1.073671</td>\n",
        "      <td> 0.151215</td>\n",
        "    </tr>\n",
        "    <tr>\n",
        "      <th>F</th>\n",
        "      <td> 0.855380</td>\n",
        "      <td> 1.112555</td>\n",
        "      <td> 0.857606</td>\n",
        "      <td> 0.105873</td>\n",
        "      <td> 0.962984</td>\n",
        "    </tr>\n",
        "  </tbody>\n",
        "</table>\n",
        "</div>"
       ],
       "metadata": {},
       "output_type": "pyout",
       "prompt_number": 30,
       "text": [
        "       col1      col2      col3      col4      col5\n",
        "A  0.124991  0.711871 -0.334201 -1.375417  0.085972\n",
        "B -1.973487 -0.447761 -1.127489 -1.297472  0.769919\n",
        "C       NaN       NaN       NaN       NaN       NaN\n",
        "D  0.331138 -1.182104 -0.652455 -0.787272  0.584078\n",
        "E  0.293480 -1.400592  0.652881  1.073671  0.151215\n",
        "F  0.855380  1.112555  0.857606  0.105873  0.962984"
       ]
      }
     ],
     "prompt_number": 30
    },
    {
     "cell_type": "code",
     "collapsed": false,
     "input": [
      "new_columns = ['col1','col2','col3','col4','col5','col6']\n",
      "\n",
      "dframe2.reindex(columns=new_columns)"
     ],
     "language": "python",
     "metadata": {},
     "outputs": [
      {
       "html": [
        "<div style=\"max-height:1000px;max-width:1500px;overflow:auto;\">\n",
        "<table border=\"1\" class=\"dataframe\">\n",
        "  <thead>\n",
        "    <tr style=\"text-align: right;\">\n",
        "      <th></th>\n",
        "      <th>col1</th>\n",
        "      <th>col2</th>\n",
        "      <th>col3</th>\n",
        "      <th>col4</th>\n",
        "      <th>col5</th>\n",
        "      <th>col6</th>\n",
        "    </tr>\n",
        "  </thead>\n",
        "  <tbody>\n",
        "    <tr>\n",
        "      <th>A</th>\n",
        "      <td> 0.124991</td>\n",
        "      <td> 0.711871</td>\n",
        "      <td>-0.334201</td>\n",
        "      <td>-1.375417</td>\n",
        "      <td> 0.085972</td>\n",
        "      <td>NaN</td>\n",
        "    </tr>\n",
        "    <tr>\n",
        "      <th>B</th>\n",
        "      <td>-1.973487</td>\n",
        "      <td>-0.447761</td>\n",
        "      <td>-1.127489</td>\n",
        "      <td>-1.297472</td>\n",
        "      <td> 0.769919</td>\n",
        "      <td>NaN</td>\n",
        "    </tr>\n",
        "    <tr>\n",
        "      <th>C</th>\n",
        "      <td>      NaN</td>\n",
        "      <td>      NaN</td>\n",
        "      <td>      NaN</td>\n",
        "      <td>      NaN</td>\n",
        "      <td>      NaN</td>\n",
        "      <td>NaN</td>\n",
        "    </tr>\n",
        "    <tr>\n",
        "      <th>D</th>\n",
        "      <td> 0.331138</td>\n",
        "      <td>-1.182104</td>\n",
        "      <td>-0.652455</td>\n",
        "      <td>-0.787272</td>\n",
        "      <td> 0.584078</td>\n",
        "      <td>NaN</td>\n",
        "    </tr>\n",
        "    <tr>\n",
        "      <th>E</th>\n",
        "      <td> 0.293480</td>\n",
        "      <td>-1.400592</td>\n",
        "      <td> 0.652881</td>\n",
        "      <td> 1.073671</td>\n",
        "      <td> 0.151215</td>\n",
        "      <td>NaN</td>\n",
        "    </tr>\n",
        "    <tr>\n",
        "      <th>F</th>\n",
        "      <td> 0.855380</td>\n",
        "      <td> 1.112555</td>\n",
        "      <td> 0.857606</td>\n",
        "      <td> 0.105873</td>\n",
        "      <td> 0.962984</td>\n",
        "      <td>NaN</td>\n",
        "    </tr>\n",
        "  </tbody>\n",
        "</table>\n",
        "</div>"
       ],
       "metadata": {},
       "output_type": "pyout",
       "prompt_number": 31,
       "text": [
        "       col1      col2      col3      col4      col5  col6\n",
        "A  0.124991  0.711871 -0.334201 -1.375417  0.085972   NaN\n",
        "B -1.973487 -0.447761 -1.127489 -1.297472  0.769919   NaN\n",
        "C       NaN       NaN       NaN       NaN       NaN   NaN\n",
        "D  0.331138 -1.182104 -0.652455 -0.787272  0.584078   NaN\n",
        "E  0.293480 -1.400592  0.652881  1.073671  0.151215   NaN\n",
        "F  0.855380  1.112555  0.857606  0.105873  0.962984   NaN"
       ]
      }
     ],
     "prompt_number": 31
    },
    {
     "cell_type": "code",
     "collapsed": false,
     "input": [
      "#reindex\n",
      "dframe.ix[['A','B','C','D','E','F'],new_columns]"
     ],
     "language": "python",
     "metadata": {},
     "outputs": [
      {
       "html": [
        "<div style=\"max-height:1000px;max-width:1500px;overflow:auto;\">\n",
        "<table border=\"1\" class=\"dataframe\">\n",
        "  <thead>\n",
        "    <tr style=\"text-align: right;\">\n",
        "      <th></th>\n",
        "      <th>col1</th>\n",
        "      <th>col2</th>\n",
        "      <th>col3</th>\n",
        "      <th>col4</th>\n",
        "      <th>col5</th>\n",
        "      <th>col6</th>\n",
        "    </tr>\n",
        "  </thead>\n",
        "  <tbody>\n",
        "    <tr>\n",
        "      <th>A</th>\n",
        "      <td> 0.124991</td>\n",
        "      <td> 0.711871</td>\n",
        "      <td>-0.334201</td>\n",
        "      <td>-1.375417</td>\n",
        "      <td> 0.085972</td>\n",
        "      <td>NaN</td>\n",
        "    </tr>\n",
        "    <tr>\n",
        "      <th>B</th>\n",
        "      <td>-1.973487</td>\n",
        "      <td>-0.447761</td>\n",
        "      <td>-1.127489</td>\n",
        "      <td>-1.297472</td>\n",
        "      <td> 0.769919</td>\n",
        "      <td>NaN</td>\n",
        "    </tr>\n",
        "    <tr>\n",
        "      <th>C</th>\n",
        "      <td>      NaN</td>\n",
        "      <td>      NaN</td>\n",
        "      <td>      NaN</td>\n",
        "      <td>      NaN</td>\n",
        "      <td>      NaN</td>\n",
        "      <td>NaN</td>\n",
        "    </tr>\n",
        "    <tr>\n",
        "      <th>D</th>\n",
        "      <td> 0.331138</td>\n",
        "      <td>-1.182104</td>\n",
        "      <td>-0.652455</td>\n",
        "      <td>-0.787272</td>\n",
        "      <td> 0.584078</td>\n",
        "      <td>NaN</td>\n",
        "    </tr>\n",
        "    <tr>\n",
        "      <th>E</th>\n",
        "      <td> 0.293480</td>\n",
        "      <td>-1.400592</td>\n",
        "      <td> 0.652881</td>\n",
        "      <td> 1.073671</td>\n",
        "      <td> 0.151215</td>\n",
        "      <td>NaN</td>\n",
        "    </tr>\n",
        "    <tr>\n",
        "      <th>F</th>\n",
        "      <td> 0.855380</td>\n",
        "      <td> 1.112555</td>\n",
        "      <td> 0.857606</td>\n",
        "      <td> 0.105873</td>\n",
        "      <td> 0.962984</td>\n",
        "      <td>NaN</td>\n",
        "    </tr>\n",
        "  </tbody>\n",
        "</table>\n",
        "</div>"
       ],
       "metadata": {},
       "output_type": "pyout",
       "prompt_number": 33,
       "text": [
        "       col1      col2      col3      col4      col5  col6\n",
        "A  0.124991  0.711871 -0.334201 -1.375417  0.085972   NaN\n",
        "B -1.973487 -0.447761 -1.127489 -1.297472  0.769919   NaN\n",
        "C       NaN       NaN       NaN       NaN       NaN   NaN\n",
        "D  0.331138 -1.182104 -0.652455 -0.787272  0.584078   NaN\n",
        "E  0.293480 -1.400592  0.652881  1.073671  0.151215   NaN\n",
        "F  0.855380  1.112555  0.857606  0.105873  0.962984   NaN"
       ]
      }
     ],
     "prompt_number": 33
    },
    {
     "cell_type": "markdown",
     "metadata": {},
     "source": [
      "#Drop entry"
     ]
    },
    {
     "cell_type": "code",
     "collapsed": false,
     "input": [
      "ser1 = Series(np.arange(3),index=['a','b','c'])\n",
      "ser1"
     ],
     "language": "python",
     "metadata": {},
     "outputs": [
      {
       "metadata": {},
       "output_type": "pyout",
       "prompt_number": 36,
       "text": [
        "a    0\n",
        "b    1\n",
        "c    2\n",
        "dtype: int32"
       ]
      }
     ],
     "prompt_number": 36
    },
    {
     "cell_type": "code",
     "collapsed": false,
     "input": [
      "#Now let's drop an index\n",
      "ser1.drop('b')\n"
     ],
     "language": "python",
     "metadata": {},
     "outputs": [
      {
       "metadata": {},
       "output_type": "pyout",
       "prompt_number": 37,
       "text": [
        "a    0\n",
        "c    2\n",
        "dtype: int32"
       ]
      }
     ],
     "prompt_number": 37
    },
    {
     "cell_type": "code",
     "collapsed": false,
     "input": [
      "dframe1 = DataFrame(np.arange(9).reshape((3,3)),index=['SF','LA','NY'],columns=['pop','size','year'])\n",
      "\n",
      "#Show (remember just random values)\n",
      "dframe1"
     ],
     "language": "python",
     "metadata": {},
     "outputs": [
      {
       "html": [
        "<div style=\"max-height:1000px;max-width:1500px;overflow:auto;\">\n",
        "<table border=\"1\" class=\"dataframe\">\n",
        "  <thead>\n",
        "    <tr style=\"text-align: right;\">\n",
        "      <th></th>\n",
        "      <th>pop</th>\n",
        "      <th>size</th>\n",
        "      <th>year</th>\n",
        "    </tr>\n",
        "  </thead>\n",
        "  <tbody>\n",
        "    <tr>\n",
        "      <th>SF</th>\n",
        "      <td> 0</td>\n",
        "      <td> 1</td>\n",
        "      <td> 2</td>\n",
        "    </tr>\n",
        "    <tr>\n",
        "      <th>LA</th>\n",
        "      <td> 3</td>\n",
        "      <td> 4</td>\n",
        "      <td> 5</td>\n",
        "    </tr>\n",
        "    <tr>\n",
        "      <th>NY</th>\n",
        "      <td> 6</td>\n",
        "      <td> 7</td>\n",
        "      <td> 8</td>\n",
        "    </tr>\n",
        "  </tbody>\n",
        "</table>\n",
        "</div>"
       ],
       "metadata": {},
       "output_type": "pyout",
       "prompt_number": 38,
       "text": [
        "    pop  size  year\n",
        "SF    0     1     2\n",
        "LA    3     4     5\n",
        "NY    6     7     8"
       ]
      }
     ],
     "prompt_number": 38
    },
    {
     "cell_type": "code",
     "collapsed": false,
     "input": [
      "#Now dropping a row\n",
      "# to be permanet you have to reassign the dataframe to another dataframe\n",
      "dframe1.drop('LA')"
     ],
     "language": "python",
     "metadata": {},
     "outputs": [
      {
       "html": [
        "<div style=\"max-height:1000px;max-width:1500px;overflow:auto;\">\n",
        "<table border=\"1\" class=\"dataframe\">\n",
        "  <thead>\n",
        "    <tr style=\"text-align: right;\">\n",
        "      <th></th>\n",
        "      <th>pop</th>\n",
        "      <th>size</th>\n",
        "      <th>year</th>\n",
        "    </tr>\n",
        "  </thead>\n",
        "  <tbody>\n",
        "    <tr>\n",
        "      <th>SF</th>\n",
        "      <td> 0</td>\n",
        "      <td> 1</td>\n",
        "      <td> 2</td>\n",
        "    </tr>\n",
        "    <tr>\n",
        "      <th>NY</th>\n",
        "      <td> 6</td>\n",
        "      <td> 7</td>\n",
        "      <td> 8</td>\n",
        "    </tr>\n",
        "  </tbody>\n",
        "</table>\n",
        "</div>"
       ],
       "metadata": {},
       "output_type": "pyout",
       "prompt_number": 39,
       "text": [
        "    pop  size  year\n",
        "SF    0     1     2\n",
        "NY    6     7     8"
       ]
      }
     ],
     "prompt_number": 39
    },
    {
     "cell_type": "code",
     "collapsed": false,
     "input": [
      "#Or we could drop a column\n",
      "\n",
      "#Need to specify that axis is 1, not 0\n",
      "dframe1.drop('year',axis=1)"
     ],
     "language": "python",
     "metadata": {},
     "outputs": [
      {
       "html": [
        "<div style=\"max-height:1000px;max-width:1500px;overflow:auto;\">\n",
        "<table border=\"1\" class=\"dataframe\">\n",
        "  <thead>\n",
        "    <tr style=\"text-align: right;\">\n",
        "      <th></th>\n",
        "      <th>pop</th>\n",
        "      <th>size</th>\n",
        "    </tr>\n",
        "  </thead>\n",
        "  <tbody>\n",
        "    <tr>\n",
        "      <th>SF</th>\n",
        "      <td> 0</td>\n",
        "      <td> 1</td>\n",
        "    </tr>\n",
        "    <tr>\n",
        "      <th>LA</th>\n",
        "      <td> 3</td>\n",
        "      <td> 4</td>\n",
        "    </tr>\n",
        "    <tr>\n",
        "      <th>NY</th>\n",
        "      <td> 6</td>\n",
        "      <td> 7</td>\n",
        "    </tr>\n",
        "  </tbody>\n",
        "</table>\n",
        "</div>"
       ],
       "metadata": {},
       "output_type": "pyout",
       "prompt_number": 40,
       "text": [
        "    pop  size\n",
        "SF    0     1\n",
        "LA    3     4\n",
        "NY    6     7"
       ]
      }
     ],
     "prompt_number": 40
    },
    {
     "cell_type": "markdown",
     "metadata": {},
     "source": [
      "# Selecting entries"
     ]
    },
    {
     "cell_type": "code",
     "collapsed": false,
     "input": [
      "#Lets try some Series indexing\n",
      "ser1 = Series(np.arange(3),index=['A','B','C'])\n",
      "\n",
      "#multiply all values by 2, to avoid confusion in future\n",
      "ser1 = 2*ser1\n",
      "\n",
      "#Show\n",
      "ser1 "
     ],
     "language": "python",
     "metadata": {},
     "outputs": [
      {
       "metadata": {},
       "output_type": "pyout",
       "prompt_number": 41,
       "text": [
        "A    0\n",
        "B    2\n",
        "C    4\n",
        "dtype: int32"
       ]
      }
     ],
     "prompt_number": 41
    },
    {
     "cell_type": "code",
     "collapsed": false,
     "input": [
      "#Can grab entry by index name\n",
      "ser1['B']"
     ],
     "language": "python",
     "metadata": {},
     "outputs": [
      {
       "metadata": {},
       "output_type": "pyout",
       "prompt_number": 43,
       "text": [
        "2"
       ]
      }
     ],
     "prompt_number": 43
    },
    {
     "cell_type": "code",
     "collapsed": false,
     "input": [
      "ser1[1]"
     ],
     "language": "python",
     "metadata": {},
     "outputs": [
      {
       "metadata": {},
       "output_type": "pyout",
       "prompt_number": 44,
       "text": [
        "2"
       ]
      }
     ],
     "prompt_number": 44
    },
    {
     "cell_type": "code",
     "collapsed": false,
     "input": [
      "ser1[0:3]"
     ],
     "language": "python",
     "metadata": {},
     "outputs": [
      {
       "metadata": {},
       "output_type": "pyout",
       "prompt_number": 45,
       "text": [
        "A    0\n",
        "B    2\n",
        "C    4\n",
        "dtype: int32"
       ]
      }
     ],
     "prompt_number": 45
    },
    {
     "cell_type": "code",
     "collapsed": false,
     "input": [
      "#Or grab range by range of index values\n",
      "ser1[['A','B','C']]"
     ],
     "language": "python",
     "metadata": {},
     "outputs": [
      {
       "metadata": {},
       "output_type": "pyout",
       "prompt_number": 46,
       "text": [
        "A    0\n",
        "B    2\n",
        "C    4\n",
        "dtype: int32"
       ]
      }
     ],
     "prompt_number": 46
    },
    {
     "cell_type": "code",
     "collapsed": false,
     "input": [
      "ser1[ser1>3]"
     ],
     "language": "python",
     "metadata": {},
     "outputs": [
      {
       "metadata": {},
       "output_type": "pyout",
       "prompt_number": 47,
       "text": [
        "C    4\n",
        "dtype: int32"
       ]
      }
     ],
     "prompt_number": 47
    },
    {
     "cell_type": "code",
     "collapsed": false,
     "input": [
      "ser1[ser1>3] = 10\n",
      "ser1"
     ],
     "language": "python",
     "metadata": {},
     "outputs": [
      {
       "metadata": {},
       "output_type": "pyout",
       "prompt_number": 49,
       "text": [
        "A     0\n",
        "B     2\n",
        "C    10\n",
        "dtype: int32"
       ]
      }
     ],
     "prompt_number": 49
    },
    {
     "cell_type": "code",
     "collapsed": false,
     "input": [
      "dframe = DataFrame(np.arange(25).reshape((5,5)),index=['NYC','LA','SF','DC','Chi'],columns=['A','B','C','D','E'])\n",
      "\n",
      "#Show\n",
      "dframe"
     ],
     "language": "python",
     "metadata": {},
     "outputs": [
      {
       "html": [
        "<div style=\"max-height:1000px;max-width:1500px;overflow:auto;\">\n",
        "<table border=\"1\" class=\"dataframe\">\n",
        "  <thead>\n",
        "    <tr style=\"text-align: right;\">\n",
        "      <th></th>\n",
        "      <th>A</th>\n",
        "      <th>B</th>\n",
        "      <th>C</th>\n",
        "      <th>D</th>\n",
        "      <th>E</th>\n",
        "    </tr>\n",
        "  </thead>\n",
        "  <tbody>\n",
        "    <tr>\n",
        "      <th>NYC</th>\n",
        "      <td>  0</td>\n",
        "      <td>  1</td>\n",
        "      <td>  2</td>\n",
        "      <td>  3</td>\n",
        "      <td>  4</td>\n",
        "    </tr>\n",
        "    <tr>\n",
        "      <th>LA</th>\n",
        "      <td>  5</td>\n",
        "      <td>  6</td>\n",
        "      <td>  7</td>\n",
        "      <td>  8</td>\n",
        "      <td>  9</td>\n",
        "    </tr>\n",
        "    <tr>\n",
        "      <th>SF</th>\n",
        "      <td> 10</td>\n",
        "      <td> 11</td>\n",
        "      <td> 12</td>\n",
        "      <td> 13</td>\n",
        "      <td> 14</td>\n",
        "    </tr>\n",
        "    <tr>\n",
        "      <th>DC</th>\n",
        "      <td> 15</td>\n",
        "      <td> 16</td>\n",
        "      <td> 17</td>\n",
        "      <td> 18</td>\n",
        "      <td> 19</td>\n",
        "    </tr>\n",
        "    <tr>\n",
        "      <th>Chi</th>\n",
        "      <td> 20</td>\n",
        "      <td> 21</td>\n",
        "      <td> 22</td>\n",
        "      <td> 23</td>\n",
        "      <td> 24</td>\n",
        "    </tr>\n",
        "  </tbody>\n",
        "</table>\n",
        "</div>"
       ],
       "metadata": {},
       "output_type": "pyout",
       "prompt_number": 50,
       "text": [
        "      A   B   C   D   E\n",
        "NYC   0   1   2   3   4\n",
        "LA    5   6   7   8   9\n",
        "SF   10  11  12  13  14\n",
        "DC   15  16  17  18  19\n",
        "Chi  20  21  22  23  24"
       ]
      }
     ],
     "prompt_number": 50
    },
    {
     "cell_type": "code",
     "collapsed": false,
     "input": [
      "#Select by column name\n",
      "dframe['B']"
     ],
     "language": "python",
     "metadata": {},
     "outputs": [
      {
       "metadata": {},
       "output_type": "pyout",
       "prompt_number": 51,
       "text": [
        "NYC     1\n",
        "LA      6\n",
        "SF     11\n",
        "DC     16\n",
        "Chi    21\n",
        "Name: B, dtype: int32"
       ]
      }
     ],
     "prompt_number": 51
    },
    {
     "cell_type": "code",
     "collapsed": false,
     "input": [
      "#Select by multiple columns\n",
      "dframe[['B','E']]"
     ],
     "language": "python",
     "metadata": {},
     "outputs": [
      {
       "html": [
        "<div style=\"max-height:1000px;max-width:1500px;overflow:auto;\">\n",
        "<table border=\"1\" class=\"dataframe\">\n",
        "  <thead>\n",
        "    <tr style=\"text-align: right;\">\n",
        "      <th></th>\n",
        "      <th>B</th>\n",
        "      <th>E</th>\n",
        "    </tr>\n",
        "  </thead>\n",
        "  <tbody>\n",
        "    <tr>\n",
        "      <th>NYC</th>\n",
        "      <td>  1</td>\n",
        "      <td>  4</td>\n",
        "    </tr>\n",
        "    <tr>\n",
        "      <th>LA</th>\n",
        "      <td>  6</td>\n",
        "      <td>  9</td>\n",
        "    </tr>\n",
        "    <tr>\n",
        "      <th>SF</th>\n",
        "      <td> 11</td>\n",
        "      <td> 14</td>\n",
        "    </tr>\n",
        "    <tr>\n",
        "      <th>DC</th>\n",
        "      <td> 16</td>\n",
        "      <td> 19</td>\n",
        "    </tr>\n",
        "    <tr>\n",
        "      <th>Chi</th>\n",
        "      <td> 21</td>\n",
        "      <td> 24</td>\n",
        "    </tr>\n",
        "  </tbody>\n",
        "</table>\n",
        "</div>"
       ],
       "metadata": {},
       "output_type": "pyout",
       "prompt_number": 52,
       "text": [
        "      B   E\n",
        "NYC   1   4\n",
        "LA    6   9\n",
        "SF   11  14\n",
        "DC   16  19\n",
        "Chi  21  24"
       ]
      }
     ],
     "prompt_number": 52
    },
    {
     "cell_type": "code",
     "collapsed": false,
     "input": [
      "#Can also use boolean\n",
      "dframe[dframe['C']>8]"
     ],
     "language": "python",
     "metadata": {},
     "outputs": [
      {
       "html": [
        "<div style=\"max-height:1000px;max-width:1500px;overflow:auto;\">\n",
        "<table border=\"1\" class=\"dataframe\">\n",
        "  <thead>\n",
        "    <tr style=\"text-align: right;\">\n",
        "      <th></th>\n",
        "      <th>A</th>\n",
        "      <th>B</th>\n",
        "      <th>C</th>\n",
        "      <th>D</th>\n",
        "      <th>E</th>\n",
        "    </tr>\n",
        "  </thead>\n",
        "  <tbody>\n",
        "    <tr>\n",
        "      <th>SF</th>\n",
        "      <td> 10</td>\n",
        "      <td> 11</td>\n",
        "      <td> 12</td>\n",
        "      <td> 13</td>\n",
        "      <td> 14</td>\n",
        "    </tr>\n",
        "    <tr>\n",
        "      <th>DC</th>\n",
        "      <td> 15</td>\n",
        "      <td> 16</td>\n",
        "      <td> 17</td>\n",
        "      <td> 18</td>\n",
        "      <td> 19</td>\n",
        "    </tr>\n",
        "    <tr>\n",
        "      <th>Chi</th>\n",
        "      <td> 20</td>\n",
        "      <td> 21</td>\n",
        "      <td> 22</td>\n",
        "      <td> 23</td>\n",
        "      <td> 24</td>\n",
        "    </tr>\n",
        "  </tbody>\n",
        "</table>\n",
        "</div>"
       ],
       "metadata": {},
       "output_type": "pyout",
       "prompt_number": 53,
       "text": [
        "      A   B   C   D   E\n",
        "SF   10  11  12  13  14\n",
        "DC   15  16  17  18  19\n",
        "Chi  20  21  22  23  24"
       ]
      }
     ],
     "prompt_number": 53
    },
    {
     "cell_type": "code",
     "collapsed": false,
     "input": [
      "#Can also just shoe a boolean DataFrame\n",
      "dframe> 10"
     ],
     "language": "python",
     "metadata": {},
     "outputs": [
      {
       "html": [
        "<div style=\"max-height:1000px;max-width:1500px;overflow:auto;\">\n",
        "<table border=\"1\" class=\"dataframe\">\n",
        "  <thead>\n",
        "    <tr style=\"text-align: right;\">\n",
        "      <th></th>\n",
        "      <th>A</th>\n",
        "      <th>B</th>\n",
        "      <th>C</th>\n",
        "      <th>D</th>\n",
        "      <th>E</th>\n",
        "    </tr>\n",
        "  </thead>\n",
        "  <tbody>\n",
        "    <tr>\n",
        "      <th>NYC</th>\n",
        "      <td> False</td>\n",
        "      <td> False</td>\n",
        "      <td> False</td>\n",
        "      <td> False</td>\n",
        "      <td> False</td>\n",
        "    </tr>\n",
        "    <tr>\n",
        "      <th>LA</th>\n",
        "      <td> False</td>\n",
        "      <td> False</td>\n",
        "      <td> False</td>\n",
        "      <td> False</td>\n",
        "      <td> False</td>\n",
        "    </tr>\n",
        "    <tr>\n",
        "      <th>SF</th>\n",
        "      <td> False</td>\n",
        "      <td>  True</td>\n",
        "      <td>  True</td>\n",
        "      <td>  True</td>\n",
        "      <td>  True</td>\n",
        "    </tr>\n",
        "    <tr>\n",
        "      <th>DC</th>\n",
        "      <td>  True</td>\n",
        "      <td>  True</td>\n",
        "      <td>  True</td>\n",
        "      <td>  True</td>\n",
        "      <td>  True</td>\n",
        "    </tr>\n",
        "    <tr>\n",
        "      <th>Chi</th>\n",
        "      <td>  True</td>\n",
        "      <td>  True</td>\n",
        "      <td>  True</td>\n",
        "      <td>  True</td>\n",
        "      <td>  True</td>\n",
        "    </tr>\n",
        "  </tbody>\n",
        "</table>\n",
        "</div>"
       ],
       "metadata": {},
       "output_type": "pyout",
       "prompt_number": 54,
       "text": [
        "         A      B      C      D      E\n",
        "NYC  False  False  False  False  False\n",
        "LA   False  False  False  False  False\n",
        "SF   False   True   True   True   True\n",
        "DC    True   True   True   True   True\n",
        "Chi   True   True   True   True   True"
       ]
      }
     ],
     "prompt_number": 54
    },
    {
     "cell_type": "code",
     "collapsed": false,
     "input": [
      "#Can alos use ix as previously discussed to label-index\n",
      "dframe.ix['LA']"
     ],
     "language": "python",
     "metadata": {},
     "outputs": [
      {
       "metadata": {},
       "output_type": "pyout",
       "prompt_number": 55,
       "text": [
        "A    5\n",
        "B    6\n",
        "C    7\n",
        "D    8\n",
        "E    9\n",
        "Name: LA, dtype: int32"
       ]
      }
     ],
     "prompt_number": 55
    },
    {
     "cell_type": "code",
     "collapsed": false,
     "input": [
      "#Another example\n",
      "dframe.ix[1]"
     ],
     "language": "python",
     "metadata": {},
     "outputs": [
      {
       "metadata": {},
       "output_type": "pyout",
       "prompt_number": 56,
       "text": [
        "A    5\n",
        "B    6\n",
        "C    7\n",
        "D    8\n",
        "E    9\n",
        "Name: LA, dtype: int32"
       ]
      }
     ],
     "prompt_number": 56
    },
    {
     "cell_type": "markdown",
     "metadata": {},
     "source": [
      "# Data Allignment"
     ]
    },
    {
     "cell_type": "code",
     "collapsed": false,
     "input": [
      "#Lets start by making two Series\n",
      "\n",
      "ser1 = Series([0,1,2],index=['A','B','C'])\n",
      "\n",
      "#Show\n",
      "ser1"
     ],
     "language": "python",
     "metadata": {},
     "outputs": [
      {
       "metadata": {},
       "output_type": "pyout",
       "prompt_number": 58,
       "text": [
        "A    0\n",
        "B    1\n",
        "C    2\n",
        "dtype: int64"
       ]
      }
     ],
     "prompt_number": 58
    },
    {
     "cell_type": "code",
     "collapsed": false,
     "input": [
      "#Now second Series 2\n",
      "ser2 = Series([3,4,5,6],index=['A','B','C','D'])\n",
      "\n",
      "#Show \n",
      "ser2 "
     ],
     "language": "python",
     "metadata": {},
     "outputs": [
      {
       "metadata": {},
       "output_type": "pyout",
       "prompt_number": 59,
       "text": [
        "A    3\n",
        "B    4\n",
        "C    5\n",
        "D    6\n",
        "dtype: int64"
       ]
      }
     ],
     "prompt_number": 59
    },
    {
     "cell_type": "code",
     "collapsed": false,
     "input": [
      "#So what happens when we add these together\n",
      "ser1 + ser2"
     ],
     "language": "python",
     "metadata": {},
     "outputs": [
      {
       "metadata": {},
       "output_type": "pyout",
       "prompt_number": 60,
       "text": [
        "A     3\n",
        "B     5\n",
        "C     7\n",
        "D   NaN\n",
        "dtype: float64"
       ]
      }
     ],
     "prompt_number": 60
    },
    {
     "cell_type": "code",
     "collapsed": false,
     "input": [
      "# Now let's try it with DataFrames!\n",
      "dframe1 = DataFrame(np.arange(4).reshape(2,2),columns=list('AB'),index=['NYC','LA'])\n",
      "\n",
      "#Show\n",
      "dframe1"
     ],
     "language": "python",
     "metadata": {},
     "outputs": [
      {
       "html": [
        "<div style=\"max-height:1000px;max-width:1500px;overflow:auto;\">\n",
        "<table border=\"1\" class=\"dataframe\">\n",
        "  <thead>\n",
        "    <tr style=\"text-align: right;\">\n",
        "      <th></th>\n",
        "      <th>A</th>\n",
        "      <th>B</th>\n",
        "    </tr>\n",
        "  </thead>\n",
        "  <tbody>\n",
        "    <tr>\n",
        "      <th>NYC</th>\n",
        "      <td> 0</td>\n",
        "      <td> 1</td>\n",
        "    </tr>\n",
        "    <tr>\n",
        "      <th>LA</th>\n",
        "      <td> 2</td>\n",
        "      <td> 3</td>\n",
        "    </tr>\n",
        "  </tbody>\n",
        "</table>\n",
        "</div>"
       ],
       "metadata": {},
       "output_type": "pyout",
       "prompt_number": 61,
       "text": [
        "     A  B\n",
        "NYC  0  1\n",
        "LA   2  3"
       ]
      }
     ],
     "prompt_number": 61
    },
    {
     "cell_type": "code",
     "collapsed": false,
     "input": [
      "#Second DataFrame\n",
      "dframe2 = DataFrame(np.arange(9).reshape(3,3),columns=list('ADC'),index=['NYC','SF','LA'])\n",
      "\n",
      "#Show\n",
      "dframe2"
     ],
     "language": "python",
     "metadata": {},
     "outputs": [
      {
       "html": [
        "<div style=\"max-height:1000px;max-width:1500px;overflow:auto;\">\n",
        "<table border=\"1\" class=\"dataframe\">\n",
        "  <thead>\n",
        "    <tr style=\"text-align: right;\">\n",
        "      <th></th>\n",
        "      <th>A</th>\n",
        "      <th>D</th>\n",
        "      <th>C</th>\n",
        "    </tr>\n",
        "  </thead>\n",
        "  <tbody>\n",
        "    <tr>\n",
        "      <th>NYC</th>\n",
        "      <td> 0</td>\n",
        "      <td> 1</td>\n",
        "      <td> 2</td>\n",
        "    </tr>\n",
        "    <tr>\n",
        "      <th>SF</th>\n",
        "      <td> 3</td>\n",
        "      <td> 4</td>\n",
        "      <td> 5</td>\n",
        "    </tr>\n",
        "    <tr>\n",
        "      <th>LA</th>\n",
        "      <td> 6</td>\n",
        "      <td> 7</td>\n",
        "      <td> 8</td>\n",
        "    </tr>\n",
        "  </tbody>\n",
        "</table>\n",
        "</div>"
       ],
       "metadata": {},
       "output_type": "pyout",
       "prompt_number": 62,
       "text": [
        "     A  D  C\n",
        "NYC  0  1  2\n",
        "SF   3  4  5\n",
        "LA   6  7  8"
       ]
      }
     ],
     "prompt_number": 62
    },
    {
     "cell_type": "code",
     "collapsed": false,
     "input": [
      "#What happens when we add them together?\n",
      "\n",
      "dframe1 + dframe2"
     ],
     "language": "python",
     "metadata": {},
     "outputs": [
      {
       "html": [
        "<div style=\"max-height:1000px;max-width:1500px;overflow:auto;\">\n",
        "<table border=\"1\" class=\"dataframe\">\n",
        "  <thead>\n",
        "    <tr style=\"text-align: right;\">\n",
        "      <th></th>\n",
        "      <th>A</th>\n",
        "      <th>B</th>\n",
        "      <th>C</th>\n",
        "      <th>D</th>\n",
        "    </tr>\n",
        "  </thead>\n",
        "  <tbody>\n",
        "    <tr>\n",
        "      <th>LA</th>\n",
        "      <td>  8</td>\n",
        "      <td>NaN</td>\n",
        "      <td>NaN</td>\n",
        "      <td>NaN</td>\n",
        "    </tr>\n",
        "    <tr>\n",
        "      <th>NYC</th>\n",
        "      <td>  0</td>\n",
        "      <td>NaN</td>\n",
        "      <td>NaN</td>\n",
        "      <td>NaN</td>\n",
        "    </tr>\n",
        "    <tr>\n",
        "      <th>SF</th>\n",
        "      <td>NaN</td>\n",
        "      <td>NaN</td>\n",
        "      <td>NaN</td>\n",
        "      <td>NaN</td>\n",
        "    </tr>\n",
        "  </tbody>\n",
        "</table>\n",
        "</div>"
       ],
       "metadata": {},
       "output_type": "pyout",
       "prompt_number": 63,
       "text": [
        "      A   B   C   D\n",
        "LA    8 NaN NaN NaN\n",
        "NYC   0 NaN NaN NaN\n",
        "SF  NaN NaN NaN NaN"
       ]
      }
     ],
     "prompt_number": 63
    },
    {
     "cell_type": "code",
     "collapsed": false,
     "input": [
      "#What if we want to replace the NaN values\n",
      "# Then we can use .add()\n",
      "\n",
      "dframe1.add(dframe2,fill_value=0)"
     ],
     "language": "python",
     "metadata": {},
     "outputs": [
      {
       "html": [
        "<div style=\"max-height:1000px;max-width:1500px;overflow:auto;\">\n",
        "<table border=\"1\" class=\"dataframe\">\n",
        "  <thead>\n",
        "    <tr style=\"text-align: right;\">\n",
        "      <th></th>\n",
        "      <th>A</th>\n",
        "      <th>B</th>\n",
        "      <th>C</th>\n",
        "      <th>D</th>\n",
        "    </tr>\n",
        "  </thead>\n",
        "  <tbody>\n",
        "    <tr>\n",
        "      <th>LA</th>\n",
        "      <td> 8</td>\n",
        "      <td>  3</td>\n",
        "      <td> 8</td>\n",
        "      <td> 7</td>\n",
        "    </tr>\n",
        "    <tr>\n",
        "      <th>NYC</th>\n",
        "      <td> 0</td>\n",
        "      <td>  1</td>\n",
        "      <td> 2</td>\n",
        "      <td> 1</td>\n",
        "    </tr>\n",
        "    <tr>\n",
        "      <th>SF</th>\n",
        "      <td> 3</td>\n",
        "      <td>NaN</td>\n",
        "      <td> 5</td>\n",
        "      <td> 4</td>\n",
        "    </tr>\n",
        "  </tbody>\n",
        "</table>\n",
        "</div>"
       ],
       "metadata": {},
       "output_type": "pyout",
       "prompt_number": 64,
       "text": [
        "     A   B  C  D\n",
        "LA   8   3  8  7\n",
        "NYC  0   1  2  1\n",
        "SF   3 NaN  5  4"
       ]
      }
     ],
     "prompt_number": 64
    },
    {
     "cell_type": "code",
     "collapsed": false,
     "input": [
      "\n",
      "dframe2"
     ],
     "language": "python",
     "metadata": {},
     "outputs": [
      {
       "html": [
        "<div style=\"max-height:1000px;max-width:1500px;overflow:auto;\">\n",
        "<table border=\"1\" class=\"dataframe\">\n",
        "  <thead>\n",
        "    <tr style=\"text-align: right;\">\n",
        "      <th></th>\n",
        "      <th>A</th>\n",
        "      <th>D</th>\n",
        "      <th>C</th>\n",
        "    </tr>\n",
        "  </thead>\n",
        "  <tbody>\n",
        "    <tr>\n",
        "      <th>NYC</th>\n",
        "      <td> 0</td>\n",
        "      <td> 1</td>\n",
        "      <td> 2</td>\n",
        "    </tr>\n",
        "    <tr>\n",
        "      <th>SF</th>\n",
        "      <td> 3</td>\n",
        "      <td> 4</td>\n",
        "      <td> 5</td>\n",
        "    </tr>\n",
        "    <tr>\n",
        "      <th>LA</th>\n",
        "      <td> 6</td>\n",
        "      <td> 7</td>\n",
        "      <td> 8</td>\n",
        "    </tr>\n",
        "  </tbody>\n",
        "</table>\n",
        "</div>"
       ],
       "metadata": {},
       "output_type": "pyout",
       "prompt_number": 65,
       "text": [
        "     A  D  C\n",
        "NYC  0  1  2\n",
        "SF   3  4  5\n",
        "LA   6  7  8"
       ]
      }
     ],
     "prompt_number": 65
    },
    {
     "cell_type": "code",
     "collapsed": false,
     "input": [
      "#Create a Series from DataFrame's 0 row\n",
      "ser3 = dframe2.ix[0]\n",
      "\n",
      "#Show\n",
      "ser3"
     ],
     "language": "python",
     "metadata": {},
     "outputs": [
      {
       "metadata": {},
       "output_type": "pyout",
       "prompt_number": 66,
       "text": [
        "A    0\n",
        "D    1\n",
        "C    2\n",
        "Name: NYC, dtype: int32"
       ]
      }
     ],
     "prompt_number": 66
    },
    {
     "cell_type": "code",
     "collapsed": false,
     "input": [
      "#Now we can use arithmetic operations\n",
      "dframe2-ser3"
     ],
     "language": "python",
     "metadata": {},
     "outputs": [
      {
       "html": [
        "<div style=\"max-height:1000px;max-width:1500px;overflow:auto;\">\n",
        "<table border=\"1\" class=\"dataframe\">\n",
        "  <thead>\n",
        "    <tr style=\"text-align: right;\">\n",
        "      <th></th>\n",
        "      <th>A</th>\n",
        "      <th>D</th>\n",
        "      <th>C</th>\n",
        "    </tr>\n",
        "  </thead>\n",
        "  <tbody>\n",
        "    <tr>\n",
        "      <th>NYC</th>\n",
        "      <td> 0</td>\n",
        "      <td> 0</td>\n",
        "      <td> 0</td>\n",
        "    </tr>\n",
        "    <tr>\n",
        "      <th>SF</th>\n",
        "      <td> 3</td>\n",
        "      <td> 3</td>\n",
        "      <td> 3</td>\n",
        "    </tr>\n",
        "    <tr>\n",
        "      <th>LA</th>\n",
        "      <td> 6</td>\n",
        "      <td> 6</td>\n",
        "      <td> 6</td>\n",
        "    </tr>\n",
        "  </tbody>\n",
        "</table>\n",
        "</div>"
       ],
       "metadata": {},
       "output_type": "pyout",
       "prompt_number": 67,
       "text": [
        "     A  D  C\n",
        "NYC  0  0  0\n",
        "SF   3  3  3\n",
        "LA   6  6  6"
       ]
      }
     ],
     "prompt_number": 67
    },
    {
     "cell_type": "markdown",
     "metadata": {},
     "source": [
      "#sort and rank"
     ]
    },
    {
     "cell_type": "code",
     "collapsed": false,
     "input": [
      "#Sorting by index\n",
      "ser1 = Series(range(3),index=['C','A','B'])\n",
      "\n",
      "#show\n",
      "ser1"
     ],
     "language": "python",
     "metadata": {},
     "outputs": [
      {
       "metadata": {},
       "output_type": "pyout",
       "prompt_number": 68,
       "text": [
        "C    0\n",
        "A    1\n",
        "B    2\n",
        "dtype: int64"
       ]
      }
     ],
     "prompt_number": 68
    },
    {
     "cell_type": "code",
     "collapsed": false,
     "input": [
      "#Now sort_index\n",
      "ser1.sort_index()"
     ],
     "language": "python",
     "metadata": {},
     "outputs": [
      {
       "metadata": {},
       "output_type": "pyout",
       "prompt_number": 70,
       "text": [
        "A    1\n",
        "B    2\n",
        "C    0\n",
        "dtype: int64"
       ]
      }
     ],
     "prompt_number": 70
    },
    {
     "cell_type": "code",
     "collapsed": false,
     "input": [
      "#Can sort a Series by its values\n",
      "ser1.order()"
     ],
     "language": "python",
     "metadata": {},
     "outputs": [
      {
       "metadata": {},
       "output_type": "pyout",
       "prompt_number": 71,
       "text": [
        "C    0\n",
        "A    1\n",
        "B    2\n",
        "dtype: int64"
       ]
      }
     ],
     "prompt_number": 71
    },
    {
     "cell_type": "code",
     "collapsed": false,
     "input": [
      "#Lets see how ranking works\n",
      "\n",
      "from numpy.random import randn\n",
      "ser2 = Series(randn(10))\n",
      "\n",
      "#Show\n",
      "ser2"
     ],
     "language": "python",
     "metadata": {},
     "outputs": [
      {
       "metadata": {},
       "output_type": "pyout",
       "prompt_number": 77,
       "text": [
        "0    0.769689\n",
        "1   -1.856003\n",
        "2    1.977446\n",
        "3   -0.465335\n",
        "4   -1.633333\n",
        "5   -0.382643\n",
        "6    2.435465\n",
        "7    0.238341\n",
        "8   -0.543855\n",
        "9    0.287768\n",
        "dtype: float64"
       ]
      }
     ],
     "prompt_number": 77
    },
    {
     "cell_type": "code",
     "collapsed": false,
     "input": [
      "ser2.rank()"
     ],
     "language": "python",
     "metadata": {},
     "outputs": [
      {
       "metadata": {},
       "output_type": "pyout",
       "prompt_number": 78,
       "text": [
        "0     8\n",
        "1     1\n",
        "2     9\n",
        "3     4\n",
        "4     2\n",
        "5     5\n",
        "6    10\n",
        "7     6\n",
        "8     3\n",
        "9     7\n",
        "dtype: float64"
       ]
      }
     ],
     "prompt_number": 78
    },
    {
     "cell_type": "code",
     "collapsed": false,
     "input": [
      "ser2.sort()\n",
      "ser2"
     ],
     "language": "python",
     "metadata": {},
     "outputs": [
      {
       "metadata": {},
       "output_type": "pyout",
       "prompt_number": 79,
       "text": [
        "1   -1.856003\n",
        "4   -1.633333\n",
        "8   -0.543855\n",
        "3   -0.465335\n",
        "5   -0.382643\n",
        "7    0.238341\n",
        "9    0.287768\n",
        "0    0.769689\n",
        "2    1.977446\n",
        "6    2.435465\n",
        "dtype: float64"
       ]
      }
     ],
     "prompt_number": 79
    },
    {
     "cell_type": "code",
     "collapsed": false,
     "input": [
      "ser2.rank()"
     ],
     "language": "python",
     "metadata": {},
     "outputs": [
      {
       "metadata": {},
       "output_type": "pyout",
       "prompt_number": 80,
       "text": [
        "1     1\n",
        "4     2\n",
        "8     3\n",
        "3     4\n",
        "5     5\n",
        "7     6\n",
        "9     7\n",
        "0     8\n",
        "2     9\n",
        "6    10\n",
        "dtype: float64"
       ]
      }
     ],
     "prompt_number": 80
    },
    {
     "cell_type": "markdown",
     "metadata": {},
     "source": [
      "#Summary statistics"
     ]
    },
    {
     "cell_type": "code",
     "collapsed": false,
     "input": [
      "#Let's create a dataframe to work with\n",
      "arr = np.array([[1,2,np.nan],[np.nan,3,4]]) # null values\n",
      "dframe1 = DataFrame(arr,index=['A','B'],columns = ['One','Two','Three'])\n",
      "\n",
      "#Show\n",
      "dframe1"
     ],
     "language": "python",
     "metadata": {},
     "outputs": [
      {
       "html": [
        "<div style=\"max-height:1000px;max-width:1500px;overflow:auto;\">\n",
        "<table border=\"1\" class=\"dataframe\">\n",
        "  <thead>\n",
        "    <tr style=\"text-align: right;\">\n",
        "      <th></th>\n",
        "      <th>One</th>\n",
        "      <th>Two</th>\n",
        "      <th>Three</th>\n",
        "    </tr>\n",
        "  </thead>\n",
        "  <tbody>\n",
        "    <tr>\n",
        "      <th>A</th>\n",
        "      <td>  1</td>\n",
        "      <td> 2</td>\n",
        "      <td>NaN</td>\n",
        "    </tr>\n",
        "    <tr>\n",
        "      <th>B</th>\n",
        "      <td>NaN</td>\n",
        "      <td> 3</td>\n",
        "      <td>  4</td>\n",
        "    </tr>\n",
        "  </tbody>\n",
        "</table>\n",
        "</div>"
       ],
       "metadata": {},
       "output_type": "pyout",
       "prompt_number": 81,
       "text": [
        "   One  Two  Three\n",
        "A    1    2    NaN\n",
        "B  NaN    3      4"
       ]
      }
     ],
     "prompt_number": 81
    },
    {
     "cell_type": "code",
     "collapsed": false,
     "input": [
      "#ignore null value :)\n",
      "dframe1.sum()"
     ],
     "language": "python",
     "metadata": {},
     "outputs": [
      {
       "metadata": {},
       "output_type": "pyout",
       "prompt_number": 82,
       "text": [
        "One      1\n",
        "Two      5\n",
        "Three    4\n",
        "dtype: float64"
       ]
      }
     ],
     "prompt_number": 82
    },
    {
     "cell_type": "code",
     "collapsed": false,
     "input": [
      "dframe1.sum(axis=1)"
     ],
     "language": "python",
     "metadata": {},
     "outputs": [
      {
       "metadata": {},
       "output_type": "pyout",
       "prompt_number": 83,
       "text": [
        "A    3\n",
        "B    7\n",
        "dtype: float64"
       ]
      }
     ],
     "prompt_number": 83
    },
    {
     "cell_type": "code",
     "collapsed": false,
     "input": [
      "#Can also grab min and max values of dataframe\n",
      "dframe1.min()"
     ],
     "language": "python",
     "metadata": {},
     "outputs": [
      {
       "metadata": {},
       "output_type": "pyout",
       "prompt_number": 84,
       "text": [
        "One      1\n",
        "Two      2\n",
        "Three    4\n",
        "dtype: float64"
       ]
      }
     ],
     "prompt_number": 84
    },
    {
     "cell_type": "code",
     "collapsed": false,
     "input": [
      "#As well as there index\n",
      "# index of each of the minumum value for each column\n",
      "dframe1.idxmin()"
     ],
     "language": "python",
     "metadata": {},
     "outputs": [
      {
       "metadata": {},
       "output_type": "pyout",
       "prompt_number": 85,
       "text": [
        "One      A\n",
        "Two      A\n",
        "Three    B\n",
        "dtype: object"
       ]
      }
     ],
     "prompt_number": 85
    },
    {
     "cell_type": "code",
     "collapsed": false,
     "input": [
      "#Show\n",
      "dframe1"
     ],
     "language": "python",
     "metadata": {},
     "outputs": [
      {
       "html": [
        "<div style=\"max-height:1000px;max-width:1500px;overflow:auto;\">\n",
        "<table border=\"1\" class=\"dataframe\">\n",
        "  <thead>\n",
        "    <tr style=\"text-align: right;\">\n",
        "      <th></th>\n",
        "      <th>One</th>\n",
        "      <th>Two</th>\n",
        "      <th>Three</th>\n",
        "    </tr>\n",
        "  </thead>\n",
        "  <tbody>\n",
        "    <tr>\n",
        "      <th>A</th>\n",
        "      <td>  1</td>\n",
        "      <td> 2</td>\n",
        "      <td>NaN</td>\n",
        "    </tr>\n",
        "    <tr>\n",
        "      <th>B</th>\n",
        "      <td>NaN</td>\n",
        "      <td> 3</td>\n",
        "      <td>  4</td>\n",
        "    </tr>\n",
        "  </tbody>\n",
        "</table>\n",
        "</div>"
       ],
       "metadata": {},
       "output_type": "pyout",
       "prompt_number": 86,
       "text": [
        "   One  Two  Three\n",
        "A    1    2    NaN\n",
        "B  NaN    3      4"
       ]
      }
     ],
     "prompt_number": 86
    },
    {
     "cell_type": "code",
     "collapsed": false,
     "input": [
      "#Can also do an accumulation sum\n",
      "# 3 -> 5\n",
      "dframe1.cumsum()"
     ],
     "language": "python",
     "metadata": {},
     "outputs": [
      {
       "html": [
        "<div style=\"max-height:1000px;max-width:1500px;overflow:auto;\">\n",
        "<table border=\"1\" class=\"dataframe\">\n",
        "  <thead>\n",
        "    <tr style=\"text-align: right;\">\n",
        "      <th></th>\n",
        "      <th>One</th>\n",
        "      <th>Two</th>\n",
        "      <th>Three</th>\n",
        "    </tr>\n",
        "  </thead>\n",
        "  <tbody>\n",
        "    <tr>\n",
        "      <th>A</th>\n",
        "      <td>  1</td>\n",
        "      <td> 2</td>\n",
        "      <td>NaN</td>\n",
        "    </tr>\n",
        "    <tr>\n",
        "      <th>B</th>\n",
        "      <td>NaN</td>\n",
        "      <td> 5</td>\n",
        "      <td>  4</td>\n",
        "    </tr>\n",
        "  </tbody>\n",
        "</table>\n",
        "</div>"
       ],
       "metadata": {},
       "output_type": "pyout",
       "prompt_number": 88,
       "text": [
        "   One  Two  Three\n",
        "A    1    2    NaN\n",
        "B  NaN    5      4"
       ]
      }
     ],
     "prompt_number": 88
    },
    {
     "cell_type": "code",
     "collapsed": false,
     "input": [
      "#A very useful feature is describe, which provides summary statistics\n",
      "dframe1.describe()"
     ],
     "language": "python",
     "metadata": {},
     "outputs": [
      {
       "html": [
        "<div style=\"max-height:1000px;max-width:1500px;overflow:auto;\">\n",
        "<table border=\"1\" class=\"dataframe\">\n",
        "  <thead>\n",
        "    <tr style=\"text-align: right;\">\n",
        "      <th></th>\n",
        "      <th>One</th>\n",
        "      <th>Two</th>\n",
        "      <th>Three</th>\n",
        "    </tr>\n",
        "  </thead>\n",
        "  <tbody>\n",
        "    <tr>\n",
        "      <th>count</th>\n",
        "      <td>  1</td>\n",
        "      <td> 2.000000</td>\n",
        "      <td>  1</td>\n",
        "    </tr>\n",
        "    <tr>\n",
        "      <th>mean</th>\n",
        "      <td>  1</td>\n",
        "      <td> 2.500000</td>\n",
        "      <td>  4</td>\n",
        "    </tr>\n",
        "    <tr>\n",
        "      <th>std</th>\n",
        "      <td>NaN</td>\n",
        "      <td> 0.707107</td>\n",
        "      <td>NaN</td>\n",
        "    </tr>\n",
        "    <tr>\n",
        "      <th>min</th>\n",
        "      <td>  1</td>\n",
        "      <td> 2.000000</td>\n",
        "      <td>  4</td>\n",
        "    </tr>\n",
        "    <tr>\n",
        "      <th>25%</th>\n",
        "      <td>  1</td>\n",
        "      <td> 2.250000</td>\n",
        "      <td>  4</td>\n",
        "    </tr>\n",
        "    <tr>\n",
        "      <th>50%</th>\n",
        "      <td>  1</td>\n",
        "      <td> 2.500000</td>\n",
        "      <td>  4</td>\n",
        "    </tr>\n",
        "    <tr>\n",
        "      <th>75%</th>\n",
        "      <td>  1</td>\n",
        "      <td> 2.750000</td>\n",
        "      <td>  4</td>\n",
        "    </tr>\n",
        "    <tr>\n",
        "      <th>max</th>\n",
        "      <td>  1</td>\n",
        "      <td> 3.000000</td>\n",
        "      <td>  4</td>\n",
        "    </tr>\n",
        "  </tbody>\n",
        "</table>\n",
        "</div>"
       ],
       "metadata": {},
       "output_type": "pyout",
       "prompt_number": 89,
       "text": [
        "       One       Two  Three\n",
        "count    1  2.000000      1\n",
        "mean     1  2.500000      4\n",
        "std    NaN  0.707107    NaN\n",
        "min      1  2.000000      4\n",
        "25%      1  2.250000      4\n",
        "50%      1  2.500000      4\n",
        "75%      1  2.750000      4\n",
        "max      1  3.000000      4"
       ]
      }
     ],
     "prompt_number": 89
    },
    {
     "cell_type": "code",
     "collapsed": false,
     "input": [
      "from IPython.display import YouTubeVideo\n",
      "# For more information about Covariaance and Correlation\n",
      "# Check out these great videos!\n",
      "# Video credit: Brandon Foltz.\n",
      "\n",
      "#CoVariance\n",
      "YouTubeVideo('xGbpuFNR1ME')"
     ],
     "language": "python",
     "metadata": {},
     "outputs": [
      {
       "html": [
        "\n",
        "        <iframe\n",
        "            width=\"400\"\n",
        "            height=300\"\n",
        "            src=\"https://www.youtube.com/embed/xGbpuFNR1ME\"\n",
        "            frameborder=\"0\"\n",
        "            allowfullscreen\n",
        "        ></iframe>\n",
        "        "
       ],
       "metadata": {},
       "output_type": "pyout",
       "prompt_number": 90,
       "text": [
        "<IPython.lib.display.YouTubeVideo at 0xd16f940>"
       ]
      }
     ],
     "prompt_number": 90
    },
    {
     "cell_type": "code",
     "collapsed": false,
     "input": [
      "#Correlation\n",
      "YouTubeVideo('4EXNedimDMs')"
     ],
     "language": "python",
     "metadata": {},
     "outputs": [
      {
       "html": [
        "\n",
        "        <iframe\n",
        "            width=\"400\"\n",
        "            height=300\"\n",
        "            src=\"https://www.youtube.com/embed/4EXNedimDMs\"\n",
        "            frameborder=\"0\"\n",
        "            allowfullscreen\n",
        "        ></iframe>\n",
        "        "
       ],
       "metadata": {},
       "output_type": "pyout",
       "prompt_number": 91,
       "text": [
        "<IPython.lib.display.YouTubeVideo at 0xd16fa20>"
       ]
      }
     ],
     "prompt_number": 91
    },
    {
     "cell_type": "code",
     "collapsed": false,
     "input": [
      "#Pandas can get info off the web\n",
      "import pandas.io.data as pdweb\n",
      "\n",
      "#Set datetime for date input\n",
      "import datetime\n",
      "\n",
      "#Get the closing prices\n",
      "\n",
      "prices = pdweb.get_data_yahoo(['CVX','XOM','BP'], \n",
      "                               start=datetime.datetime(2010, 1, 1), \n",
      "                               end=datetime.datetime(2013, 1, 1))['Adj Close']\n",
      "#Show preview\n",
      "prices.head()"
     ],
     "language": "python",
     "metadata": {},
     "outputs": [
      {
       "html": [
        "<div style=\"max-height:1000px;max-width:1500px;overflow:auto;\">\n",
        "<table border=\"1\" class=\"dataframe\">\n",
        "  <thead>\n",
        "    <tr style=\"text-align: right;\">\n",
        "      <th></th>\n",
        "      <th>BP</th>\n",
        "      <th>CVX</th>\n",
        "      <th>XOM</th>\n",
        "    </tr>\n",
        "    <tr>\n",
        "      <th>Date</th>\n",
        "      <th></th>\n",
        "      <th></th>\n",
        "      <th></th>\n",
        "    </tr>\n",
        "  </thead>\n",
        "  <tbody>\n",
        "    <tr>\n",
        "      <th>2010-01-04</th>\n",
        "      <td> 47.088648</td>\n",
        "      <td> 65.512958</td>\n",
        "      <td> 59.769500</td>\n",
        "    </tr>\n",
        "    <tr>\n",
        "      <th>2010-01-05</th>\n",
        "      <td> 47.423003</td>\n",
        "      <td> 65.977006</td>\n",
        "      <td> 60.002871</td>\n",
        "    </tr>\n",
        "    <tr>\n",
        "      <th>2010-01-06</th>\n",
        "      <td> 47.669792</td>\n",
        "      <td> 65.985288</td>\n",
        "      <td> 60.521477</td>\n",
        "    </tr>\n",
        "    <tr>\n",
        "      <th>2010-01-07</th>\n",
        "      <td> 47.653870</td>\n",
        "      <td> 65.736697</td>\n",
        "      <td> 60.331326</td>\n",
        "    </tr>\n",
        "    <tr>\n",
        "      <th>2010-01-08</th>\n",
        "      <td> 47.765322</td>\n",
        "      <td> 65.852707</td>\n",
        "      <td> 60.089304</td>\n",
        "    </tr>\n",
        "  </tbody>\n",
        "</table>\n",
        "</div>"
       ],
       "metadata": {},
       "output_type": "pyout",
       "prompt_number": 92,
       "text": [
        "                   BP        CVX        XOM\n",
        "Date                                       \n",
        "2010-01-04  47.088648  65.512958  59.769500\n",
        "2010-01-05  47.423003  65.977006  60.002871\n",
        "2010-01-06  47.669792  65.985288  60.521477\n",
        "2010-01-07  47.653870  65.736697  60.331326\n",
        "2010-01-08  47.765322  65.852707  60.089304"
       ]
      }
     ],
     "prompt_number": 92
    },
    {
     "cell_type": "code",
     "collapsed": false,
     "input": [
      "#Now lets get the volume trades\n",
      "\n",
      "volume = pdweb.get_data_yahoo(['CVX','XOM','BP'], \n",
      "                               start=datetime.datetime(2010, 1, 1), \n",
      "                               end=datetime.datetime(2013, 1, 1))['Volume']\n",
      "\n",
      "#Show preview\n",
      "volume.head()"
     ],
     "language": "python",
     "metadata": {},
     "outputs": [
      {
       "html": [
        "<div style=\"max-height:1000px;max-width:1500px;overflow:auto;\">\n",
        "<table border=\"1\" class=\"dataframe\">\n",
        "  <thead>\n",
        "    <tr style=\"text-align: right;\">\n",
        "      <th></th>\n",
        "      <th>BP</th>\n",
        "      <th>CVX</th>\n",
        "      <th>XOM</th>\n",
        "    </tr>\n",
        "    <tr>\n",
        "      <th>Date</th>\n",
        "      <th></th>\n",
        "      <th></th>\n",
        "      <th></th>\n",
        "    </tr>\n",
        "  </thead>\n",
        "  <tbody>\n",
        "    <tr>\n",
        "      <th>2010-01-04</th>\n",
        "      <td> 3956100</td>\n",
        "      <td> 10173800</td>\n",
        "      <td> 27809100</td>\n",
        "    </tr>\n",
        "    <tr>\n",
        "      <th>2010-01-05</th>\n",
        "      <td> 4109600</td>\n",
        "      <td> 10593700</td>\n",
        "      <td> 30174700</td>\n",
        "    </tr>\n",
        "    <tr>\n",
        "      <th>2010-01-06</th>\n",
        "      <td> 6227900</td>\n",
        "      <td> 11014600</td>\n",
        "      <td> 35044700</td>\n",
        "    </tr>\n",
        "    <tr>\n",
        "      <th>2010-01-07</th>\n",
        "      <td> 4431300</td>\n",
        "      <td>  9626900</td>\n",
        "      <td> 27192100</td>\n",
        "    </tr>\n",
        "    <tr>\n",
        "      <th>2010-01-08</th>\n",
        "      <td> 3786100</td>\n",
        "      <td>  5624300</td>\n",
        "      <td> 24891800</td>\n",
        "    </tr>\n",
        "  </tbody>\n",
        "</table>\n",
        "</div>"
       ],
       "metadata": {},
       "output_type": "pyout",
       "prompt_number": 93,
       "text": [
        "                 BP       CVX       XOM\n",
        "Date                                   \n",
        "2010-01-04  3956100  10173800  27809100\n",
        "2010-01-05  4109600  10593700  30174700\n",
        "2010-01-06  6227900  11014600  35044700\n",
        "2010-01-07  4431300   9626900  27192100\n",
        "2010-01-08  3786100   5624300  24891800"
       ]
      }
     ],
     "prompt_number": 93
    },
    {
     "cell_type": "code",
     "collapsed": false,
     "input": [
      "#Lets get the return\n",
      "#percent change\n",
      "rets = prices.pct_change()\n",
      "rets"
     ],
     "language": "python",
     "metadata": {},
     "outputs": [
      {
       "html": [
        "<div style=\"max-height:1000px;max-width:1500px;overflow:auto;\">\n",
        "<table border=\"1\" class=\"dataframe\">\n",
        "  <thead>\n",
        "    <tr style=\"text-align: right;\">\n",
        "      <th></th>\n",
        "      <th>BP</th>\n",
        "      <th>CVX</th>\n",
        "      <th>XOM</th>\n",
        "    </tr>\n",
        "    <tr>\n",
        "      <th>Date</th>\n",
        "      <th></th>\n",
        "      <th></th>\n",
        "      <th></th>\n",
        "    </tr>\n",
        "  </thead>\n",
        "  <tbody>\n",
        "    <tr>\n",
        "      <th>2010-01-04</th>\n",
        "      <td>      NaN</td>\n",
        "      <td>      NaN</td>\n",
        "      <td>      NaN</td>\n",
        "    </tr>\n",
        "    <tr>\n",
        "      <th>2010-01-05</th>\n",
        "      <td> 0.007101</td>\n",
        "      <td> 0.007083</td>\n",
        "      <td> 0.003905</td>\n",
        "    </tr>\n",
        "    <tr>\n",
        "      <th>2010-01-06</th>\n",
        "      <td> 0.005204</td>\n",
        "      <td> 0.000126</td>\n",
        "      <td> 0.008643</td>\n",
        "    </tr>\n",
        "    <tr>\n",
        "      <th>2010-01-07</th>\n",
        "      <td>-0.000334</td>\n",
        "      <td>-0.003767</td>\n",
        "      <td>-0.003142</td>\n",
        "    </tr>\n",
        "    <tr>\n",
        "      <th>2010-01-08</th>\n",
        "      <td> 0.002339</td>\n",
        "      <td> 0.001765</td>\n",
        "      <td>-0.004012</td>\n",
        "    </tr>\n",
        "    <tr>\n",
        "      <th>2010-01-11</th>\n",
        "      <td> 0.031500</td>\n",
        "      <td> 0.017743</td>\n",
        "      <td> 0.011220</td>\n",
        "    </tr>\n",
        "    <tr>\n",
        "      <th>2010-01-12</th>\n",
        "      <td>-0.006301</td>\n",
        "      <td>-0.005811</td>\n",
        "      <td>-0.004979</td>\n",
        "    </tr>\n",
        "    <tr>\n",
        "      <th>2010-01-13</th>\n",
        "      <td> 0.004878</td>\n",
        "      <td>-0.007586</td>\n",
        "      <td>-0.004003</td>\n",
        "    </tr>\n",
        "    <tr>\n",
        "      <th>2010-01-14</th>\n",
        "      <td>-0.001133</td>\n",
        "      <td>-0.003133</td>\n",
        "      <td> 0.000144</td>\n",
        "    </tr>\n",
        "    <tr>\n",
        "      <th>2010-01-15</th>\n",
        "      <td>-0.001458</td>\n",
        "      <td>-0.004023</td>\n",
        "      <td>-0.008180</td>\n",
        "    </tr>\n",
        "    <tr>\n",
        "      <th>2010-01-19</th>\n",
        "      <td> 0.011032</td>\n",
        "      <td> 0.005680</td>\n",
        "      <td> 0.002315</td>\n",
        "    </tr>\n",
        "    <tr>\n",
        "      <th>2010-01-20</th>\n",
        "      <td>-0.020218</td>\n",
        "      <td>-0.019202</td>\n",
        "      <td>-0.017901</td>\n",
        "    </tr>\n",
        "    <tr>\n",
        "      <th>2010-01-21</th>\n",
        "      <td>-0.024402</td>\n",
        "      <td>-0.024440</td>\n",
        "      <td>-0.019550</td>\n",
        "    </tr>\n",
        "    <tr>\n",
        "      <th>2010-01-22</th>\n",
        "      <td>-0.028538</td>\n",
        "      <td>-0.021642</td>\n",
        "      <td>-0.008995</td>\n",
        "    </tr>\n",
        "    <tr>\n",
        "      <th>2010-01-25</th>\n",
        "      <td> 0.011750</td>\n",
        "      <td>-0.000536</td>\n",
        "      <td>-0.003782</td>\n",
        "    </tr>\n",
        "    <tr>\n",
        "      <th>2010-01-26</th>\n",
        "      <td>-0.001025</td>\n",
        "      <td>-0.005366</td>\n",
        "      <td> 0.001063</td>\n",
        "    </tr>\n",
        "    <tr>\n",
        "      <th>2010-01-27</th>\n",
        "      <td>-0.007352</td>\n",
        "      <td>-0.006069</td>\n",
        "      <td>-0.005765</td>\n",
        "    </tr>\n",
        "    <tr>\n",
        "      <th>2010-01-28</th>\n",
        "      <td>-0.012573</td>\n",
        "      <td>-0.006241</td>\n",
        "      <td>-0.008850</td>\n",
        "    </tr>\n",
        "    <tr>\n",
        "      <th>2010-01-29</th>\n",
        "      <td>-0.021106</td>\n",
        "      <td>-0.015292</td>\n",
        "      <td>-0.008159</td>\n",
        "    </tr>\n",
        "    <tr>\n",
        "      <th>2010-02-01</th>\n",
        "      <td> 0.019779</td>\n",
        "      <td> 0.020244</td>\n",
        "      <td> 0.027161</td>\n",
        "    </tr>\n",
        "    <tr>\n",
        "      <th>2010-02-02</th>\n",
        "      <td>-0.030928</td>\n",
        "      <td> 0.011824</td>\n",
        "      <td> 0.011786</td>\n",
        "    </tr>\n",
        "    <tr>\n",
        "      <th>2010-02-03</th>\n",
        "      <td>-0.005229</td>\n",
        "      <td>-0.016655</td>\n",
        "      <td>-0.005376</td>\n",
        "    </tr>\n",
        "    <tr>\n",
        "      <th>2010-02-04</th>\n",
        "      <td>-0.030633</td>\n",
        "      <td>-0.025133</td>\n",
        "      <td>-0.028228</td>\n",
        "    </tr>\n",
        "    <tr>\n",
        "      <th>2010-02-05</th>\n",
        "      <td>-0.005610</td>\n",
        "      <td>-0.002662</td>\n",
        "      <td> 0.001236</td>\n",
        "    </tr>\n",
        "    <tr>\n",
        "      <th>2010-02-08</th>\n",
        "      <td>-0.014103</td>\n",
        "      <td>-0.014751</td>\n",
        "      <td>-0.000466</td>\n",
        "    </tr>\n",
        "    <tr>\n",
        "      <th>2010-02-09</th>\n",
        "      <td> 0.022506</td>\n",
        "      <td> 0.016826</td>\n",
        "      <td> 0.013209</td>\n",
        "    </tr>\n",
        "    <tr>\n",
        "      <th>2010-02-10</th>\n",
        "      <td> 0.000746</td>\n",
        "      <td>-0.007853</td>\n",
        "      <td>-0.005368</td>\n",
        "    </tr>\n",
        "    <tr>\n",
        "      <th>2010-02-11</th>\n",
        "      <td> 0.021435</td>\n",
        "      <td> 0.013852</td>\n",
        "      <td> 0.006014</td>\n",
        "    </tr>\n",
        "    <tr>\n",
        "      <th>2010-02-12</th>\n",
        "      <td>-0.002372</td>\n",
        "      <td>-0.000563</td>\n",
        "      <td>-0.006744</td>\n",
        "    </tr>\n",
        "    <tr>\n",
        "      <th>2010-02-16</th>\n",
        "      <td> 0.023413</td>\n",
        "      <td> 0.027883</td>\n",
        "      <td> 0.022839</td>\n",
        "    </tr>\n",
        "    <tr>\n",
        "      <th>...</th>\n",
        "      <td>...</td>\n",
        "      <td>...</td>\n",
        "      <td>...</td>\n",
        "    </tr>\n",
        "    <tr>\n",
        "      <th>2012-11-16</th>\n",
        "      <td>-0.006700</td>\n",
        "      <td> 0.007676</td>\n",
        "      <td> 0.003599</td>\n",
        "    </tr>\n",
        "    <tr>\n",
        "      <th>2012-11-19</th>\n",
        "      <td> 0.029978</td>\n",
        "      <td> 0.019043</td>\n",
        "      <td> 0.014112</td>\n",
        "    </tr>\n",
        "    <tr>\n",
        "      <th>2012-11-20</th>\n",
        "      <td>-0.000242</td>\n",
        "      <td>-0.007571</td>\n",
        "      <td>-0.001939</td>\n",
        "    </tr>\n",
        "    <tr>\n",
        "      <th>2012-11-21</th>\n",
        "      <td> 0.009219</td>\n",
        "      <td> 0.005214</td>\n",
        "      <td> 0.005829</td>\n",
        "    </tr>\n",
        "    <tr>\n",
        "      <th>2012-11-23</th>\n",
        "      <td> 0.010096</td>\n",
        "      <td> 0.013160</td>\n",
        "      <td> 0.012271</td>\n",
        "    </tr>\n",
        "    <tr>\n",
        "      <th>2012-11-26</th>\n",
        "      <td>-0.009995</td>\n",
        "      <td>-0.004551</td>\n",
        "      <td>-0.005275</td>\n",
        "    </tr>\n",
        "    <tr>\n",
        "      <th>2012-11-27</th>\n",
        "      <td>-0.006010</td>\n",
        "      <td>-0.015335</td>\n",
        "      <td>-0.014331</td>\n",
        "    </tr>\n",
        "    <tr>\n",
        "      <th>2012-11-28</th>\n",
        "      <td> 0.003144</td>\n",
        "      <td> 0.021281</td>\n",
        "      <td> 0.008586</td>\n",
        "    </tr>\n",
        "    <tr>\n",
        "      <th>2012-11-29</th>\n",
        "      <td>-0.004339</td>\n",
        "      <td> 0.001989</td>\n",
        "      <td> 0.000227</td>\n",
        "    </tr>\n",
        "    <tr>\n",
        "      <th>2012-11-30</th>\n",
        "      <td> 0.011138</td>\n",
        "      <td>-0.000945</td>\n",
        "      <td> 0.000227</td>\n",
        "    </tr>\n",
        "    <tr>\n",
        "      <th>2012-12-03</th>\n",
        "      <td>-0.013649</td>\n",
        "      <td>-0.009745</td>\n",
        "      <td>-0.006013</td>\n",
        "    </tr>\n",
        "    <tr>\n",
        "      <th>2012-12-04</th>\n",
        "      <td>-0.004613</td>\n",
        "      <td>-0.006688</td>\n",
        "      <td>-0.004794</td>\n",
        "    </tr>\n",
        "    <tr>\n",
        "      <th>2012-12-05</th>\n",
        "      <td> 0.007561</td>\n",
        "      <td> 0.011639</td>\n",
        "      <td> 0.006193</td>\n",
        "    </tr>\n",
        "    <tr>\n",
        "      <th>2012-12-06</th>\n",
        "      <td> 0.000000</td>\n",
        "      <td> 0.012171</td>\n",
        "      <td> 0.003078</td>\n",
        "    </tr>\n",
        "    <tr>\n",
        "      <th>2012-12-07</th>\n",
        "      <td>-0.005810</td>\n",
        "      <td> 0.005073</td>\n",
        "      <td> 0.006818</td>\n",
        "    </tr>\n",
        "    <tr>\n",
        "      <th>2012-12-10</th>\n",
        "      <td>-0.001948</td>\n",
        "      <td>-0.000280</td>\n",
        "      <td>-0.002144</td>\n",
        "    </tr>\n",
        "    <tr>\n",
        "      <th>2012-12-11</th>\n",
        "      <td> 0.004391</td>\n",
        "      <td> 0.007292</td>\n",
        "      <td> 0.006560</td>\n",
        "    </tr>\n",
        "    <tr>\n",
        "      <th>2012-12-12</th>\n",
        "      <td> 0.010930</td>\n",
        "      <td> 0.003156</td>\n",
        "      <td> 0.005169</td>\n",
        "    </tr>\n",
        "    <tr>\n",
        "      <th>2012-12-13</th>\n",
        "      <td>-0.003604</td>\n",
        "      <td>-0.001573</td>\n",
        "      <td>-0.009726</td>\n",
        "    </tr>\n",
        "    <tr>\n",
        "      <th>2012-12-14</th>\n",
        "      <td>-0.001929</td>\n",
        "      <td>-0.000834</td>\n",
        "      <td>-0.005645</td>\n",
        "    </tr>\n",
        "    <tr>\n",
        "      <th>2012-12-17</th>\n",
        "      <td> 0.007731</td>\n",
        "      <td> 0.007976</td>\n",
        "      <td> 0.008969</td>\n",
        "    </tr>\n",
        "    <tr>\n",
        "      <th>2012-12-18</th>\n",
        "      <td> 0.007432</td>\n",
        "      <td> 0.013066</td>\n",
        "      <td> 0.007764</td>\n",
        "    </tr>\n",
        "    <tr>\n",
        "      <th>2012-12-19</th>\n",
        "      <td> 0.002142</td>\n",
        "      <td>-0.001726</td>\n",
        "      <td>-0.012506</td>\n",
        "    </tr>\n",
        "    <tr>\n",
        "      <th>2012-12-20</th>\n",
        "      <td> 0.002850</td>\n",
        "      <td> 0.004276</td>\n",
        "      <td> 0.005088</td>\n",
        "    </tr>\n",
        "    <tr>\n",
        "      <th>2012-12-21</th>\n",
        "      <td>-0.002605</td>\n",
        "      <td>-0.006070</td>\n",
        "      <td>-0.018675</td>\n",
        "    </tr>\n",
        "    <tr>\n",
        "      <th>2012-12-24</th>\n",
        "      <td>-0.009497</td>\n",
        "      <td>-0.009844</td>\n",
        "      <td>-0.003554</td>\n",
        "    </tr>\n",
        "    <tr>\n",
        "      <th>2012-12-26</th>\n",
        "      <td>-0.000959</td>\n",
        "      <td>-0.001565</td>\n",
        "      <td> 0.001726</td>\n",
        "    </tr>\n",
        "    <tr>\n",
        "      <th>2012-12-27</th>\n",
        "      <td>-0.001440</td>\n",
        "      <td> 0.000553</td>\n",
        "      <td>-0.002412</td>\n",
        "    </tr>\n",
        "    <tr>\n",
        "      <th>2012-12-28</th>\n",
        "      <td>-0.009611</td>\n",
        "      <td>-0.019075</td>\n",
        "      <td>-0.020263</td>\n",
        "    </tr>\n",
        "    <tr>\n",
        "      <th>2012-12-31</th>\n",
        "      <td> 0.010189</td>\n",
        "      <td> 0.015876</td>\n",
        "      <td> 0.017039</td>\n",
        "    </tr>\n",
        "  </tbody>\n",
        "</table>\n",
        "<p>754 rows \u00d7 3 columns</p>\n",
        "</div>"
       ],
       "metadata": {},
       "output_type": "pyout",
       "prompt_number": 95,
       "text": [
        "                  BP       CVX       XOM\n",
        "Date                                    \n",
        "2010-01-04       NaN       NaN       NaN\n",
        "2010-01-05  0.007101  0.007083  0.003905\n",
        "2010-01-06  0.005204  0.000126  0.008643\n",
        "2010-01-07 -0.000334 -0.003767 -0.003142\n",
        "2010-01-08  0.002339  0.001765 -0.004012\n",
        "2010-01-11  0.031500  0.017743  0.011220\n",
        "2010-01-12 -0.006301 -0.005811 -0.004979\n",
        "2010-01-13  0.004878 -0.007586 -0.004003\n",
        "2010-01-14 -0.001133 -0.003133  0.000144\n",
        "2010-01-15 -0.001458 -0.004023 -0.008180\n",
        "2010-01-19  0.011032  0.005680  0.002315\n",
        "2010-01-20 -0.020218 -0.019202 -0.017901\n",
        "2010-01-21 -0.024402 -0.024440 -0.019550\n",
        "2010-01-22 -0.028538 -0.021642 -0.008995\n",
        "2010-01-25  0.011750 -0.000536 -0.003782\n",
        "2010-01-26 -0.001025 -0.005366  0.001063\n",
        "2010-01-27 -0.007352 -0.006069 -0.005765\n",
        "2010-01-28 -0.012573 -0.006241 -0.008850\n",
        "2010-01-29 -0.021106 -0.015292 -0.008159\n",
        "2010-02-01  0.019779  0.020244  0.027161\n",
        "2010-02-02 -0.030928  0.011824  0.011786\n",
        "2010-02-03 -0.005229 -0.016655 -0.005376\n",
        "2010-02-04 -0.030633 -0.025133 -0.028228\n",
        "2010-02-05 -0.005610 -0.002662  0.001236\n",
        "2010-02-08 -0.014103 -0.014751 -0.000466\n",
        "2010-02-09  0.022506  0.016826  0.013209\n",
        "2010-02-10  0.000746 -0.007853 -0.005368\n",
        "2010-02-11  0.021435  0.013852  0.006014\n",
        "2010-02-12 -0.002372 -0.000563 -0.006744\n",
        "2010-02-16  0.023413  0.027883  0.022839\n",
        "...              ...       ...       ...\n",
        "2012-11-16 -0.006700  0.007676  0.003599\n",
        "2012-11-19  0.029978  0.019043  0.014112\n",
        "2012-11-20 -0.000242 -0.007571 -0.001939\n",
        "2012-11-21  0.009219  0.005214  0.005829\n",
        "2012-11-23  0.010096  0.013160  0.012271\n",
        "2012-11-26 -0.009995 -0.004551 -0.005275\n",
        "2012-11-27 -0.006010 -0.015335 -0.014331\n",
        "2012-11-28  0.003144  0.021281  0.008586\n",
        "2012-11-29 -0.004339  0.001989  0.000227\n",
        "2012-11-30  0.011138 -0.000945  0.000227\n",
        "2012-12-03 -0.013649 -0.009745 -0.006013\n",
        "2012-12-04 -0.004613 -0.006688 -0.004794\n",
        "2012-12-05  0.007561  0.011639  0.006193\n",
        "2012-12-06  0.000000  0.012171  0.003078\n",
        "2012-12-07 -0.005810  0.005073  0.006818\n",
        "2012-12-10 -0.001948 -0.000280 -0.002144\n",
        "2012-12-11  0.004391  0.007292  0.006560\n",
        "2012-12-12  0.010930  0.003156  0.005169\n",
        "2012-12-13 -0.003604 -0.001573 -0.009726\n",
        "2012-12-14 -0.001929 -0.000834 -0.005645\n",
        "2012-12-17  0.007731  0.007976  0.008969\n",
        "2012-12-18  0.007432  0.013066  0.007764\n",
        "2012-12-19  0.002142 -0.001726 -0.012506\n",
        "2012-12-20  0.002850  0.004276  0.005088\n",
        "2012-12-21 -0.002605 -0.006070 -0.018675\n",
        "2012-12-24 -0.009497 -0.009844 -0.003554\n",
        "2012-12-26 -0.000959 -0.001565  0.001726\n",
        "2012-12-27 -0.001440  0.000553 -0.002412\n",
        "2012-12-28 -0.009611 -0.019075 -0.020263\n",
        "2012-12-31  0.010189  0.015876  0.017039\n",
        "\n",
        "[754 rows x 3 columns]"
       ]
      }
     ],
     "prompt_number": 95
    },
    {
     "cell_type": "code",
     "collapsed": false,
     "input": [
      "#Get the correlation of the stocks\n",
      "corr = rets.corr\n",
      "corr"
     ],
     "language": "python",
     "metadata": {},
     "outputs": [
      {
       "metadata": {},
       "output_type": "pyout",
       "prompt_number": 96,
       "text": [
        "<bound method DataFrame.corr of                   BP       CVX       XOM\n",
        "Date                                    \n",
        "2010-01-04       NaN       NaN       NaN\n",
        "2010-01-05  0.007101  0.007083  0.003905\n",
        "2010-01-06  0.005204  0.000126  0.008643\n",
        "2010-01-07 -0.000334 -0.003767 -0.003142\n",
        "2010-01-08  0.002339  0.001765 -0.004012\n",
        "2010-01-11  0.031500  0.017743  0.011220\n",
        "2010-01-12 -0.006301 -0.005811 -0.004979\n",
        "2010-01-13  0.004878 -0.007586 -0.004003\n",
        "2010-01-14 -0.001133 -0.003133  0.000144\n",
        "2010-01-15 -0.001458 -0.004023 -0.008180\n",
        "2010-01-19  0.011032  0.005680  0.002315\n",
        "2010-01-20 -0.020218 -0.019202 -0.017901\n",
        "2010-01-21 -0.024402 -0.024440 -0.019550\n",
        "2010-01-22 -0.028538 -0.021642 -0.008995\n",
        "2010-01-25  0.011750 -0.000536 -0.003782\n",
        "2010-01-26 -0.001025 -0.005366  0.001063\n",
        "2010-01-27 -0.007352 -0.006069 -0.005765\n",
        "2010-01-28 -0.012573 -0.006241 -0.008850\n",
        "2010-01-29 -0.021106 -0.015292 -0.008159\n",
        "2010-02-01  0.019779  0.020244  0.027161\n",
        "2010-02-02 -0.030928  0.011824  0.011786\n",
        "2010-02-03 -0.005229 -0.016655 -0.005376\n",
        "2010-02-04 -0.030633 -0.025133 -0.028228\n",
        "2010-02-05 -0.005610 -0.002662  0.001236\n",
        "2010-02-08 -0.014103 -0.014751 -0.000466\n",
        "2010-02-09  0.022506  0.016826  0.013209\n",
        "2010-02-10  0.000746 -0.007853 -0.005368\n",
        "2010-02-11  0.021435  0.013852  0.006014\n",
        "2010-02-12 -0.002372 -0.000563 -0.006744\n",
        "2010-02-16  0.023413  0.027883  0.022839\n",
        "...              ...       ...       ...\n",
        "2012-11-16 -0.006700  0.007676  0.003599\n",
        "2012-11-19  0.029978  0.019043  0.014112\n",
        "2012-11-20 -0.000242 -0.007571 -0.001939\n",
        "2012-11-21  0.009219  0.005214  0.005829\n",
        "2012-11-23  0.010096  0.013160  0.012271\n",
        "2012-11-26 -0.009995 -0.004551 -0.005275\n",
        "2012-11-27 -0.006010 -0.015335 -0.014331\n",
        "2012-11-28  0.003144  0.021281  0.008586\n",
        "2012-11-29 -0.004339  0.001989  0.000227\n",
        "2012-11-30  0.011138 -0.000945  0.000227\n",
        "2012-12-03 -0.013649 -0.009745 -0.006013\n",
        "2012-12-04 -0.004613 -0.006688 -0.004794\n",
        "2012-12-05  0.007561  0.011639  0.006193\n",
        "2012-12-06  0.000000  0.012171  0.003078\n",
        "2012-12-07 -0.005810  0.005073  0.006818\n",
        "2012-12-10 -0.001948 -0.000280 -0.002144\n",
        "2012-12-11  0.004391  0.007292  0.006560\n",
        "2012-12-12  0.010930  0.003156  0.005169\n",
        "2012-12-13 -0.003604 -0.001573 -0.009726\n",
        "2012-12-14 -0.001929 -0.000834 -0.005645\n",
        "2012-12-17  0.007731  0.007976  0.008969\n",
        "2012-12-18  0.007432  0.013066  0.007764\n",
        "2012-12-19  0.002142 -0.001726 -0.012506\n",
        "2012-12-20  0.002850  0.004276  0.005088\n",
        "2012-12-21 -0.002605 -0.006070 -0.018675\n",
        "2012-12-24 -0.009497 -0.009844 -0.003554\n",
        "2012-12-26 -0.000959 -0.001565  0.001726\n",
        "2012-12-27 -0.001440  0.000553 -0.002412\n",
        "2012-12-28 -0.009611 -0.019075 -0.020263\n",
        "2012-12-31  0.010189  0.015876  0.017039\n",
        "\n",
        "[754 rows x 3 columns]>"
       ]
      }
     ],
     "prompt_number": 96
    },
    {
     "cell_type": "code",
     "collapsed": false,
     "input": [
      "#Lets see the prices over time to get a very rough idea of the correlation between the stock prices\n",
      "prices.plot()"
     ],
     "language": "python",
     "metadata": {},
     "outputs": [
      {
       "metadata": {},
       "output_type": "pyout",
       "prompt_number": 97,
       "text": [
        "<matplotlib.axes._subplots.AxesSubplot at 0xd196358>"
       ]
      },
      {
       "metadata": {},
       "output_type": "display_data",
       "png": "[encoded data removed]",
       "text": [
        "<matplotlib.figure.Figure at 0xd16f898>"
       ]
      }
     ],
     "prompt_number": 97
    },
    {
     "cell_type": "code",
     "collapsed": false,
     "input": [
      "import seaborn as sns\n",
      "import matplotlib.pyplot as plt\n",
      "\n",
      "#As expected pretty strong correlations with eachother\n",
      "sns.heatmap(rets.corr())\n",
      "\n",
      "#We'll learn much more about seaborn later!"
     ],
     "language": "python",
     "metadata": {},
     "outputs": [
      {
       "metadata": {},
       "output_type": "pyout",
       "prompt_number": 100,
       "text": [
        "<matplotlib.axes._subplots.AxesSubplot at 0xf5a0978>"
       ]
      },
      {
       "metadata": {},
       "output_type": "display_data",
       "png": "[encoded data removed]",
       "text": [
        "<matplotlib.figure.Figure at 0xf52d240>"
       ]
      }
     ],
     "prompt_number": 100
    },
    {
     "cell_type": "code",
     "collapsed": false,
     "input": [
      "sns.corrplot(rets,annot=False,diag_names=False)"
     ],
     "language": "python",
     "metadata": {},
     "outputs": [
      {
       "metadata": {},
       "output_type": "pyout",
       "prompt_number": 102,
       "text": [
        "<matplotlib.axes._subplots.AxesSubplot at 0xfa0ba20>"
       ]
      },
      {
       "metadata": {},
       "output_type": "display_data",
       "png": "[encoded data removed]",
       "text": [
        "<matplotlib.figure.Figure at 0xfa27390>"
       ]
      }
     ],
     "prompt_number": 102
    },
    {
     "cell_type": "code",
     "collapsed": false,
     "input": [
      "# We can also check for unique values and their counts \n",
      "\n",
      "#For example\n",
      "ser1 = Series(['w','w','x', 'y', 'z' ,'w' ,'w' ,'x' ,'x' ,'y' ,'a' ,'z' ])\n",
      "\n",
      "#Show\n",
      "ser1"
     ],
     "language": "python",
     "metadata": {},
     "outputs": [
      {
       "metadata": {},
       "output_type": "pyout",
       "prompt_number": 103,
       "text": [
        "0     w\n",
        "1     w\n",
        "2     x\n",
        "3     y\n",
        "4     z\n",
        "5     w\n",
        "6     w\n",
        "7     x\n",
        "8     x\n",
        "9     y\n",
        "10    a\n",
        "11    z\n",
        "dtype: object"
       ]
      }
     ],
     "prompt_number": 103
    },
    {
     "cell_type": "code",
     "collapsed": false,
     "input": [
      "#Grab the unique values\n",
      "ser1.unique()"
     ],
     "language": "python",
     "metadata": {},
     "outputs": [
      {
       "metadata": {},
       "output_type": "pyout",
       "prompt_number": 105,
       "text": [
        "array(['w', 'x', 'y', 'z', 'a'], dtype=object)"
       ]
      }
     ],
     "prompt_number": 105
    },
    {
     "cell_type": "code",
     "collapsed": false,
     "input": [
      "#Now get the count of the unique values\n",
      "ser1.value_counts()"
     ],
     "language": "python",
     "metadata": {},
     "outputs": [
      {
       "metadata": {},
       "output_type": "pyout",
       "prompt_number": 107,
       "text": [
        "w    4\n",
        "x    3\n",
        "z    2\n",
        "y    2\n",
        "a    1\n",
        "dtype: int64"
       ]
      }
     ],
     "prompt_number": 107
    },
    {
     "cell_type": "markdown",
     "metadata": {},
     "source": [
      "# Missing data"
     ]
    },
    {
     "cell_type": "code",
     "collapsed": false,
     "input": [
      "data = Series(['one','two', np.nan, 'four'])\n",
      "data"
     ],
     "language": "python",
     "metadata": {},
     "outputs": [
      {
       "metadata": {},
       "output_type": "pyout",
       "prompt_number": 108,
       "text": [
        "0     one\n",
        "1     two\n",
        "2     NaN\n",
        "3    four\n",
        "dtype: object"
       ]
      }
     ],
     "prompt_number": 108
    },
    {
     "cell_type": "code",
     "collapsed": false,
     "input": [
      "#Find the missing values\n",
      "data.isnull()"
     ],
     "language": "python",
     "metadata": {},
     "outputs": [
      {
       "metadata": {},
       "output_type": "pyout",
       "prompt_number": 109,
       "text": [
        "0    False\n",
        "1    False\n",
        "2     True\n",
        "3    False\n",
        "dtype: bool"
       ]
      }
     ],
     "prompt_number": 109
    },
    {
     "cell_type": "code",
     "collapsed": false,
     "input": [
      "#We can simply drop the NAN \n",
      "data.dropna()"
     ],
     "language": "python",
     "metadata": {},
     "outputs": [
      {
       "metadata": {},
       "output_type": "pyout",
       "prompt_number": 110,
       "text": [
        "0     one\n",
        "1     two\n",
        "3    four\n",
        "dtype: object"
       ]
      }
     ],
     "prompt_number": 110
    },
    {
     "cell_type": "code",
     "collapsed": false,
     "input": [
      "# In a DataFrame we need to be a little more careful!\n",
      "\n",
      "dframe = DataFrame([[1,2,3],[np.nan,5,6],[7,np.nan,9],[np.nan,np.nan,np.nan]])\n",
      "dframe"
     ],
     "language": "python",
     "metadata": {},
     "outputs": [
      {
       "html": [
        "<div style=\"max-height:1000px;max-width:1500px;overflow:auto;\">\n",
        "<table border=\"1\" class=\"dataframe\">\n",
        "  <thead>\n",
        "    <tr style=\"text-align: right;\">\n",
        "      <th></th>\n",
        "      <th>0</th>\n",
        "      <th>1</th>\n",
        "      <th>2</th>\n",
        "    </tr>\n",
        "  </thead>\n",
        "  <tbody>\n",
        "    <tr>\n",
        "      <th>0</th>\n",
        "      <td>  1</td>\n",
        "      <td>  2</td>\n",
        "      <td>  3</td>\n",
        "    </tr>\n",
        "    <tr>\n",
        "      <th>1</th>\n",
        "      <td>NaN</td>\n",
        "      <td>  5</td>\n",
        "      <td>  6</td>\n",
        "    </tr>\n",
        "    <tr>\n",
        "      <th>2</th>\n",
        "      <td>  7</td>\n",
        "      <td>NaN</td>\n",
        "      <td>  9</td>\n",
        "    </tr>\n",
        "    <tr>\n",
        "      <th>3</th>\n",
        "      <td>NaN</td>\n",
        "      <td>NaN</td>\n",
        "      <td>NaN</td>\n",
        "    </tr>\n",
        "  </tbody>\n",
        "</table>\n",
        "</div>"
       ],
       "metadata": {},
       "output_type": "pyout",
       "prompt_number": 112,
       "text": [
        "    0   1   2\n",
        "0   1   2   3\n",
        "1 NaN   5   6\n",
        "2   7 NaN   9\n",
        "3 NaN NaN NaN"
       ]
      }
     ],
     "prompt_number": 112
    },
    {
     "cell_type": "code",
     "collapsed": false,
     "input": [
      "clean_dframe = dframe.dropna()\n",
      "clean_dframe"
     ],
     "language": "python",
     "metadata": {},
     "outputs": [
      {
       "html": [
        "<div style=\"max-height:1000px;max-width:1500px;overflow:auto;\">\n",
        "<table border=\"1\" class=\"dataframe\">\n",
        "  <thead>\n",
        "    <tr style=\"text-align: right;\">\n",
        "      <th></th>\n",
        "      <th>0</th>\n",
        "      <th>1</th>\n",
        "      <th>2</th>\n",
        "    </tr>\n",
        "  </thead>\n",
        "  <tbody>\n",
        "    <tr>\n",
        "      <th>0</th>\n",
        "      <td> 1</td>\n",
        "      <td> 2</td>\n",
        "      <td> 3</td>\n",
        "    </tr>\n",
        "  </tbody>\n",
        "</table>\n",
        "</div>"
       ],
       "metadata": {},
       "output_type": "pyout",
       "prompt_number": 113,
       "text": [
        "   0  1  2\n",
        "0  1  2  3"
       ]
      }
     ],
     "prompt_number": 113
    },
    {
     "cell_type": "code",
     "collapsed": false,
     "input": [
      "#We can also specify to only drop rows that are complete missing all data\n",
      "dframe.dropna(how='all')"
     ],
     "language": "python",
     "metadata": {},
     "outputs": [
      {
       "html": [
        "<div style=\"max-height:1000px;max-width:1500px;overflow:auto;\">\n",
        "<table border=\"1\" class=\"dataframe\">\n",
        "  <thead>\n",
        "    <tr style=\"text-align: right;\">\n",
        "      <th></th>\n",
        "      <th>0</th>\n",
        "      <th>1</th>\n",
        "      <th>2</th>\n",
        "    </tr>\n",
        "  </thead>\n",
        "  <tbody>\n",
        "    <tr>\n",
        "      <th>0</th>\n",
        "      <td>  1</td>\n",
        "      <td>  2</td>\n",
        "      <td> 3</td>\n",
        "    </tr>\n",
        "    <tr>\n",
        "      <th>1</th>\n",
        "      <td>NaN</td>\n",
        "      <td>  5</td>\n",
        "      <td> 6</td>\n",
        "    </tr>\n",
        "    <tr>\n",
        "      <th>2</th>\n",
        "      <td>  7</td>\n",
        "      <td>NaN</td>\n",
        "      <td> 9</td>\n",
        "    </tr>\n",
        "  </tbody>\n",
        "</table>\n",
        "</div>"
       ],
       "metadata": {},
       "output_type": "pyout",
       "prompt_number": 114,
       "text": [
        "    0   1  2\n",
        "0   1   2  3\n",
        "1 NaN   5  6\n",
        "2   7 NaN  9"
       ]
      }
     ],
     "prompt_number": 114
    },
    {
     "cell_type": "code",
     "collapsed": false,
     "input": [
      "#Or we can specify to drop columns with missing data\n",
      "dframe.dropna(axis=1)\n",
      "\n",
      "#This should drop all columns out since every column contains at least 1 NAN"
     ],
     "language": "python",
     "metadata": {},
     "outputs": [
      {
       "html": [
        "<div style=\"max-height:1000px;max-width:1500px;overflow:auto;\">\n",
        "<table border=\"1\" class=\"dataframe\">\n",
        "  <thead>\n",
        "    <tr style=\"text-align: right;\">\n",
        "      <th></th>\n",
        "    </tr>\n",
        "  </thead>\n",
        "  <tbody>\n",
        "    <tr>\n",
        "      <th>0</th>\n",
        "    </tr>\n",
        "    <tr>\n",
        "      <th>1</th>\n",
        "    </tr>\n",
        "    <tr>\n",
        "      <th>2</th>\n",
        "    </tr>\n",
        "    <tr>\n",
        "      <th>3</th>\n",
        "    </tr>\n",
        "  </tbody>\n",
        "</table>\n",
        "</div>"
       ],
       "metadata": {},
       "output_type": "pyout",
       "prompt_number": 115,
       "text": [
        "Empty DataFrame\n",
        "Columns: []\n",
        "Index: [0, 1, 2, 3]"
       ]
      }
     ],
     "prompt_number": 115
    },
    {
     "cell_type": "code",
     "collapsed": false,
     "input": [
      "#We can also threshold teh missing data as well\n",
      "\n",
      "#For example if we only want rows with at least 3 data points\n",
      "dframe2 = DataFrame([[1,2,3,np.nan],[2,np.nan,5,6],[np.nan,7,np.nan,9],[1,np.nan,np.nan,np.nan]])\n",
      "\n",
      "#Show\n",
      "dframe2"
     ],
     "language": "python",
     "metadata": {},
     "outputs": [
      {
       "html": [
        "<div style=\"max-height:1000px;max-width:1500px;overflow:auto;\">\n",
        "<table border=\"1\" class=\"dataframe\">\n",
        "  <thead>\n",
        "    <tr style=\"text-align: right;\">\n",
        "      <th></th>\n",
        "      <th>0</th>\n",
        "      <th>1</th>\n",
        "      <th>2</th>\n",
        "      <th>3</th>\n",
        "    </tr>\n",
        "  </thead>\n",
        "  <tbody>\n",
        "    <tr>\n",
        "      <th>0</th>\n",
        "      <td>  1</td>\n",
        "      <td>  2</td>\n",
        "      <td>  3</td>\n",
        "      <td>NaN</td>\n",
        "    </tr>\n",
        "    <tr>\n",
        "      <th>1</th>\n",
        "      <td>  2</td>\n",
        "      <td>NaN</td>\n",
        "      <td>  5</td>\n",
        "      <td>  6</td>\n",
        "    </tr>\n",
        "    <tr>\n",
        "      <th>2</th>\n",
        "      <td>NaN</td>\n",
        "      <td>  7</td>\n",
        "      <td>NaN</td>\n",
        "      <td>  9</td>\n",
        "    </tr>\n",
        "    <tr>\n",
        "      <th>3</th>\n",
        "      <td>  1</td>\n",
        "      <td>NaN</td>\n",
        "      <td>NaN</td>\n",
        "      <td>NaN</td>\n",
        "    </tr>\n",
        "  </tbody>\n",
        "</table>\n",
        "</div>"
       ],
       "metadata": {},
       "output_type": "pyout",
       "prompt_number": 116,
       "text": [
        "    0   1   2   3\n",
        "0   1   2   3 NaN\n",
        "1   2 NaN   5   6\n",
        "2 NaN   7 NaN   9\n",
        "3   1 NaN NaN NaN"
       ]
      }
     ],
     "prompt_number": 116
    },
    {
     "cell_type": "code",
     "collapsed": false,
     "input": [
      "#Droppin any rows tht dont have at least 2 data points\n",
      "dframe2.dropna(thresh=2)"
     ],
     "language": "python",
     "metadata": {},
     "outputs": [
      {
       "html": [
        "<div style=\"max-height:1000px;max-width:1500px;overflow:auto;\">\n",
        "<table border=\"1\" class=\"dataframe\">\n",
        "  <thead>\n",
        "    <tr style=\"text-align: right;\">\n",
        "      <th></th>\n",
        "      <th>0</th>\n",
        "      <th>1</th>\n",
        "      <th>2</th>\n",
        "      <th>3</th>\n",
        "    </tr>\n",
        "  </thead>\n",
        "  <tbody>\n",
        "    <tr>\n",
        "      <th>0</th>\n",
        "      <td>  1</td>\n",
        "      <td>  2</td>\n",
        "      <td>  3</td>\n",
        "      <td>NaN</td>\n",
        "    </tr>\n",
        "    <tr>\n",
        "      <th>1</th>\n",
        "      <td>  2</td>\n",
        "      <td>NaN</td>\n",
        "      <td>  5</td>\n",
        "      <td>  6</td>\n",
        "    </tr>\n",
        "    <tr>\n",
        "      <th>2</th>\n",
        "      <td>NaN</td>\n",
        "      <td>  7</td>\n",
        "      <td>NaN</td>\n",
        "      <td>  9</td>\n",
        "    </tr>\n",
        "  </tbody>\n",
        "</table>\n",
        "</div>"
       ],
       "metadata": {},
       "output_type": "pyout",
       "prompt_number": 117,
       "text": [
        "    0   1   2   3\n",
        "0   1   2   3 NaN\n",
        "1   2 NaN   5   6\n",
        "2 NaN   7 NaN   9"
       ]
      }
     ],
     "prompt_number": 117
    },
    {
     "cell_type": "code",
     "collapsed": false,
     "input": [
      "#Dropiing rows without at least 3 data points\n",
      "dframe2.dropna(thresh=3)"
     ],
     "language": "python",
     "metadata": {},
     "outputs": [
      {
       "html": [
        "<div style=\"max-height:1000px;max-width:1500px;overflow:auto;\">\n",
        "<table border=\"1\" class=\"dataframe\">\n",
        "  <thead>\n",
        "    <tr style=\"text-align: right;\">\n",
        "      <th></th>\n",
        "      <th>0</th>\n",
        "      <th>1</th>\n",
        "      <th>2</th>\n",
        "      <th>3</th>\n",
        "    </tr>\n",
        "  </thead>\n",
        "  <tbody>\n",
        "    <tr>\n",
        "      <th>0</th>\n",
        "      <td> 1</td>\n",
        "      <td>  2</td>\n",
        "      <td> 3</td>\n",
        "      <td>NaN</td>\n",
        "    </tr>\n",
        "    <tr>\n",
        "      <th>1</th>\n",
        "      <td> 2</td>\n",
        "      <td>NaN</td>\n",
        "      <td> 5</td>\n",
        "      <td>  6</td>\n",
        "    </tr>\n",
        "  </tbody>\n",
        "</table>\n",
        "</div>"
       ],
       "metadata": {},
       "output_type": "pyout",
       "prompt_number": 119,
       "text": [
        "   0   1  2   3\n",
        "0  1   2  3 NaN\n",
        "1  2 NaN  5   6"
       ]
      }
     ],
     "prompt_number": 119
    },
    {
     "cell_type": "code",
     "collapsed": false,
     "input": [
      "#We can also fill any NAN\n",
      "dframe2.fillna(1)"
     ],
     "language": "python",
     "metadata": {},
     "outputs": [
      {
       "html": [
        "<div style=\"max-height:1000px;max-width:1500px;overflow:auto;\">\n",
        "<table border=\"1\" class=\"dataframe\">\n",
        "  <thead>\n",
        "    <tr style=\"text-align: right;\">\n",
        "      <th></th>\n",
        "      <th>0</th>\n",
        "      <th>1</th>\n",
        "      <th>2</th>\n",
        "      <th>3</th>\n",
        "    </tr>\n",
        "  </thead>\n",
        "  <tbody>\n",
        "    <tr>\n",
        "      <th>0</th>\n",
        "      <td> 1</td>\n",
        "      <td> 2</td>\n",
        "      <td> 3</td>\n",
        "      <td> 1</td>\n",
        "    </tr>\n",
        "    <tr>\n",
        "      <th>1</th>\n",
        "      <td> 2</td>\n",
        "      <td> 1</td>\n",
        "      <td> 5</td>\n",
        "      <td> 6</td>\n",
        "    </tr>\n",
        "    <tr>\n",
        "      <th>2</th>\n",
        "      <td> 1</td>\n",
        "      <td> 7</td>\n",
        "      <td> 1</td>\n",
        "      <td> 9</td>\n",
        "    </tr>\n",
        "    <tr>\n",
        "      <th>3</th>\n",
        "      <td> 1</td>\n",
        "      <td> 1</td>\n",
        "      <td> 1</td>\n",
        "      <td> 1</td>\n",
        "    </tr>\n",
        "  </tbody>\n",
        "</table>\n",
        "</div>"
       ],
       "metadata": {},
       "output_type": "pyout",
       "prompt_number": 120,
       "text": [
        "   0  1  2  3\n",
        "0  1  2  3  1\n",
        "1  2  1  5  6\n",
        "2  1  7  1  9\n",
        "3  1  1  1  1"
       ]
      }
     ],
     "prompt_number": 120
    },
    {
     "cell_type": "code",
     "collapsed": false,
     "input": [
      "#Can also fill in diff values for diff columns\n",
      "dframe2.fillna({0:0,1:1,2:2,3:3})"
     ],
     "language": "python",
     "metadata": {},
     "outputs": [
      {
       "html": [
        "<div style=\"max-height:1000px;max-width:1500px;overflow:auto;\">\n",
        "<table border=\"1\" class=\"dataframe\">\n",
        "  <thead>\n",
        "    <tr style=\"text-align: right;\">\n",
        "      <th></th>\n",
        "      <th>0</th>\n",
        "      <th>1</th>\n",
        "      <th>2</th>\n",
        "      <th>3</th>\n",
        "    </tr>\n",
        "  </thead>\n",
        "  <tbody>\n",
        "    <tr>\n",
        "      <th>0</th>\n",
        "      <td> 1</td>\n",
        "      <td> 2</td>\n",
        "      <td> 3</td>\n",
        "      <td> 3</td>\n",
        "    </tr>\n",
        "    <tr>\n",
        "      <th>1</th>\n",
        "      <td> 2</td>\n",
        "      <td> 1</td>\n",
        "      <td> 5</td>\n",
        "      <td> 6</td>\n",
        "    </tr>\n",
        "    <tr>\n",
        "      <th>2</th>\n",
        "      <td> 0</td>\n",
        "      <td> 7</td>\n",
        "      <td> 2</td>\n",
        "      <td> 9</td>\n",
        "    </tr>\n",
        "    <tr>\n",
        "      <th>3</th>\n",
        "      <td> 1</td>\n",
        "      <td> 1</td>\n",
        "      <td> 2</td>\n",
        "      <td> 3</td>\n",
        "    </tr>\n",
        "  </tbody>\n",
        "</table>\n",
        "</div>"
       ],
       "metadata": {},
       "output_type": "pyout",
       "prompt_number": 121,
       "text": [
        "   0  1  2  3\n",
        "0  1  2  3  3\n",
        "1  2  1  5  6\n",
        "2  0  7  2  9\n",
        "3  1  1  2  3"
       ]
      }
     ],
     "prompt_number": 121
    },
    {
     "cell_type": "code",
     "collapsed": false,
     "input": [
      "dframe2"
     ],
     "language": "python",
     "metadata": {},
     "outputs": [
      {
       "html": [
        "<div style=\"max-height:1000px;max-width:1500px;overflow:auto;\">\n",
        "<table border=\"1\" class=\"dataframe\">\n",
        "  <thead>\n",
        "    <tr style=\"text-align: right;\">\n",
        "      <th></th>\n",
        "      <th>0</th>\n",
        "      <th>1</th>\n",
        "      <th>2</th>\n",
        "      <th>3</th>\n",
        "    </tr>\n",
        "  </thead>\n",
        "  <tbody>\n",
        "    <tr>\n",
        "      <th>0</th>\n",
        "      <td>  1</td>\n",
        "      <td>  2</td>\n",
        "      <td>  3</td>\n",
        "      <td>NaN</td>\n",
        "    </tr>\n",
        "    <tr>\n",
        "      <th>1</th>\n",
        "      <td>  2</td>\n",
        "      <td>NaN</td>\n",
        "      <td>  5</td>\n",
        "      <td>  6</td>\n",
        "    </tr>\n",
        "    <tr>\n",
        "      <th>2</th>\n",
        "      <td>NaN</td>\n",
        "      <td>  7</td>\n",
        "      <td>NaN</td>\n",
        "      <td>  9</td>\n",
        "    </tr>\n",
        "    <tr>\n",
        "      <th>3</th>\n",
        "      <td>  1</td>\n",
        "      <td>NaN</td>\n",
        "      <td>NaN</td>\n",
        "      <td>NaN</td>\n",
        "    </tr>\n",
        "  </tbody>\n",
        "</table>\n",
        "</div>"
       ],
       "metadata": {},
       "output_type": "pyout",
       "prompt_number": 122,
       "text": [
        "    0   1   2   3\n",
        "0   1   2   3 NaN\n",
        "1   2 NaN   5   6\n",
        "2 NaN   7 NaN   9\n",
        "3   1 NaN NaN NaN"
       ]
      }
     ],
     "prompt_number": 122
    },
    {
     "cell_type": "code",
     "collapsed": false,
     "input": [
      "#If we want to modify the exsisting object, use inplace\n",
      "dframe2.fillna(0,inplace=True)"
     ],
     "language": "python",
     "metadata": {},
     "outputs": [],
     "prompt_number": 123
    },
    {
     "cell_type": "code",
     "collapsed": false,
     "input": [
      "dframe2"
     ],
     "language": "python",
     "metadata": {},
     "outputs": [
      {
       "html": [
        "<div style=\"max-height:1000px;max-width:1500px;overflow:auto;\">\n",
        "<table border=\"1\" class=\"dataframe\">\n",
        "  <thead>\n",
        "    <tr style=\"text-align: right;\">\n",
        "      <th></th>\n",
        "      <th>0</th>\n",
        "      <th>1</th>\n",
        "      <th>2</th>\n",
        "      <th>3</th>\n",
        "    </tr>\n",
        "  </thead>\n",
        "  <tbody>\n",
        "    <tr>\n",
        "      <th>0</th>\n",
        "      <td> 1</td>\n",
        "      <td> 2</td>\n",
        "      <td> 3</td>\n",
        "      <td> 0</td>\n",
        "    </tr>\n",
        "    <tr>\n",
        "      <th>1</th>\n",
        "      <td> 2</td>\n",
        "      <td> 0</td>\n",
        "      <td> 5</td>\n",
        "      <td> 6</td>\n",
        "    </tr>\n",
        "    <tr>\n",
        "      <th>2</th>\n",
        "      <td> 0</td>\n",
        "      <td> 7</td>\n",
        "      <td> 0</td>\n",
        "      <td> 9</td>\n",
        "    </tr>\n",
        "    <tr>\n",
        "      <th>3</th>\n",
        "      <td> 1</td>\n",
        "      <td> 0</td>\n",
        "      <td> 0</td>\n",
        "      <td> 0</td>\n",
        "    </tr>\n",
        "  </tbody>\n",
        "</table>\n",
        "</div>"
       ],
       "metadata": {},
       "output_type": "pyout",
       "prompt_number": 124,
       "text": [
        "   0  1  2  3\n",
        "0  1  2  3  0\n",
        "1  2  0  5  6\n",
        "2  0  7  0  9\n",
        "3  1  0  0  0"
       ]
      }
     ],
     "prompt_number": 124
    },
    {
     "cell_type": "markdown",
     "metadata": {},
     "source": [
      "#Index Hierarchy"
     ]
    },
    {
     "cell_type": "code",
     "collapsed": false,
     "input": [
      "#Now we'll learn about Index Hierarchy\n",
      "\n",
      "#pandas allows you to have multiple index levels, which is very clear with this example:\n",
      "\n",
      "ser = Series(np.random.randn(6),index=[[1,1,1,2,2,2],['a','b','c','a','b','c']])\n",
      "ser"
     ],
     "language": "python",
     "metadata": {},
     "outputs": [
      {
       "metadata": {},
       "output_type": "pyout",
       "prompt_number": 126,
       "text": [
        "1  a   -1.466525\n",
        "   b   -0.305346\n",
        "   c    0.545888\n",
        "2  a    0.468509\n",
        "   b   -2.165480\n",
        "   c   -0.780303\n",
        "dtype: float64"
       ]
      }
     ],
     "prompt_number": 126
    },
    {
     "cell_type": "code",
     "collapsed": false,
     "input": [
      "# We can check the multiple levels\n",
      "ser.index"
     ],
     "language": "python",
     "metadata": {},
     "outputs": [
      {
       "metadata": {},
       "output_type": "pyout",
       "prompt_number": 127,
       "text": [
        "MultiIndex(levels=[[1, 2], [u'a', u'b', u'c']],\n",
        "           labels=[[0, 0, 0, 1, 1, 1], [0, 1, 2, 0, 1, 2]])"
       ]
      }
     ],
     "prompt_number": 127
    },
    {
     "cell_type": "code",
     "collapsed": false,
     "input": [
      "#Now we can sleect specific subsets\n",
      "ser[1]"
     ],
     "language": "python",
     "metadata": {},
     "outputs": [
      {
       "metadata": {},
       "output_type": "pyout",
       "prompt_number": 128,
       "text": [
        "a   -1.466525\n",
        "b   -0.305346\n",
        "c    0.545888\n",
        "dtype: float64"
       ]
      }
     ],
     "prompt_number": 128
    },
    {
     "cell_type": "code",
     "collapsed": false,
     "input": [
      "# We can also select from an internal index level\n",
      "ser[:,'a']"
     ],
     "language": "python",
     "metadata": {},
     "outputs": [
      {
       "metadata": {},
       "output_type": "pyout",
       "prompt_number": 129,
       "text": [
        "1   -1.466525\n",
        "2    0.468509\n",
        "dtype: float64"
       ]
      }
     ],
     "prompt_number": 129
    },
    {
     "cell_type": "code",
     "collapsed": false,
     "input": [
      "# We can also create Data Frames from Series with multiple levels\n",
      "dframe = ser.unstack()\n",
      "\n",
      "#Show\n",
      "dframe"
     ],
     "language": "python",
     "metadata": {},
     "outputs": [
      {
       "html": [
        "<div style=\"max-height:1000px;max-width:1500px;overflow:auto;\">\n",
        "<table border=\"1\" class=\"dataframe\">\n",
        "  <thead>\n",
        "    <tr style=\"text-align: right;\">\n",
        "      <th></th>\n",
        "      <th>a</th>\n",
        "      <th>b</th>\n",
        "      <th>c</th>\n",
        "    </tr>\n",
        "  </thead>\n",
        "  <tbody>\n",
        "    <tr>\n",
        "      <th>1</th>\n",
        "      <td>-1.466525</td>\n",
        "      <td>-0.305346</td>\n",
        "      <td> 0.545888</td>\n",
        "    </tr>\n",
        "    <tr>\n",
        "      <th>2</th>\n",
        "      <td> 0.468509</td>\n",
        "      <td>-2.165480</td>\n",
        "      <td>-0.780303</td>\n",
        "    </tr>\n",
        "  </tbody>\n",
        "</table>\n",
        "</div>"
       ],
       "metadata": {},
       "output_type": "pyout",
       "prompt_number": 130,
       "text": [
        "          a         b         c\n",
        "1 -1.466525 -0.305346  0.545888\n",
        "2  0.468509 -2.165480 -0.780303"
       ]
      }
     ],
     "prompt_number": 130
    },
    {
     "cell_type": "code",
     "collapsed": false,
     "input": [
      "#Can also reverse\n",
      "dframe.unstack()"
     ],
     "language": "python",
     "metadata": {},
     "outputs": [
      {
       "metadata": {},
       "output_type": "pyout",
       "prompt_number": 131,
       "text": [
        "a  1   -1.466525\n",
        "   2    0.468509\n",
        "b  1   -0.305346\n",
        "   2   -2.165480\n",
        "c  1    0.545888\n",
        "   2   -0.780303\n",
        "dtype: float64"
       ]
      }
     ],
     "prompt_number": 131
    },
    {
     "cell_type": "code",
     "collapsed": false,
     "input": [
      "# We can also apply multiple level indexing to DataFrames\n",
      "dframe2 = DataFrame(np.arange(16).reshape(4,4),\n",
      "                    index=[['a','a','b','b'],[1,2,1,2]],\n",
      "                    columns=[['NY','NY','LA','SF'],['cold','hot','hot','cold']])\n",
      "                                                   \n",
      "dframe2    "
     ],
     "language": "python",
     "metadata": {},
     "outputs": [
      {
       "html": [
        "<div style=\"max-height:1000px;max-width:1500px;overflow:auto;\">\n",
        "<table border=\"1\" class=\"dataframe\">\n",
        "  <thead>\n",
        "    <tr>\n",
        "      <th></th>\n",
        "      <th></th>\n",
        "      <th colspan=\"2\" halign=\"left\">NY</th>\n",
        "      <th>LA</th>\n",
        "      <th>SF</th>\n",
        "    </tr>\n",
        "    <tr>\n",
        "      <th></th>\n",
        "      <th></th>\n",
        "      <th>cold</th>\n",
        "      <th>hot</th>\n",
        "      <th>hot</th>\n",
        "      <th>cold</th>\n",
        "    </tr>\n",
        "  </thead>\n",
        "  <tbody>\n",
        "    <tr>\n",
        "      <th rowspan=\"2\" valign=\"top\">a</th>\n",
        "      <th>1</th>\n",
        "      <td>  0</td>\n",
        "      <td>  1</td>\n",
        "      <td>  2</td>\n",
        "      <td>  3</td>\n",
        "    </tr>\n",
        "    <tr>\n",
        "      <th>2</th>\n",
        "      <td>  4</td>\n",
        "      <td>  5</td>\n",
        "      <td>  6</td>\n",
        "      <td>  7</td>\n",
        "    </tr>\n",
        "    <tr>\n",
        "      <th rowspan=\"2\" valign=\"top\">b</th>\n",
        "      <th>1</th>\n",
        "      <td>  8</td>\n",
        "      <td>  9</td>\n",
        "      <td> 10</td>\n",
        "      <td> 11</td>\n",
        "    </tr>\n",
        "    <tr>\n",
        "      <th>2</th>\n",
        "      <td> 12</td>\n",
        "      <td> 13</td>\n",
        "      <td> 14</td>\n",
        "      <td> 15</td>\n",
        "    </tr>\n",
        "  </tbody>\n",
        "</table>\n",
        "</div>"
       ],
       "metadata": {},
       "output_type": "pyout",
       "prompt_number": 132,
       "text": [
        "       NY        LA    SF\n",
        "     cold  hot  hot  cold\n",
        "a 1     0    1    2     3\n",
        "  2     4    5    6     7\n",
        "b 1     8    9   10    11\n",
        "  2    12   13   14    15"
       ]
      }
     ],
     "prompt_number": 132
    },
    {
     "cell_type": "code",
     "collapsed": false,
     "input": [
      "# We can also give these index levels names\n",
      "\n",
      "#Name the index levels\n",
      "dframe2.index.names = ['INDEX_1','INDEX_2']\n",
      "\n",
      "#Name the column levels\n",
      "dframe2.columns.names = ['Cities','Temp']\n",
      "\n",
      "dframe2"
     ],
     "language": "python",
     "metadata": {},
     "outputs": [
      {
       "html": [
        "<div style=\"max-height:1000px;max-width:1500px;overflow:auto;\">\n",
        "<table border=\"1\" class=\"dataframe\">\n",
        "  <thead>\n",
        "    <tr>\n",
        "      <th></th>\n",
        "      <th>Cities</th>\n",
        "      <th colspan=\"2\" halign=\"left\">NY</th>\n",
        "      <th>LA</th>\n",
        "      <th>SF</th>\n",
        "    </tr>\n",
        "    <tr>\n",
        "      <th></th>\n",
        "      <th>Temp</th>\n",
        "      <th>cold</th>\n",
        "      <th>hot</th>\n",
        "      <th>hot</th>\n",
        "      <th>cold</th>\n",
        "    </tr>\n",
        "    <tr>\n",
        "      <th>INDEX_1</th>\n",
        "      <th>INDEX_2</th>\n",
        "      <th></th>\n",
        "      <th></th>\n",
        "      <th></th>\n",
        "      <th></th>\n",
        "    </tr>\n",
        "  </thead>\n",
        "  <tbody>\n",
        "    <tr>\n",
        "      <th rowspan=\"2\" valign=\"top\">a</th>\n",
        "      <th>1</th>\n",
        "      <td>  0</td>\n",
        "      <td>  1</td>\n",
        "      <td>  2</td>\n",
        "      <td>  3</td>\n",
        "    </tr>\n",
        "    <tr>\n",
        "      <th>2</th>\n",
        "      <td>  4</td>\n",
        "      <td>  5</td>\n",
        "      <td>  6</td>\n",
        "      <td>  7</td>\n",
        "    </tr>\n",
        "    <tr>\n",
        "      <th rowspan=\"2\" valign=\"top\">b</th>\n",
        "      <th>1</th>\n",
        "      <td>  8</td>\n",
        "      <td>  9</td>\n",
        "      <td> 10</td>\n",
        "      <td> 11</td>\n",
        "    </tr>\n",
        "    <tr>\n",
        "      <th>2</th>\n",
        "      <td> 12</td>\n",
        "      <td> 13</td>\n",
        "      <td> 14</td>\n",
        "      <td> 15</td>\n",
        "    </tr>\n",
        "  </tbody>\n",
        "</table>\n",
        "</div>"
       ],
       "metadata": {},
       "output_type": "pyout",
       "prompt_number": 133,
       "text": [
        "Cities             NY        LA    SF\n",
        "Temp             cold  hot  hot  cold\n",
        "INDEX_1 INDEX_2                      \n",
        "a       1           0    1    2     3\n",
        "        2           4    5    6     7\n",
        "b       1           8    9   10    11\n",
        "        2          12   13   14    15"
       ]
      }
     ],
     "prompt_number": 133
    },
    {
     "cell_type": "code",
     "collapsed": false,
     "input": [
      "# We can also interchange level orders (note the axis=1 for columns)\n",
      "dframe2.swaplevel('Cities','Temp',axis=1)"
     ],
     "language": "python",
     "metadata": {},
     "outputs": [
      {
       "html": [
        "<div style=\"max-height:1000px;max-width:1500px;overflow:auto;\">\n",
        "<table border=\"1\" class=\"dataframe\">\n",
        "  <thead>\n",
        "    <tr>\n",
        "      <th></th>\n",
        "      <th>Temp</th>\n",
        "      <th>cold</th>\n",
        "      <th colspan=\"2\" halign=\"left\">hot</th>\n",
        "      <th>cold</th>\n",
        "    </tr>\n",
        "    <tr>\n",
        "      <th></th>\n",
        "      <th>Cities</th>\n",
        "      <th>NY</th>\n",
        "      <th>NY</th>\n",
        "      <th>LA</th>\n",
        "      <th>SF</th>\n",
        "    </tr>\n",
        "    <tr>\n",
        "      <th>INDEX_1</th>\n",
        "      <th>INDEX_2</th>\n",
        "      <th></th>\n",
        "      <th></th>\n",
        "      <th></th>\n",
        "      <th></th>\n",
        "    </tr>\n",
        "  </thead>\n",
        "  <tbody>\n",
        "    <tr>\n",
        "      <th rowspan=\"2\" valign=\"top\">a</th>\n",
        "      <th>1</th>\n",
        "      <td>  0</td>\n",
        "      <td>  1</td>\n",
        "      <td>  2</td>\n",
        "      <td>  3</td>\n",
        "    </tr>\n",
        "    <tr>\n",
        "      <th>2</th>\n",
        "      <td>  4</td>\n",
        "      <td>  5</td>\n",
        "      <td>  6</td>\n",
        "      <td>  7</td>\n",
        "    </tr>\n",
        "    <tr>\n",
        "      <th rowspan=\"2\" valign=\"top\">b</th>\n",
        "      <th>1</th>\n",
        "      <td>  8</td>\n",
        "      <td>  9</td>\n",
        "      <td> 10</td>\n",
        "      <td> 11</td>\n",
        "    </tr>\n",
        "    <tr>\n",
        "      <th>2</th>\n",
        "      <td> 12</td>\n",
        "      <td> 13</td>\n",
        "      <td> 14</td>\n",
        "      <td> 15</td>\n",
        "    </tr>\n",
        "  </tbody>\n",
        "</table>\n",
        "</div>"
       ],
       "metadata": {},
       "output_type": "pyout",
       "prompt_number": 134,
       "text": [
        "Temp             cold  hot      cold\n",
        "Cities             NY   NY  LA    SF\n",
        "INDEX_1 INDEX_2                     \n",
        "a       1           0    1   2     3\n",
        "        2           4    5   6     7\n",
        "b       1           8    9  10    11\n",
        "        2          12   13  14    15"
       ]
      }
     ],
     "prompt_number": 134
    },
    {
     "cell_type": "code",
     "collapsed": false,
     "input": [
      "#We can also sort levels\n",
      "dframe2.sortlevel(1)"
     ],
     "language": "python",
     "metadata": {},
     "outputs": [
      {
       "html": [
        "<div style=\"max-height:1000px;max-width:1500px;overflow:auto;\">\n",
        "<table border=\"1\" class=\"dataframe\">\n",
        "  <thead>\n",
        "    <tr>\n",
        "      <th></th>\n",
        "      <th>Cities</th>\n",
        "      <th colspan=\"2\" halign=\"left\">NY</th>\n",
        "      <th>LA</th>\n",
        "      <th>SF</th>\n",
        "    </tr>\n",
        "    <tr>\n",
        "      <th></th>\n",
        "      <th>Temp</th>\n",
        "      <th>cold</th>\n",
        "      <th>hot</th>\n",
        "      <th>hot</th>\n",
        "      <th>cold</th>\n",
        "    </tr>\n",
        "    <tr>\n",
        "      <th>INDEX_1</th>\n",
        "      <th>INDEX_2</th>\n",
        "      <th></th>\n",
        "      <th></th>\n",
        "      <th></th>\n",
        "      <th></th>\n",
        "    </tr>\n",
        "  </thead>\n",
        "  <tbody>\n",
        "    <tr>\n",
        "      <th>a</th>\n",
        "      <th>1</th>\n",
        "      <td>  0</td>\n",
        "      <td>  1</td>\n",
        "      <td>  2</td>\n",
        "      <td>  3</td>\n",
        "    </tr>\n",
        "    <tr>\n",
        "      <th>b</th>\n",
        "      <th>1</th>\n",
        "      <td>  8</td>\n",
        "      <td>  9</td>\n",
        "      <td> 10</td>\n",
        "      <td> 11</td>\n",
        "    </tr>\n",
        "    <tr>\n",
        "      <th>a</th>\n",
        "      <th>2</th>\n",
        "      <td>  4</td>\n",
        "      <td>  5</td>\n",
        "      <td>  6</td>\n",
        "      <td>  7</td>\n",
        "    </tr>\n",
        "    <tr>\n",
        "      <th>b</th>\n",
        "      <th>2</th>\n",
        "      <td> 12</td>\n",
        "      <td> 13</td>\n",
        "      <td> 14</td>\n",
        "      <td> 15</td>\n",
        "    </tr>\n",
        "  </tbody>\n",
        "</table>\n",
        "</div>"
       ],
       "metadata": {},
       "output_type": "pyout",
       "prompt_number": 135,
       "text": [
        "Cities             NY        LA    SF\n",
        "Temp             cold  hot  hot  cold\n",
        "INDEX_1 INDEX_2                      \n",
        "a       1           0    1    2     3\n",
        "b       1           8    9   10    11\n",
        "a       2           4    5    6     7\n",
        "b       2          12   13   14    15"
       ]
      }
     ],
     "prompt_number": 135
    },
    {
     "cell_type": "code",
     "collapsed": false,
     "input": [
      "#We can also sort levels\n",
      "dframe2.sortlevel(0)"
     ],
     "language": "python",
     "metadata": {},
     "outputs": [
      {
       "html": [
        "<div style=\"max-height:1000px;max-width:1500px;overflow:auto;\">\n",
        "<table border=\"1\" class=\"dataframe\">\n",
        "  <thead>\n",
        "    <tr>\n",
        "      <th></th>\n",
        "      <th>Cities</th>\n",
        "      <th colspan=\"2\" halign=\"left\">NY</th>\n",
        "      <th>LA</th>\n",
        "      <th>SF</th>\n",
        "    </tr>\n",
        "    <tr>\n",
        "      <th></th>\n",
        "      <th>Temp</th>\n",
        "      <th>cold</th>\n",
        "      <th>hot</th>\n",
        "      <th>hot</th>\n",
        "      <th>cold</th>\n",
        "    </tr>\n",
        "    <tr>\n",
        "      <th>INDEX_1</th>\n",
        "      <th>INDEX_2</th>\n",
        "      <th></th>\n",
        "      <th></th>\n",
        "      <th></th>\n",
        "      <th></th>\n",
        "    </tr>\n",
        "  </thead>\n",
        "  <tbody>\n",
        "    <tr>\n",
        "      <th rowspan=\"2\" valign=\"top\">a</th>\n",
        "      <th>1</th>\n",
        "      <td>  0</td>\n",
        "      <td>  1</td>\n",
        "      <td>  2</td>\n",
        "      <td>  3</td>\n",
        "    </tr>\n",
        "    <tr>\n",
        "      <th>2</th>\n",
        "      <td>  4</td>\n",
        "      <td>  5</td>\n",
        "      <td>  6</td>\n",
        "      <td>  7</td>\n",
        "    </tr>\n",
        "    <tr>\n",
        "      <th rowspan=\"2\" valign=\"top\">b</th>\n",
        "      <th>1</th>\n",
        "      <td>  8</td>\n",
        "      <td>  9</td>\n",
        "      <td> 10</td>\n",
        "      <td> 11</td>\n",
        "    </tr>\n",
        "    <tr>\n",
        "      <th>2</th>\n",
        "      <td> 12</td>\n",
        "      <td> 13</td>\n",
        "      <td> 14</td>\n",
        "      <td> 15</td>\n",
        "    </tr>\n",
        "  </tbody>\n",
        "</table>\n",
        "</div>"
       ],
       "metadata": {},
       "output_type": "pyout",
       "prompt_number": 136,
       "text": [
        "Cities             NY        LA    SF\n",
        "Temp             cold  hot  hot  cold\n",
        "INDEX_1 INDEX_2                      \n",
        "a       1           0    1    2     3\n",
        "        2           4    5    6     7\n",
        "b       1           8    9   10    11\n",
        "        2          12   13   14    15"
       ]
      }
     ],
     "prompt_number": 136
    },
    {
     "cell_type": "code",
     "collapsed": false,
     "input": [
      "#We can also perform operations on particular levels\n",
      "dframe2.sum(level='Temp',axis=1)"
     ],
     "language": "python",
     "metadata": {},
     "outputs": [
      {
       "html": [
        "<div style=\"max-height:1000px;max-width:1500px;overflow:auto;\">\n",
        "<table border=\"1\" class=\"dataframe\">\n",
        "  <thead>\n",
        "    <tr style=\"text-align: right;\">\n",
        "      <th></th>\n",
        "      <th>Temp</th>\n",
        "      <th>cold</th>\n",
        "      <th>hot</th>\n",
        "    </tr>\n",
        "    <tr>\n",
        "      <th>INDEX_1</th>\n",
        "      <th>INDEX_2</th>\n",
        "      <th></th>\n",
        "      <th></th>\n",
        "    </tr>\n",
        "  </thead>\n",
        "  <tbody>\n",
        "    <tr>\n",
        "      <th rowspan=\"2\" valign=\"top\">a</th>\n",
        "      <th>1</th>\n",
        "      <td>  3</td>\n",
        "      <td>  3</td>\n",
        "    </tr>\n",
        "    <tr>\n",
        "      <th>2</th>\n",
        "      <td> 11</td>\n",
        "      <td> 11</td>\n",
        "    </tr>\n",
        "    <tr>\n",
        "      <th rowspan=\"2\" valign=\"top\">b</th>\n",
        "      <th>1</th>\n",
        "      <td> 19</td>\n",
        "      <td> 19</td>\n",
        "    </tr>\n",
        "    <tr>\n",
        "      <th>2</th>\n",
        "      <td> 27</td>\n",
        "      <td> 27</td>\n",
        "    </tr>\n",
        "  </tbody>\n",
        "</table>\n",
        "</div>"
       ],
       "metadata": {},
       "output_type": "pyout",
       "prompt_number": 137,
       "text": [
        "Temp             cold  hot\n",
        "INDEX_1 INDEX_2           \n",
        "a       1           3    3\n",
        "        2          11   11\n",
        "b       1          19   19\n",
        "        2          27   27"
       ]
      }
     ],
     "prompt_number": 137
    },
    {
     "cell_type": "code",
     "collapsed": false,
     "input": [
      "#We can also perform operations on particular levels\n",
      "dframe2.sum(level='INDEX_1',axis=0)"
     ],
     "language": "python",
     "metadata": {},
     "outputs": [
      {
       "html": [
        "<div style=\"max-height:1000px;max-width:1500px;overflow:auto;\">\n",
        "<table border=\"1\" class=\"dataframe\">\n",
        "  <thead>\n",
        "    <tr>\n",
        "      <th>Cities</th>\n",
        "      <th colspan=\"2\" halign=\"left\">NY</th>\n",
        "      <th>LA</th>\n",
        "      <th>SF</th>\n",
        "    </tr>\n",
        "    <tr>\n",
        "      <th>Temp</th>\n",
        "      <th>cold</th>\n",
        "      <th>hot</th>\n",
        "      <th>hot</th>\n",
        "      <th>cold</th>\n",
        "    </tr>\n",
        "    <tr>\n",
        "      <th>INDEX_1</th>\n",
        "      <th></th>\n",
        "      <th></th>\n",
        "      <th></th>\n",
        "      <th></th>\n",
        "    </tr>\n",
        "  </thead>\n",
        "  <tbody>\n",
        "    <tr>\n",
        "      <th>a</th>\n",
        "      <td>  4</td>\n",
        "      <td>  6</td>\n",
        "      <td>  8</td>\n",
        "      <td> 10</td>\n",
        "    </tr>\n",
        "    <tr>\n",
        "      <th>b</th>\n",
        "      <td> 20</td>\n",
        "      <td> 22</td>\n",
        "      <td> 24</td>\n",
        "      <td> 26</td>\n",
        "    </tr>\n",
        "  </tbody>\n",
        "</table>\n",
        "</div>"
       ],
       "metadata": {},
       "output_type": "pyout",
       "prompt_number": 138,
       "text": [
        "Cities     NY        LA    SF\n",
        "Temp     cold  hot  hot  cold\n",
        "INDEX_1                      \n",
        "a           4    6    8    10\n",
        "b          20   22   24    26"
       ]
      }
     ],
     "prompt_number": 138
    },
    {
     "cell_type": "code",
     "collapsed": false,
     "input": [],
     "language": "python",
     "metadata": {},
     "outputs": []
    }
   ],
   "metadata": {}
  }
 ]
}