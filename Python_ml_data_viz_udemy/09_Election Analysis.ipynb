{
 "metadata": {
  "name": "",
  "signature": "sha256:c7acad9ca756355f1c347b6003d20265c4c8f88ddc8b461d1ca2e7baee683591"
 },
 "nbformat": 3,
 "nbformat_minor": 0,
 "worksheets": [
  {
   "cells": [
    {
     "cell_type": "markdown",
     "metadata": {},
     "source": [
      "#Election Data Project - Polls and Donors\n",
      "In this Data Project we will be looking at data from the 2012 election.\n",
      "\n",
      "In this project we will analyze two datasets. The first data set will be the results of political polls. We will analyze this aggregated poll data and answer some questions:\n",
      "\n",
      "1.) Who was being polled and what was their party affiliation?\n",
      "\n",
      "2.) Did the poll results favor Romney or Obama?\n",
      "\n",
      "3.) How do undecided voters effect the poll?\n",
      "\n",
      "4.) Can we account for the undecided voters?\n",
      "\n",
      "5.) How did voter sentiment change over time?\n",
      "\n",
      "6.) Can we see an effect in the polls from the debates?\n",
      "\n",
      "We'll discuss the second data set later on!\n",
      "\n",
      "Let's go ahead and start with our standard imports:"
     ]
    },
    {
     "cell_type": "code",
     "collapsed": false,
     "input": [
      "# For data\n",
      "import pandas as pd\n",
      "from pandas import Series,DataFrame\n",
      "import numpy as np\n",
      "\n",
      "# For visualization\n",
      "import matplotlib.pyplot as plt\n",
      "import seaborn as sns\n",
      "sns.set_style('whitegrid')\n",
      "%matplotlib inline\n",
      "\n",
      "from __future__ import division"
     ],
     "language": "python",
     "metadata": {},
     "outputs": [],
     "prompt_number": 1
    },
    {
     "cell_type": "markdown",
     "metadata": {},
     "source": [
      "The data for the polls will be obtained from HuffPost Pollster. You can check their website http://elections.huffingtonpost.com/pollster. There are some pretty awesome politcal data stes to play with there so I encourage you to go and mess around with it yourself after completing this project.\n",
      "\n",
      "We're going to use the requests module to import some data from the web. For more information on requests, check out the documentation http://docs.python-requests.org/en/latest/.\n",
      "\n",
      "We will also be using StringIO to work with csv data we get from HuffPost. StringIO provides a convenient means of working with text in memory using the file API, find out more about it http://pymotw.com/2/StringIO/"
     ]
    },
    {
     "cell_type": "code",
     "collapsed": false,
     "input": [
      "# Use to grab data from the web(HTTP capabilities)\n",
      "import requests\n",
      "\n",
      "# We'll also use StringIO to work with the csv file, the DataFrame will require a .read() method\n",
      "from StringIO import StringIO"
     ],
     "language": "python",
     "metadata": {},
     "outputs": [],
     "prompt_number": 2
    },
    {
     "cell_type": "code",
     "collapsed": false,
     "input": [
      "# This is the url link for the poll data in csv form\n",
      "url = \"http://elections.huffingtonpost.com/pollster/2012-general-election-romney-vs-obama.csv\"\n",
      "\n",
      "# Use requests to get the information in text form\n",
      "source = requests.get(url).text\n",
      "\n",
      "# Use StringIO to avoid an IO error with pandas\n",
      "poll_data = StringIO(source) "
     ],
     "language": "python",
     "metadata": {},
     "outputs": [],
     "prompt_number": 3
    },
    {
     "cell_type": "markdown",
     "metadata": {},
     "source": [
      "Now that we have our data, we can set it as a DataFrame."
     ]
    },
    {
     "cell_type": "code",
     "collapsed": false,
     "input": [
      "# Set poll data as pandas DataFrame\n",
      "poll_df = pd.read_csv(poll_data)\n",
      "\n",
      "# Let's get a glimpse at the data\n",
      "poll_df.info()"
     ],
     "language": "python",
     "metadata": {},
     "outputs": [
      {
       "output_type": "stream",
       "stream": "stdout",
       "text": [
        "<class 'pandas.core.frame.DataFrame'>\n",
        "Int64Index: 589 entries, 0 to 588\n",
        "Data columns (total 14 columns):\n",
        "Pollster                  589 non-null object\n",
        "Start Date                589 non-null object\n",
        "End Date                  589 non-null object\n",
        "Entry Date/Time (ET)      589 non-null object\n",
        "Number of Observations    567 non-null float64\n",
        "Population                589 non-null object\n",
        "Mode                      589 non-null object\n",
        "Obama                     589 non-null int64\n",
        "Romney                    589 non-null int64\n",
        "Undecided                 422 non-null float64\n",
        "Pollster URL              589 non-null object\n",
        "Source URL                587 non-null object\n",
        "Partisan                  589 non-null object\n",
        "Affiliation               589 non-null object\n",
        "dtypes: float64(2), int64(2), object(10)\n",
        "memory usage: 69.0+ KB\n"
       ]
      }
     ],
     "prompt_number": 4
    },
    {
     "cell_type": "code",
     "collapsed": false,
     "input": [
      "# Preview DataFrame\n",
      "poll_df.head()"
     ],
     "language": "python",
     "metadata": {},
     "outputs": [
      {
       "html": [
        "<div style=\"max-width:1500px;overflow:auto;\">\n",
        "<table border=\"1\" class=\"dataframe\">\n",
        "  <thead>\n",
        "    <tr style=\"text-align: right;\">\n",
        "      <th></th>\n",
        "      <th>Pollster</th>\n",
        "      <th>Start Date</th>\n",
        "      <th>End Date</th>\n",
        "      <th>Entry Date/Time (ET)</th>\n",
        "      <th>Number of Observations</th>\n",
        "      <th>Population</th>\n",
        "      <th>Mode</th>\n",
        "      <th>Obama</th>\n",
        "      <th>Romney</th>\n",
        "      <th>Undecided</th>\n",
        "      <th>Pollster URL</th>\n",
        "      <th>Source URL</th>\n",
        "      <th>Partisan</th>\n",
        "      <th>Affiliation</th>\n",
        "    </tr>\n",
        "  </thead>\n",
        "  <tbody>\n",
        "    <tr>\n",
        "      <th>0</th>\n",
        "      <td>Politico/GWU/Battleground</td>\n",
        "      <td>2012-11-04</td>\n",
        "      <td>2012-11-05</td>\n",
        "      <td>2012-11-06 2000-01-01 08:40:26 UTC</td>\n",
        "      <td>1000</td>\n",
        "      <td>Likely Voters</td>\n",
        "      <td>Live Phone</td>\n",
        "      <td>47</td>\n",
        "      <td>47</td>\n",
        "      <td>6</td>\n",
        "      <td>http://elections.huffingtonpost.com/pollster/p...</td>\n",
        "      <td>http://www.politico.com/news/stories/1112/8338...</td>\n",
        "      <td>Nonpartisan</td>\n",
        "      <td>None</td>\n",
        "    </tr>\n",
        "    <tr>\n",
        "      <th>1</th>\n",
        "      <td>UPI/CVOTER</td>\n",
        "      <td>2012-11-03</td>\n",
        "      <td>2012-11-05</td>\n",
        "      <td>2012-11-05 2000-01-01 18:30:15 UTC</td>\n",
        "      <td>3000</td>\n",
        "      <td>Likely Voters</td>\n",
        "      <td>Live Phone</td>\n",
        "      <td>49</td>\n",
        "      <td>48</td>\n",
        "      <td>NaN</td>\n",
        "      <td>http://elections.huffingtonpost.com/pollster/p...</td>\n",
        "      <td>NaN</td>\n",
        "      <td>Nonpartisan</td>\n",
        "      <td>None</td>\n",
        "    </tr>\n",
        "    <tr>\n",
        "      <th>2</th>\n",
        "      <td>Gravis Marketing</td>\n",
        "      <td>2012-11-03</td>\n",
        "      <td>2012-11-05</td>\n",
        "      <td>2012-11-06 2000-01-01 09:22:02 UTC</td>\n",
        "      <td>872</td>\n",
        "      <td>Likely Voters</td>\n",
        "      <td>Automated Phone</td>\n",
        "      <td>48</td>\n",
        "      <td>48</td>\n",
        "      <td>4</td>\n",
        "      <td>http://elections.huffingtonpost.com/pollster/p...</td>\n",
        "      <td>http://www.gravispolls.com/2012/11/gravis-mark...</td>\n",
        "      <td>Nonpartisan</td>\n",
        "      <td>None</td>\n",
        "    </tr>\n",
        "    <tr>\n",
        "      <th>3</th>\n",
        "      <td>JZ Analytics/Newsmax</td>\n",
        "      <td>2012-11-03</td>\n",
        "      <td>2012-11-05</td>\n",
        "      <td>2012-11-06 2000-01-01 07:38:41 UTC</td>\n",
        "      <td>1041</td>\n",
        "      <td>Likely Voters</td>\n",
        "      <td>Internet</td>\n",
        "      <td>47</td>\n",
        "      <td>47</td>\n",
        "      <td>6</td>\n",
        "      <td>http://elections.huffingtonpost.com/pollster/p...</td>\n",
        "      <td>http://www.jzanalytics.com/</td>\n",
        "      <td>Sponsor</td>\n",
        "      <td>Rep</td>\n",
        "    </tr>\n",
        "    <tr>\n",
        "      <th>4</th>\n",
        "      <td>Rasmussen</td>\n",
        "      <td>2012-11-03</td>\n",
        "      <td>2012-11-05</td>\n",
        "      <td>2012-11-06 2000-01-01 08:47:50 UTC</td>\n",
        "      <td>1500</td>\n",
        "      <td>Likely Voters</td>\n",
        "      <td>Automated Phone</td>\n",
        "      <td>48</td>\n",
        "      <td>49</td>\n",
        "      <td>NaN</td>\n",
        "      <td>http://elections.huffingtonpost.com/pollster/p...</td>\n",
        "      <td>http://www.rasmussenreports.com/public_content...</td>\n",
        "      <td>Nonpartisan</td>\n",
        "      <td>None</td>\n",
        "    </tr>\n",
        "  </tbody>\n",
        "</table>\n",
        "</div>"
       ],
       "metadata": {},
       "output_type": "pyout",
       "prompt_number": 5,
       "text": [
        "                    Pollster  Start Date    End Date  \\\n",
        "0  Politico/GWU/Battleground  2012-11-04  2012-11-05   \n",
        "1                 UPI/CVOTER  2012-11-03  2012-11-05   \n",
        "2           Gravis Marketing  2012-11-03  2012-11-05   \n",
        "3       JZ Analytics/Newsmax  2012-11-03  2012-11-05   \n",
        "4                  Rasmussen  2012-11-03  2012-11-05   \n",
        "\n",
        "                 Entry Date/Time (ET)  Number of Observations     Population  \\\n",
        "0  2012-11-06 2000-01-01 08:40:26 UTC                    1000  Likely Voters   \n",
        "1  2012-11-05 2000-01-01 18:30:15 UTC                    3000  Likely Voters   \n",
        "2  2012-11-06 2000-01-01 09:22:02 UTC                     872  Likely Voters   \n",
        "3  2012-11-06 2000-01-01 07:38:41 UTC                    1041  Likely Voters   \n",
        "4  2012-11-06 2000-01-01 08:47:50 UTC                    1500  Likely Voters   \n",
        "\n",
        "              Mode  Obama  Romney  Undecided  \\\n",
        "0       Live Phone     47      47          6   \n",
        "1       Live Phone     49      48        NaN   \n",
        "2  Automated Phone     48      48          4   \n",
        "3         Internet     47      47          6   \n",
        "4  Automated Phone     48      49        NaN   \n",
        "\n",
        "                                        Pollster URL  \\\n",
        "0  http://elections.huffingtonpost.com/pollster/p...   \n",
        "1  http://elections.huffingtonpost.com/pollster/p...   \n",
        "2  http://elections.huffingtonpost.com/pollster/p...   \n",
        "3  http://elections.huffingtonpost.com/pollster/p...   \n",
        "4  http://elections.huffingtonpost.com/pollster/p...   \n",
        "\n",
        "                                          Source URL     Partisan Affiliation  \n",
        "0  http://www.politico.com/news/stories/1112/8338...  Nonpartisan        None  \n",
        "1                                                NaN  Nonpartisan        None  \n",
        "2  http://www.gravispolls.com/2012/11/gravis-mark...  Nonpartisan        None  \n",
        "3                        http://www.jzanalytics.com/      Sponsor         Rep  \n",
        "4  http://www.rasmussenreports.com/public_content...  Nonpartisan        None  "
       ]
      }
     ],
     "prompt_number": 5
    },
    {
     "cell_type": "code",
     "collapsed": false,
     "input": [
      "# Factorplot the affiliation\n",
      "sns.factorplot('Affiliation',data=poll_df,kind=\"count\")"
     ],
     "language": "python",
     "metadata": {},
     "outputs": [
      {
       "metadata": {},
       "output_type": "pyout",
       "prompt_number": 6,
       "text": [
        "<seaborn.axisgrid.FacetGrid at 0x9c3ae48>"
       ]
      },
      {
       "metadata": {},
       "output_type": "display_data",
       "png": "[encoded data removed]",
       "text": [
        "<matplotlib.figure.Figure at 0x9c3ae10>"
       ]
      }
     ],
     "prompt_number": 6
    },
    {
     "cell_type": "markdown",
     "metadata": {},
     "source": [
      "Looks like we are overall relatively neutral, but still leaning towards Democratic Affiliation, it will be good to keep this in mind. Let's see if sorting by the Population hue gives us any further insight into the data."
     ]
    },
    {
     "cell_type": "code",
     "collapsed": false,
     "input": [
      "# Factorplot the affiliation by Population\n",
      "sns.factorplot('Affiliation',data=poll_df,hue='Population',kind=\"count\")"
     ],
     "language": "python",
     "metadata": {},
     "outputs": [
      {
       "metadata": {},
       "output_type": "pyout",
       "prompt_number": 7,
       "text": [
        "<seaborn.axisgrid.FacetGrid at 0x1697ca58>"
       ]
      },
      {
       "metadata": {},
       "output_type": "display_data",
       "png": "[encoded data removed]",
       "text": [
        "<matplotlib.figure.Figure at 0xba47d30>"
       ]
      }
     ],
     "prompt_number": 7
    },
    {
     "cell_type": "markdown",
     "metadata": {},
     "source": [
      "\n",
      "Looks like we have a strong showing of likely voters and Registered Voters, so the poll data should hopefully be a good reflection on the populations polled. Let's take another quick overview of the DataFrame."
     ]
    },
    {
     "cell_type": "code",
     "collapsed": false,
     "input": [
      "# Let's look at the DataFrame again\n",
      "poll_df.head()"
     ],
     "language": "python",
     "metadata": {},
     "outputs": [
      {
       "html": [
        "<div style=\"max-width:1500px;overflow:auto;\">\n",
        "<table border=\"1\" class=\"dataframe\">\n",
        "  <thead>\n",
        "    <tr style=\"text-align: right;\">\n",
        "      <th></th>\n",
        "      <th>Pollster</th>\n",
        "      <th>Start Date</th>\n",
        "      <th>End Date</th>\n",
        "      <th>Entry Date/Time (ET)</th>\n",
        "      <th>Number of Observations</th>\n",
        "      <th>Population</th>\n",
        "      <th>Mode</th>\n",
        "      <th>Obama</th>\n",
        "      <th>Romney</th>\n",
        "      <th>Undecided</th>\n",
        "      <th>Pollster URL</th>\n",
        "      <th>Source URL</th>\n",
        "      <th>Partisan</th>\n",
        "      <th>Affiliation</th>\n",
        "    </tr>\n",
        "  </thead>\n",
        "  <tbody>\n",
        "    <tr>\n",
        "      <th>0</th>\n",
        "      <td>Politico/GWU/Battleground</td>\n",
        "      <td>2012-11-04</td>\n",
        "      <td>2012-11-05</td>\n",
        "      <td>2012-11-06 2000-01-01 08:40:26 UTC</td>\n",
        "      <td>1000</td>\n",
        "      <td>Likely Voters</td>\n",
        "      <td>Live Phone</td>\n",
        "      <td>47</td>\n",
        "      <td>47</td>\n",
        "      <td>6</td>\n",
        "      <td>http://elections.huffingtonpost.com/pollster/p...</td>\n",
        "      <td>http://www.politico.com/news/stories/1112/8338...</td>\n",
        "      <td>Nonpartisan</td>\n",
        "      <td>None</td>\n",
        "    </tr>\n",
        "    <tr>\n",
        "      <th>1</th>\n",
        "      <td>UPI/CVOTER</td>\n",
        "      <td>2012-11-03</td>\n",
        "      <td>2012-11-05</td>\n",
        "      <td>2012-11-05 2000-01-01 18:30:15 UTC</td>\n",
        "      <td>3000</td>\n",
        "      <td>Likely Voters</td>\n",
        "      <td>Live Phone</td>\n",
        "      <td>49</td>\n",
        "      <td>48</td>\n",
        "      <td>NaN</td>\n",
        "      <td>http://elections.huffingtonpost.com/pollster/p...</td>\n",
        "      <td>NaN</td>\n",
        "      <td>Nonpartisan</td>\n",
        "      <td>None</td>\n",
        "    </tr>\n",
        "    <tr>\n",
        "      <th>2</th>\n",
        "      <td>Gravis Marketing</td>\n",
        "      <td>2012-11-03</td>\n",
        "      <td>2012-11-05</td>\n",
        "      <td>2012-11-06 2000-01-01 09:22:02 UTC</td>\n",
        "      <td>872</td>\n",
        "      <td>Likely Voters</td>\n",
        "      <td>Automated Phone</td>\n",
        "      <td>48</td>\n",
        "      <td>48</td>\n",
        "      <td>4</td>\n",
        "      <td>http://elections.huffingtonpost.com/pollster/p...</td>\n",
        "      <td>http://www.gravispolls.com/2012/11/gravis-mark...</td>\n",
        "      <td>Nonpartisan</td>\n",
        "      <td>None</td>\n",
        "    </tr>\n",
        "    <tr>\n",
        "      <th>3</th>\n",
        "      <td>JZ Analytics/Newsmax</td>\n",
        "      <td>2012-11-03</td>\n",
        "      <td>2012-11-05</td>\n",
        "      <td>2012-11-06 2000-01-01 07:38:41 UTC</td>\n",
        "      <td>1041</td>\n",
        "      <td>Likely Voters</td>\n",
        "      <td>Internet</td>\n",
        "      <td>47</td>\n",
        "      <td>47</td>\n",
        "      <td>6</td>\n",
        "      <td>http://elections.huffingtonpost.com/pollster/p...</td>\n",
        "      <td>http://www.jzanalytics.com/</td>\n",
        "      <td>Sponsor</td>\n",
        "      <td>Rep</td>\n",
        "    </tr>\n",
        "    <tr>\n",
        "      <th>4</th>\n",
        "      <td>Rasmussen</td>\n",
        "      <td>2012-11-03</td>\n",
        "      <td>2012-11-05</td>\n",
        "      <td>2012-11-06 2000-01-01 08:47:50 UTC</td>\n",
        "      <td>1500</td>\n",
        "      <td>Likely Voters</td>\n",
        "      <td>Automated Phone</td>\n",
        "      <td>48</td>\n",
        "      <td>49</td>\n",
        "      <td>NaN</td>\n",
        "      <td>http://elections.huffingtonpost.com/pollster/p...</td>\n",
        "      <td>http://www.rasmussenreports.com/public_content...</td>\n",
        "      <td>Nonpartisan</td>\n",
        "      <td>None</td>\n",
        "    </tr>\n",
        "  </tbody>\n",
        "</table>\n",
        "</div>"
       ],
       "metadata": {},
       "output_type": "pyout",
       "prompt_number": 8,
       "text": [
        "                    Pollster  Start Date    End Date  \\\n",
        "0  Politico/GWU/Battleground  2012-11-04  2012-11-05   \n",
        "1                 UPI/CVOTER  2012-11-03  2012-11-05   \n",
        "2           Gravis Marketing  2012-11-03  2012-11-05   \n",
        "3       JZ Analytics/Newsmax  2012-11-03  2012-11-05   \n",
        "4                  Rasmussen  2012-11-03  2012-11-05   \n",
        "\n",
        "                 Entry Date/Time (ET)  Number of Observations     Population  \\\n",
        "0  2012-11-06 2000-01-01 08:40:26 UTC                    1000  Likely Voters   \n",
        "1  2012-11-05 2000-01-01 18:30:15 UTC                    3000  Likely Voters   \n",
        "2  2012-11-06 2000-01-01 09:22:02 UTC                     872  Likely Voters   \n",
        "3  2012-11-06 2000-01-01 07:38:41 UTC                    1041  Likely Voters   \n",
        "4  2012-11-06 2000-01-01 08:47:50 UTC                    1500  Likely Voters   \n",
        "\n",
        "              Mode  Obama  Romney  Undecided  \\\n",
        "0       Live Phone     47      47          6   \n",
        "1       Live Phone     49      48        NaN   \n",
        "2  Automated Phone     48      48          4   \n",
        "3         Internet     47      47          6   \n",
        "4  Automated Phone     48      49        NaN   \n",
        "\n",
        "                                        Pollster URL  \\\n",
        "0  http://elections.huffingtonpost.com/pollster/p...   \n",
        "1  http://elections.huffingtonpost.com/pollster/p...   \n",
        "2  http://elections.huffingtonpost.com/pollster/p...   \n",
        "3  http://elections.huffingtonpost.com/pollster/p...   \n",
        "4  http://elections.huffingtonpost.com/pollster/p...   \n",
        "\n",
        "                                          Source URL     Partisan Affiliation  \n",
        "0  http://www.politico.com/news/stories/1112/8338...  Nonpartisan        None  \n",
        "1                                                NaN  Nonpartisan        None  \n",
        "2  http://www.gravispolls.com/2012/11/gravis-mark...  Nonpartisan        None  \n",
        "3                        http://www.jzanalytics.com/      Sponsor         Rep  \n",
        "4  http://www.rasmussenreports.com/public_content...  Nonpartisan        None  "
       ]
      }
     ],
     "prompt_number": 8
    },
    {
     "cell_type": "markdown",
     "metadata": {},
     "source": [
      "Let's go ahead and take a look at the averages for Obama, Romney , and the polled people who remained undecided."
     ]
    },
    {
     "cell_type": "code",
     "collapsed": false,
     "input": [
      "# First we'll get the average\n",
      "avg = pd.DataFrame(poll_df.mean()) \n",
      "avg.drop('Number of Observations',axis=0,inplace=True)\n",
      "\n",
      "# After that let's get the error\n",
      "std = pd.DataFrame(poll_df.std())\n",
      "std.drop('Number of Observations',axis=0,inplace=True)\n",
      "#y error\n",
      "# now plot using pandas built-in plot, with kind='bar' and yerr='std'\n",
      "avg.plot(yerr=std,kind='bar',legend=False)"
     ],
     "language": "python",
     "metadata": {},
     "outputs": [
      {
       "metadata": {},
       "output_type": "pyout",
       "prompt_number": 12,
       "text": [
        "<matplotlib.axes._subplots.AxesSubplot at 0x16d9d668>"
       ]
      },
      {
       "metadata": {},
       "output_type": "display_data",
       "png": "[encoded data removed]",
       "text": [
        "<matplotlib.figure.Figure at 0x1701cd68>"
       ]
      }
     ],
     "prompt_number": 12
    },
    {
     "cell_type": "code",
     "collapsed": false,
     "input": [
      "avg = pd.DataFrame(poll_df.mean()) \n",
      "avg.drop('Number of Observations',axis=0,inplace=True)\n",
      "avg"
     ],
     "language": "python",
     "metadata": {},
     "outputs": [
      {
       "html": [
        "<div style=\"max-width:1500px;overflow:auto;\">\n",
        "<table border=\"1\" class=\"dataframe\">\n",
        "  <thead>\n",
        "    <tr style=\"text-align: right;\">\n",
        "      <th></th>\n",
        "      <th>0</th>\n",
        "    </tr>\n",
        "  </thead>\n",
        "  <tbody>\n",
        "    <tr>\n",
        "      <th>Obama</th>\n",
        "      <td>46.772496</td>\n",
        "    </tr>\n",
        "    <tr>\n",
        "      <th>Romney</th>\n",
        "      <td>44.573854</td>\n",
        "    </tr>\n",
        "    <tr>\n",
        "      <th>Undecided</th>\n",
        "      <td>6.549763</td>\n",
        "    </tr>\n",
        "  </tbody>\n",
        "</table>\n",
        "</div>"
       ],
       "metadata": {},
       "output_type": "pyout",
       "prompt_number": 13,
       "text": [
        "                   0\n",
        "Obama      46.772496\n",
        "Romney     44.573854\n",
        "Undecided   6.549763"
       ]
      }
     ],
     "prompt_number": 13
    },
    {
     "cell_type": "markdown",
     "metadata": {},
     "source": [
      "Interesting to see how close these polls seem to be, especially considering the undecided factor. Let's take a look at the numbers."
     ]
    },
    {
     "cell_type": "code",
     "collapsed": false,
     "input": [
      "# Concatenate our Average and Std DataFrames\n",
      "poll_avg = pd.concat([avg,std],axis=1)\n",
      "\n",
      "#Rename columns\n",
      "poll_avg.columns = ['Average','STD']\n",
      "\n",
      "#Show\n",
      "poll_avg"
     ],
     "language": "python",
     "metadata": {},
     "outputs": [
      {
       "html": [
        "<div style=\"max-width:1500px;overflow:auto;\">\n",
        "<table border=\"1\" class=\"dataframe\">\n",
        "  <thead>\n",
        "    <tr style=\"text-align: right;\">\n",
        "      <th></th>\n",
        "      <th>Average</th>\n",
        "      <th>STD</th>\n",
        "    </tr>\n",
        "  </thead>\n",
        "  <tbody>\n",
        "    <tr>\n",
        "      <th>Obama</th>\n",
        "      <td>46.772496</td>\n",
        "      <td>2.448627</td>\n",
        "    </tr>\n",
        "    <tr>\n",
        "      <th>Romney</th>\n",
        "      <td>44.573854</td>\n",
        "      <td>2.927711</td>\n",
        "    </tr>\n",
        "    <tr>\n",
        "      <th>Undecided</th>\n",
        "      <td>6.549763</td>\n",
        "      <td>3.702235</td>\n",
        "    </tr>\n",
        "  </tbody>\n",
        "</table>\n",
        "</div>"
       ],
       "metadata": {},
       "output_type": "pyout",
       "prompt_number": 14,
       "text": [
        "             Average       STD\n",
        "Obama      46.772496  2.448627\n",
        "Romney     44.573854  2.927711\n",
        "Undecided   6.549763  3.702235"
       ]
      }
     ],
     "prompt_number": 14
    },
    {
     "cell_type": "markdown",
     "metadata": {},
     "source": [
      "\n",
      "Looks like the polls indicate it as a fairly close race, but what about the undecided voters? Most of them will likely vote for one of the candidates once the election occurs. If we assume we split the undecided evenly between the two candidates the observed difference should be an unbiased estimate of the final difference."
     ]
    },
    {
     "cell_type": "code",
     "collapsed": false,
     "input": [
      "# Take a look at the DataFrame again\n",
      "poll_df.head()"
     ],
     "language": "python",
     "metadata": {},
     "outputs": [
      {
       "html": [
        "<div style=\"max-width:1500px;overflow:auto;\">\n",
        "<table border=\"1\" class=\"dataframe\">\n",
        "  <thead>\n",
        "    <tr style=\"text-align: right;\">\n",
        "      <th></th>\n",
        "      <th>Pollster</th>\n",
        "      <th>Start Date</th>\n",
        "      <th>End Date</th>\n",
        "      <th>Entry Date/Time (ET)</th>\n",
        "      <th>Number of Observations</th>\n",
        "      <th>Population</th>\n",
        "      <th>Mode</th>\n",
        "      <th>Obama</th>\n",
        "      <th>Romney</th>\n",
        "      <th>Undecided</th>\n",
        "      <th>Pollster URL</th>\n",
        "      <th>Source URL</th>\n",
        "      <th>Partisan</th>\n",
        "      <th>Affiliation</th>\n",
        "    </tr>\n",
        "  </thead>\n",
        "  <tbody>\n",
        "    <tr>\n",
        "      <th>0</th>\n",
        "      <td>Politico/GWU/Battleground</td>\n",
        "      <td>2012-11-04</td>\n",
        "      <td>2012-11-05</td>\n",
        "      <td>2012-11-06 2000-01-01 08:40:26 UTC</td>\n",
        "      <td>1000</td>\n",
        "      <td>Likely Voters</td>\n",
        "      <td>Live Phone</td>\n",
        "      <td>47</td>\n",
        "      <td>47</td>\n",
        "      <td>6</td>\n",
        "      <td>http://elections.huffingtonpost.com/pollster/p...</td>\n",
        "      <td>http://www.politico.com/news/stories/1112/8338...</td>\n",
        "      <td>Nonpartisan</td>\n",
        "      <td>None</td>\n",
        "    </tr>\n",
        "    <tr>\n",
        "      <th>1</th>\n",
        "      <td>UPI/CVOTER</td>\n",
        "      <td>2012-11-03</td>\n",
        "      <td>2012-11-05</td>\n",
        "      <td>2012-11-05 2000-01-01 18:30:15 UTC</td>\n",
        "      <td>3000</td>\n",
        "      <td>Likely Voters</td>\n",
        "      <td>Live Phone</td>\n",
        "      <td>49</td>\n",
        "      <td>48</td>\n",
        "      <td>NaN</td>\n",
        "      <td>http://elections.huffingtonpost.com/pollster/p...</td>\n",
        "      <td>NaN</td>\n",
        "      <td>Nonpartisan</td>\n",
        "      <td>None</td>\n",
        "    </tr>\n",
        "    <tr>\n",
        "      <th>2</th>\n",
        "      <td>Gravis Marketing</td>\n",
        "      <td>2012-11-03</td>\n",
        "      <td>2012-11-05</td>\n",
        "      <td>2012-11-06 2000-01-01 09:22:02 UTC</td>\n",
        "      <td>872</td>\n",
        "      <td>Likely Voters</td>\n",
        "      <td>Automated Phone</td>\n",
        "      <td>48</td>\n",
        "      <td>48</td>\n",
        "      <td>4</td>\n",
        "      <td>http://elections.huffingtonpost.com/pollster/p...</td>\n",
        "      <td>http://www.gravispolls.com/2012/11/gravis-mark...</td>\n",
        "      <td>Nonpartisan</td>\n",
        "      <td>None</td>\n",
        "    </tr>\n",
        "    <tr>\n",
        "      <th>3</th>\n",
        "      <td>JZ Analytics/Newsmax</td>\n",
        "      <td>2012-11-03</td>\n",
        "      <td>2012-11-05</td>\n",
        "      <td>2012-11-06 2000-01-01 07:38:41 UTC</td>\n",
        "      <td>1041</td>\n",
        "      <td>Likely Voters</td>\n",
        "      <td>Internet</td>\n",
        "      <td>47</td>\n",
        "      <td>47</td>\n",
        "      <td>6</td>\n",
        "      <td>http://elections.huffingtonpost.com/pollster/p...</td>\n",
        "      <td>http://www.jzanalytics.com/</td>\n",
        "      <td>Sponsor</td>\n",
        "      <td>Rep</td>\n",
        "    </tr>\n",
        "    <tr>\n",
        "      <th>4</th>\n",
        "      <td>Rasmussen</td>\n",
        "      <td>2012-11-03</td>\n",
        "      <td>2012-11-05</td>\n",
        "      <td>2012-11-06 2000-01-01 08:47:50 UTC</td>\n",
        "      <td>1500</td>\n",
        "      <td>Likely Voters</td>\n",
        "      <td>Automated Phone</td>\n",
        "      <td>48</td>\n",
        "      <td>49</td>\n",
        "      <td>NaN</td>\n",
        "      <td>http://elections.huffingtonpost.com/pollster/p...</td>\n",
        "      <td>http://www.rasmussenreports.com/public_content...</td>\n",
        "      <td>Nonpartisan</td>\n",
        "      <td>None</td>\n",
        "    </tr>\n",
        "  </tbody>\n",
        "</table>\n",
        "</div>"
       ],
       "metadata": {},
       "output_type": "pyout",
       "prompt_number": 15,
       "text": [
        "                    Pollster  Start Date    End Date  \\\n",
        "0  Politico/GWU/Battleground  2012-11-04  2012-11-05   \n",
        "1                 UPI/CVOTER  2012-11-03  2012-11-05   \n",
        "2           Gravis Marketing  2012-11-03  2012-11-05   \n",
        "3       JZ Analytics/Newsmax  2012-11-03  2012-11-05   \n",
        "4                  Rasmussen  2012-11-03  2012-11-05   \n",
        "\n",
        "                 Entry Date/Time (ET)  Number of Observations     Population  \\\n",
        "0  2012-11-06 2000-01-01 08:40:26 UTC                    1000  Likely Voters   \n",
        "1  2012-11-05 2000-01-01 18:30:15 UTC                    3000  Likely Voters   \n",
        "2  2012-11-06 2000-01-01 09:22:02 UTC                     872  Likely Voters   \n",
        "3  2012-11-06 2000-01-01 07:38:41 UTC                    1041  Likely Voters   \n",
        "4  2012-11-06 2000-01-01 08:47:50 UTC                    1500  Likely Voters   \n",
        "\n",
        "              Mode  Obama  Romney  Undecided  \\\n",
        "0       Live Phone     47      47          6   \n",
        "1       Live Phone     49      48        NaN   \n",
        "2  Automated Phone     48      48          4   \n",
        "3         Internet     47      47          6   \n",
        "4  Automated Phone     48      49        NaN   \n",
        "\n",
        "                                        Pollster URL  \\\n",
        "0  http://elections.huffingtonpost.com/pollster/p...   \n",
        "1  http://elections.huffingtonpost.com/pollster/p...   \n",
        "2  http://elections.huffingtonpost.com/pollster/p...   \n",
        "3  http://elections.huffingtonpost.com/pollster/p...   \n",
        "4  http://elections.huffingtonpost.com/pollster/p...   \n",
        "\n",
        "                                          Source URL     Partisan Affiliation  \n",
        "0  http://www.politico.com/news/stories/1112/8338...  Nonpartisan        None  \n",
        "1                                                NaN  Nonpartisan        None  \n",
        "2  http://www.gravispolls.com/2012/11/gravis-mark...  Nonpartisan        None  \n",
        "3                        http://www.jzanalytics.com/      Sponsor         Rep  \n",
        "4  http://www.rasmussenreports.com/public_content...  Nonpartisan        None  "
       ]
      }
     ],
     "prompt_number": 15
    },
    {
     "cell_type": "markdown",
     "metadata": {},
     "source": [
      "\n",
      "If we wanted to, we could also do a quick (and messy) time series analysis of the voter sentiment by plotting Obama/Romney favor versus the Poll End Dates. Let's take a look at how we could quickly do tht in pandas.\n",
      "\n",
      "Note: The time is in reverse chronological order. Also keep in mind the multiple polls per end date."
     ]
    },
    {
     "cell_type": "code",
     "collapsed": false,
     "input": [
      "# Quick plot of sentiment in the polls versus time.\n",
      "poll_df.plot(x='End Date',y=['Obama','Romney','Undecided'],marker='o',linestyle='')"
     ],
     "language": "python",
     "metadata": {},
     "outputs": [
      {
       "metadata": {},
       "output_type": "pyout",
       "prompt_number": 16,
       "text": [
        "<matplotlib.axes._subplots.AxesSubplot at 0x17169518>"
       ]
      },
      {
       "metadata": {},
       "output_type": "display_data",
       "png": "[encoded data removed]",
       "text": [
        "<matplotlib.figure.Figure at 0x16b876a0>"
       ]
      }
     ],
     "prompt_number": 16
    },
    {
     "cell_type": "markdown",
     "metadata": {},
     "source": [
      "While this may give you a quick idea, go ahead and try creating a new DataFrame or editing poll_df to make a better visualization of the above idea!\n",
      "\n",
      "To lead you along the right path for plotting, we'll go ahead and answer another question related to plotting the sentiment versus time. Let's go ahead and plot out the difference between Obama and Romney and how it changes as time moves along. Remember from the last data project we used the datetime module to create timestamps, let's go ahead and use it now."
     ]
    },
    {
     "cell_type": "code",
     "collapsed": false,
     "input": [
      "# For timestamps\n",
      "from datetime import datetime"
     ],
     "language": "python",
     "metadata": {},
     "outputs": [],
     "prompt_number": 17
    },
    {
     "cell_type": "markdown",
     "metadata": {},
     "source": [
      "Now we'll define a new column in our poll_df DataFrame to take into account the difference between Romney and Obama in the polls."
     ]
    },
    {
     "cell_type": "code",
     "collapsed": false,
     "input": [
      "# Create a new column for the difference between the two candidates\n",
      "poll_df['Difference'] = (poll_df.Obama - poll_df.Romney)/100\n",
      "# Preview the new column\n",
      "poll_df['Difference'].head()"
     ],
     "language": "python",
     "metadata": {},
     "outputs": [
      {
       "metadata": {},
       "output_type": "pyout",
       "prompt_number": 19,
       "text": [
        "0    0.00\n",
        "1    0.01\n",
        "2    0.00\n",
        "3    0.00\n",
        "4   -0.01\n",
        "Name: Difference, dtype: float64"
       ]
      }
     ],
     "prompt_number": 19
    },
    {
     "cell_type": "markdown",
     "metadata": {},
     "source": [
      "Great! Keep in mind that the Difference column is Obama minus Romney, thus a positive difference indicates a leaning towards Obama in the polls.\n",
      "\n",
      "Now let's go ahead and see if we can visualize how this sentiment in difference changes over time. We will start by using groupby to group the polls by their start data and then sorting it by that Start Date."
     ]
    },
    {
     "cell_type": "code",
     "collapsed": false,
     "input": [
      "# Set as_index=Flase to keep the 0,1,2,... index. Then we'll take the mean of the polls on that day.\n",
      "poll_df = poll_df.groupby(['Start Date'],as_index=False).mean()\n",
      "\n",
      "# Let's go ahead and see what this looks like\n",
      "poll_df.head()"
     ],
     "language": "python",
     "metadata": {},
     "outputs": [
      {
       "html": [
        "<div style=\"max-width:1500px;overflow:auto;\">\n",
        "<table border=\"1\" class=\"dataframe\">\n",
        "  <thead>\n",
        "    <tr style=\"text-align: right;\">\n",
        "      <th></th>\n",
        "      <th>Start Date</th>\n",
        "      <th>Number of Observations</th>\n",
        "      <th>Obama</th>\n",
        "      <th>Romney</th>\n",
        "      <th>Undecided</th>\n",
        "      <th>Difference</th>\n",
        "    </tr>\n",
        "  </thead>\n",
        "  <tbody>\n",
        "    <tr>\n",
        "      <th>0</th>\n",
        "      <td>2009-03-13</td>\n",
        "      <td>1403</td>\n",
        "      <td>44</td>\n",
        "      <td>44</td>\n",
        "      <td>12</td>\n",
        "      <td>0.00</td>\n",
        "    </tr>\n",
        "    <tr>\n",
        "      <th>1</th>\n",
        "      <td>2009-04-17</td>\n",
        "      <td>686</td>\n",
        "      <td>50</td>\n",
        "      <td>39</td>\n",
        "      <td>11</td>\n",
        "      <td>0.11</td>\n",
        "    </tr>\n",
        "    <tr>\n",
        "      <th>2</th>\n",
        "      <td>2009-05-14</td>\n",
        "      <td>1000</td>\n",
        "      <td>53</td>\n",
        "      <td>35</td>\n",
        "      <td>12</td>\n",
        "      <td>0.18</td>\n",
        "    </tr>\n",
        "    <tr>\n",
        "      <th>3</th>\n",
        "      <td>2009-06-12</td>\n",
        "      <td>638</td>\n",
        "      <td>48</td>\n",
        "      <td>40</td>\n",
        "      <td>12</td>\n",
        "      <td>0.08</td>\n",
        "    </tr>\n",
        "    <tr>\n",
        "      <th>4</th>\n",
        "      <td>2009-07-15</td>\n",
        "      <td>577</td>\n",
        "      <td>49</td>\n",
        "      <td>40</td>\n",
        "      <td>11</td>\n",
        "      <td>0.09</td>\n",
        "    </tr>\n",
        "  </tbody>\n",
        "</table>\n",
        "</div>"
       ],
       "metadata": {},
       "output_type": "pyout",
       "prompt_number": 20,
       "text": [
        "   Start Date  Number of Observations  Obama  Romney  Undecided  Difference\n",
        "0  2009-03-13                    1403     44      44         12        0.00\n",
        "1  2009-04-17                     686     50      39         11        0.11\n",
        "2  2009-05-14                    1000     53      35         12        0.18\n",
        "3  2009-06-12                     638     48      40         12        0.08\n",
        "4  2009-07-15                     577     49      40         11        0.09"
       ]
      }
     ],
     "prompt_number": 20
    },
    {
     "cell_type": "markdown",
     "metadata": {},
     "source": [
      "Great! Now plotting the Differencce versus time should be straight forward."
     ]
    },
    {
     "cell_type": "code",
     "collapsed": false,
     "input": [
      "# Plotting the difference in polls between Obama and Romney\n",
      "fig = poll_df.plot('Start Date','Difference',figsize=(12,4),marker='o',linestyle='-',color='purple')"
     ],
     "language": "python",
     "metadata": {},
     "outputs": [
      {
       "metadata": {},
       "output_type": "display_data",
       "png": "[encoded data removed]",
       "text": [
        "<matplotlib.figure.Figure at 0x17130278>"
       ]
      }
     ],
     "prompt_number": 21
    },
    {
     "cell_type": "markdown",
     "metadata": {},
     "source": [
      "t would be very interesting to plot marker lines on the dates of the debates and see if there is any general insight to the poll results.\n",
      "\n",
      "The debate dates were Oct 3rd, Oct 11, and Oct 22nd. Let's plot some lines as markers and then zoom in on the month of October.\n",
      "\n",
      "In order to find where to set the x limits for the figure we need to find out where the index for the month of October in 2012 is. Here's a simple for loop to find that row. Note, the string format of the date makes this difficult to do without using a lambda expression or a map."
     ]
    },
    {
     "cell_type": "code",
     "collapsed": false,
     "input": [
      "# Set row count and xlimit list\n",
      "row_in = 0\n",
      "xlimit = []\n",
      "\n",
      "# Cycle through dates until 2012-10 is found, then print row index\n",
      "for date in poll_df['Start Date']:\n",
      "    if date[0:7] == '2012-10':\n",
      "        xlimit.append(row_in)\n",
      "        row_in +=1\n",
      "    else:\n",
      "        row_in += 1\n",
      "        \n",
      "print min(xlimit)\n",
      "print max(xlimit)"
     ],
     "language": "python",
     "metadata": {},
     "outputs": [
      {
       "output_type": "stream",
       "stream": "stdout",
       "text": [
        "329\n",
        "356\n"
       ]
      }
     ],
     "prompt_number": 22
    },
    {
     "cell_type": "markdown",
     "metadata": {},
     "source": [
      "Great now we know where to set our x limits for the month of October in our figure."
     ]
    },
    {
     "cell_type": "code",
     "collapsed": false,
     "input": [
      "# Start with original figure\n",
      "fig = poll_df.plot('Start Date','Difference',figsize=(12,4),marker='o',linestyle='-',color='purple',xlim=(329,356))\n",
      "\n",
      "# Now add the debate markers\n",
      "plt.axvline(x=329+2, linewidth=4, color='grey')\n",
      "plt.axvline(x=329+10, linewidth=4, color='grey')\n",
      "plt.axvline(x=329+21, linewidth=4, color='grey')"
     ],
     "language": "python",
     "metadata": {},
     "outputs": [
      {
       "metadata": {},
       "output_type": "pyout",
       "prompt_number": 23,
       "text": [
        "<matplotlib.lines.Line2D at 0x1850eb70>"
       ]
      },
      {
       "metadata": {},
       "output_type": "display_data",
       "png": "[encoded data removed]",
       "text": [
        "<matplotlib.figure.Figure at 0x172fd668>"
       ]
      }
     ],
     "prompt_number": 23
    },
    {
     "cell_type": "markdown",
     "metadata": {},
     "source": [
      "\n",
      "Surprisingly, thse polls reflect a dip for Obama after the second debate against Romney, even though memory serves that he performed much worse against Romney during the first debate.\n",
      "\n",
      "For all these polls it is important to remeber how geographical location can effect the value of a poll in predicting the outcomes of a national election."
     ]
    },
    {
     "cell_type": "markdown",
     "metadata": {},
     "source": [
      "#Donor Data Set\n",
      "\n",
      "Let's go ahead and switch gears and take a look at a data set consisting of information on donations to the federal campaign.\n",
      "\n",
      "This is going to be the biggest data set we've looked at so far. You can download it here (https://www.dropbox.com/s/l29oppon2veaq4n/Election_Donor_Data.csv?dl=0) , then make sure to save it to the same folder your iPython Notebooks are in.\n",
      "\n",
      "The questions we will be trying to answer while looking at this Data Set is:\n",
      "\n",
      "1.) How much was donated and what was the average donation?\n",
      "\n",
      "2.) How did the donations differ between candidates?\n",
      "\n",
      "3.) How did the donations differ between Democrats and Republicans?\n",
      "\n",
      "4.) What were the demographics of the donors?\n",
      "\n",
      "5.) Is there a pattern to donation amounts?"
     ]
    },
    {
     "cell_type": "code",
     "collapsed": false,
     "input": [
      "# Set the DataFrame as the csv file\n",
      "donor_df = pd.read_csv('Election_Donor_Data.csv')"
     ],
     "language": "python",
     "metadata": {},
     "outputs": [
      {
       "output_type": "stream",
       "stream": "stderr",
       "text": [
        "C:\\Users\\Fabio\\Anaconda\\lib\\site-packages\\pandas-0.16.2-py2.7-win-amd64.egg\\pandas\\io\\parsers.py:1170: DtypeWarning: Columns (6) have mixed types. Specify dtype option on import or set low_memory=False.\n",
        "  data = self._reader.read(nrows)\n"
       ]
      }
     ],
     "prompt_number": 25
    },
    {
     "cell_type": "code",
     "collapsed": false,
     "input": [
      "# Get a quick overview\n",
      "donor_df.info()"
     ],
     "language": "python",
     "metadata": {},
     "outputs": [
      {
       "output_type": "stream",
       "stream": "stdout",
       "text": [
        "<class 'pandas.core.frame.DataFrame'>\n",
        "Int64Index: 1001731 entries, 0 to 1001730\n",
        "Data columns (total 16 columns):\n",
        "cmte_id              1001731 non-null object\n",
        "cand_id              1001731 non-null object\n",
        "cand_nm              1001731 non-null object\n",
        "contbr_nm            1001731 non-null object\n",
        "contbr_city          1001712 non-null object\n",
        "contbr_st            1001727 non-null object\n",
        "contbr_zip           1001620 non-null object\n",
        "contbr_employer      988002 non-null object\n",
        "contbr_occupation    993301 non-null object\n",
        "contb_receipt_amt    1001731 non-null float64\n",
        "contb_receipt_dt     1001731 non-null object\n",
        "receipt_desc         14166 non-null object\n",
        "memo_cd              92482 non-null object\n",
        "memo_text            97770 non-null object\n",
        "form_tp              1001731 non-null object\n",
        "file_num             1001731 non-null int64\n",
        "dtypes: float64(1), int64(1), object(14)\n",
        "memory usage: 129.9+ MB\n"
       ]
      }
     ],
     "prompt_number": 26
    },
    {
     "cell_type": "code",
     "collapsed": false,
     "input": [
      "# let's also just take a glimpse\n",
      "donor_df.head()"
     ],
     "language": "python",
     "metadata": {},
     "outputs": [
      {
       "html": [
        "<div style=\"max-width:1500px;overflow:auto;\">\n",
        "<table border=\"1\" class=\"dataframe\">\n",
        "  <thead>\n",
        "    <tr style=\"text-align: right;\">\n",
        "      <th></th>\n",
        "      <th>cmte_id</th>\n",
        "      <th>cand_id</th>\n",
        "      <th>cand_nm</th>\n",
        "      <th>contbr_nm</th>\n",
        "      <th>contbr_city</th>\n",
        "      <th>contbr_st</th>\n",
        "      <th>contbr_zip</th>\n",
        "      <th>contbr_employer</th>\n",
        "      <th>contbr_occupation</th>\n",
        "      <th>contb_receipt_amt</th>\n",
        "      <th>contb_receipt_dt</th>\n",
        "      <th>receipt_desc</th>\n",
        "      <th>memo_cd</th>\n",
        "      <th>memo_text</th>\n",
        "      <th>form_tp</th>\n",
        "      <th>file_num</th>\n",
        "    </tr>\n",
        "  </thead>\n",
        "  <tbody>\n",
        "    <tr>\n",
        "      <th>0</th>\n",
        "      <td>C00410118</td>\n",
        "      <td>P20002978</td>\n",
        "      <td>Bachmann, Michelle</td>\n",
        "      <td>HARVEY, WILLIAM</td>\n",
        "      <td>MOBILE</td>\n",
        "      <td>AL</td>\n",
        "      <td>3.660103e+08</td>\n",
        "      <td>RETIRED</td>\n",
        "      <td>RETIRED</td>\n",
        "      <td>250</td>\n",
        "      <td>20-JUN-11</td>\n",
        "      <td>NaN</td>\n",
        "      <td>NaN</td>\n",
        "      <td>NaN</td>\n",
        "      <td>SA17A</td>\n",
        "      <td>736166</td>\n",
        "    </tr>\n",
        "    <tr>\n",
        "      <th>1</th>\n",
        "      <td>C00410118</td>\n",
        "      <td>P20002978</td>\n",
        "      <td>Bachmann, Michelle</td>\n",
        "      <td>HARVEY, WILLIAM</td>\n",
        "      <td>MOBILE</td>\n",
        "      <td>AL</td>\n",
        "      <td>3.660103e+08</td>\n",
        "      <td>RETIRED</td>\n",
        "      <td>RETIRED</td>\n",
        "      <td>50</td>\n",
        "      <td>23-JUN-11</td>\n",
        "      <td>NaN</td>\n",
        "      <td>NaN</td>\n",
        "      <td>NaN</td>\n",
        "      <td>SA17A</td>\n",
        "      <td>736166</td>\n",
        "    </tr>\n",
        "    <tr>\n",
        "      <th>2</th>\n",
        "      <td>C00410118</td>\n",
        "      <td>P20002978</td>\n",
        "      <td>Bachmann, Michelle</td>\n",
        "      <td>SMITH, LANIER</td>\n",
        "      <td>LANETT</td>\n",
        "      <td>AL</td>\n",
        "      <td>3.686334e+08</td>\n",
        "      <td>INFORMATION REQUESTED</td>\n",
        "      <td>INFORMATION REQUESTED</td>\n",
        "      <td>250</td>\n",
        "      <td>05-JUL-11</td>\n",
        "      <td>NaN</td>\n",
        "      <td>NaN</td>\n",
        "      <td>NaN</td>\n",
        "      <td>SA17A</td>\n",
        "      <td>749073</td>\n",
        "    </tr>\n",
        "    <tr>\n",
        "      <th>3</th>\n",
        "      <td>C00410118</td>\n",
        "      <td>P20002978</td>\n",
        "      <td>Bachmann, Michelle</td>\n",
        "      <td>BLEVINS, DARONDA</td>\n",
        "      <td>PIGGOTT</td>\n",
        "      <td>AR</td>\n",
        "      <td>7.245483e+08</td>\n",
        "      <td>NONE</td>\n",
        "      <td>RETIRED</td>\n",
        "      <td>250</td>\n",
        "      <td>01-AUG-11</td>\n",
        "      <td>NaN</td>\n",
        "      <td>NaN</td>\n",
        "      <td>NaN</td>\n",
        "      <td>SA17A</td>\n",
        "      <td>749073</td>\n",
        "    </tr>\n",
        "    <tr>\n",
        "      <th>4</th>\n",
        "      <td>C00410118</td>\n",
        "      <td>P20002978</td>\n",
        "      <td>Bachmann, Michelle</td>\n",
        "      <td>WARDENBURG, HAROLD</td>\n",
        "      <td>HOT SPRINGS NATION</td>\n",
        "      <td>AR</td>\n",
        "      <td>7.190165e+08</td>\n",
        "      <td>NONE</td>\n",
        "      <td>RETIRED</td>\n",
        "      <td>300</td>\n",
        "      <td>20-JUN-11</td>\n",
        "      <td>NaN</td>\n",
        "      <td>NaN</td>\n",
        "      <td>NaN</td>\n",
        "      <td>SA17A</td>\n",
        "      <td>736166</td>\n",
        "    </tr>\n",
        "  </tbody>\n",
        "</table>\n",
        "</div>"
       ],
       "metadata": {},
       "output_type": "pyout",
       "prompt_number": 27,
       "text": [
        "     cmte_id    cand_id             cand_nm           contbr_nm  \\\n",
        "0  C00410118  P20002978  Bachmann, Michelle     HARVEY, WILLIAM   \n",
        "1  C00410118  P20002978  Bachmann, Michelle     HARVEY, WILLIAM   \n",
        "2  C00410118  P20002978  Bachmann, Michelle       SMITH, LANIER   \n",
        "3  C00410118  P20002978  Bachmann, Michelle    BLEVINS, DARONDA   \n",
        "4  C00410118  P20002978  Bachmann, Michelle  WARDENBURG, HAROLD   \n",
        "\n",
        "          contbr_city contbr_st    contbr_zip        contbr_employer  \\\n",
        "0              MOBILE        AL  3.660103e+08                RETIRED   \n",
        "1              MOBILE        AL  3.660103e+08                RETIRED   \n",
        "2              LANETT        AL  3.686334e+08  INFORMATION REQUESTED   \n",
        "3             PIGGOTT        AR  7.245483e+08                   NONE   \n",
        "4  HOT SPRINGS NATION        AR  7.190165e+08                   NONE   \n",
        "\n",
        "       contbr_occupation  contb_receipt_amt contb_receipt_dt receipt_desc  \\\n",
        "0                RETIRED                250        20-JUN-11          NaN   \n",
        "1                RETIRED                 50        23-JUN-11          NaN   \n",
        "2  INFORMATION REQUESTED                250        05-JUL-11          NaN   \n",
        "3                RETIRED                250        01-AUG-11          NaN   \n",
        "4                RETIRED                300        20-JUN-11          NaN   \n",
        "\n",
        "  memo_cd memo_text form_tp  file_num  \n",
        "0     NaN       NaN   SA17A    736166  \n",
        "1     NaN       NaN   SA17A    736166  \n",
        "2     NaN       NaN   SA17A    749073  \n",
        "3     NaN       NaN   SA17A    749073  \n",
        "4     NaN       NaN   SA17A    736166  "
       ]
      }
     ],
     "prompt_number": 27
    },
    {
     "cell_type": "code",
     "collapsed": false,
     "input": [
      "donor_df['contb_receipt_amt'].value_counts()"
     ],
     "language": "python",
     "metadata": {},
     "outputs": [
      {
       "metadata": {},
       "output_type": "pyout",
       "prompt_number": 29,
       "text": [
        " 100.00     178188\n",
        " 50.00      137584\n",
        " 25.00      110345\n",
        " 250.00      91182\n",
        " 500.00      57984\n",
        " 2500.00     49005\n",
        " 35.00       37237\n",
        " 1000.00     36494\n",
        " 10.00       33986\n",
        " 200.00      27813\n",
        " 20.00       17565\n",
        " 15.00       16163\n",
        " 150.00      14600\n",
        " 75.00       13647\n",
        " 201.20      11718\n",
        " 30.00       11381\n",
        " 300.00      11204\n",
        " 20.12        9897\n",
        " 5.00         9024\n",
        " 40.00        5007\n",
        " 2000.00      4128\n",
        " 55.00        3760\n",
        " 1500.00      3705\n",
        " 3.00         3383\n",
        " 60.00        3084\n",
        " 400.00       3066\n",
        "-2500.00      2727\n",
        " 110.00       2554\n",
        " 125.00       2520\n",
        " 19.00        2474\n",
        "             ...  \n",
        " 180.95          1\n",
        " 223.10          1\n",
        "-1545.12         1\n",
        " 1179.88         1\n",
        "-226.20          1\n",
        " 178.05          1\n",
        " 122.14          1\n",
        " 79.95           1\n",
        " 130.80          1\n",
        " 314.60          1\n",
        " 121.58          1\n",
        "-195.32          1\n",
        " 201.24          1\n",
        " 152.05          1\n",
        " 59.49           1\n",
        " 0.88            1\n",
        " 19.35           1\n",
        " 58.18           1\n",
        " 71.20           1\n",
        " 70.68           1\n",
        " 163.90          1\n",
        " 14.97           1\n",
        " 264.39          1\n",
        " 162.60          1\n",
        " 81.15           1\n",
        " 45.15           1\n",
        " 106.56          1\n",
        " 62.20           1\n",
        " 58.82           1\n",
        " 73.83           1\n",
        "dtype: int64"
       ]
      }
     ],
     "prompt_number": 29
    },
    {
     "cell_type": "code",
     "collapsed": false,
     "input": [
      "don_mean=donor_df['contb_receipt_amt'].mean()\n",
      "\n",
      "don_std=donor_df['contb_receipt_amt'].std()\n",
      "\n"
     ],
     "language": "python",
     "metadata": {},
     "outputs": [],
     "prompt_number": 34
    },
    {
     "cell_type": "code",
     "collapsed": false,
     "input": [
      "print 'The average donation was %.2f with a std of %.2f' %(don_mean,don_std)"
     ],
     "language": "python",
     "metadata": {},
     "outputs": [
      {
       "output_type": "stream",
       "stream": "stdout",
       "text": [
        "The average donation was 298.24 with a std of 3749.67\n"
       ]
      }
     ],
     "prompt_number": 35
    },
    {
     "cell_type": "markdown",
     "metadata": {},
     "source": [
      "\n",
      "Wow! That's a huge standard deviation! Let's see if there are any large donations or other factors messing with the distribution of the donations."
     ]
    },
    {
     "cell_type": "code",
     "collapsed": false,
     "input": [
      "# Let's make a Series from the DataFrame, use .copy() to avoid view errors\n",
      "top_donor = donor_df['contb_receipt_amt'].copy()\n",
      "\n",
      "# Now sort it\n",
      "top_donor.sort()\n",
      "\n",
      "# Then check the Series\n",
      "top_donor"
     ],
     "language": "python",
     "metadata": {},
     "outputs": [
      {
       "metadata": {},
       "output_type": "pyout",
       "prompt_number": 36,
       "text": [
        "114604     -30800.00\n",
        "226986     -25800.00\n",
        "101356      -7500.00\n",
        "398429      -5500.00\n",
        "250737      -5455.00\n",
        "33821       -5414.31\n",
        "908565      -5115.00\n",
        "456649      -5000.00\n",
        "574657      -5000.00\n",
        "30513       -5000.00\n",
        "562267      -5000.00\n",
        "30584       -5000.00\n",
        "86268       -5000.00\n",
        "708920      -5000.00\n",
        "665887      -5000.00\n",
        "708899      -5000.00\n",
        "708929      -5000.00\n",
        "21172       -5000.00\n",
        "21168       -5000.00\n",
        "21167       -5000.00\n",
        "262328      -5000.00\n",
        "946875      -5000.00\n",
        "7361        -5000.00\n",
        "416403      -5000.00\n",
        "21164       -5000.00\n",
        "707945      -5000.00\n",
        "615101      -5000.00\n",
        "7973        -5000.00\n",
        "54430       -5000.00\n",
        "54434       -5000.00\n",
        "             ...    \n",
        "708022      10000.00\n",
        "708898      10000.00\n",
        "710177      10000.00\n",
        "876244      10000.00\n",
        "709608      10000.00\n",
        "708919      10000.00\n",
        "709739      10000.00\n",
        "91145       10000.00\n",
        "708138      10000.00\n",
        "993178      10000.00\n",
        "709813      10000.00\n",
        "710730      10000.00\n",
        "708928      10000.00\n",
        "709268      10000.00\n",
        "99829       10000.00\n",
        "90076       10000.00\n",
        "709859      10000.00\n",
        "41888       10000.00\n",
        "65131       12700.00\n",
        "834301      25000.00\n",
        "823345      25000.00\n",
        "217891      25800.00\n",
        "114754      33300.00\n",
        "257270     451726.00\n",
        "335187     512710.91\n",
        "319478     526246.17\n",
        "344419    1511192.17\n",
        "344539    1679114.65\n",
        "326651    1944042.43\n",
        "325136    2014490.51\n",
        "Name: contb_receipt_amt, dtype: float64"
       ]
      }
     ],
     "prompt_number": 36
    },
    {
     "cell_type": "markdown",
     "metadata": {},
     "source": [
      "Looks like we have some negative values, as well as some huge donation amounts! The negative values are due to the FEC recording refunds as well as donations, let's go ahead and only look at the positive contribution amounts"
     ]
    },
    {
     "cell_type": "code",
     "collapsed": false,
     "input": [
      "# Get rid of the negative values\n",
      "top_donor = top_donor[top_donor >0]\n",
      "\n",
      "# Sort the Series\n",
      "top_donor.sort()\n",
      "\n",
      "# Look at the top 10 most common donations value counts\n",
      "top_donor.value_counts().head(10)"
     ],
     "language": "python",
     "metadata": {},
     "outputs": [
      {
       "metadata": {},
       "output_type": "pyout",
       "prompt_number": 37,
       "text": [
        "100     178188\n",
        "50      137584\n",
        "25      110345\n",
        "250      91182\n",
        "500      57984\n",
        "2500     49005\n",
        "35       37237\n",
        "1000     36494\n",
        "10       33986\n",
        "200      27813\n",
        "dtype: int64"
       ]
      }
     ],
     "prompt_number": 37
    },
    {
     "cell_type": "markdown",
     "metadata": {},
     "source": [
      "Here we can see that the top 10 most common donations ranged from 10 to 2500 dollars.\n",
      "\n",
      "A quick question we could verify is if donations are usually made in round number amounts? (e.g. 10,20,50,100,500 etc.) We can quickly visualize this by making a histogram and checking for peaks at those values. Let's go ahead and do this for the most common amounts, up to 2500 dollars."
     ]
    },
    {
     "cell_type": "code",
     "collapsed": false,
     "input": [
      "# Create a Series of the common donations limited to 2500\n",
      "com_don = top_donor[top_donor < 2500]\n",
      "\n",
      "# Set a high number of bins to account for the non-round donations and check histogram for spikes.\n",
      "com_don.hist(bins=100)"
     ],
     "language": "python",
     "metadata": {},
     "outputs": [
      {
       "metadata": {},
       "output_type": "pyout",
       "prompt_number": 38,
       "text": [
        "<matplotlib.axes._subplots.AxesSubplot at 0x1b1088d0>"
       ]
      },
      {
       "metadata": {},
       "output_type": "display_data",
       "png": "[encoded data removed]",
       "text": [
        "<matplotlib.figure.Figure at 0x1b108208>"
       ]
      }
     ],
     "prompt_number": 38
    },
    {
     "cell_type": "markdown",
     "metadata": {},
     "source": [
      "Looks like our intuition was right, since we spikes at the round numbers.\n",
      "\n",
      "Let's dive deeper into the data and see if we can seperate donations by Party, in order to do this we'll have to figure out a way of creating a new 'Party' column. We can do this by starting with the candidates and their affliliation. Now let's go ahead and get a list of candidates"
     ]
    },
    {
     "cell_type": "code",
     "collapsed": false,
     "input": [
      "# Grab the unique object from the candidate column\n",
      "candidates = donor_df.cand_nm.unique()\n",
      "#Show\n",
      "candidates"
     ],
     "language": "python",
     "metadata": {},
     "outputs": [
      {
       "metadata": {},
       "output_type": "pyout",
       "prompt_number": 39,
       "text": [
        "array(['Bachmann, Michelle', 'Romney, Mitt', 'Obama, Barack',\n",
        "       \"Roemer, Charles E. 'Buddy' III\", 'Pawlenty, Timothy',\n",
        "       'Johnson, Gary Earl', 'Paul, Ron', 'Santorum, Rick', 'Cain, Herman',\n",
        "       'Gingrich, Newt', 'McCotter, Thaddeus G', 'Huntsman, Jon',\n",
        "       'Perry, Rick'], dtype=object)"
       ]
      }
     ],
     "prompt_number": 39
    },
    {
     "cell_type": "markdown",
     "metadata": {},
     "source": [
      "Let's go ahead and seperate Obama from the Republican Candidates by adding a Party Affiliation column. We can do this by using map along a dictionary of party affiliations. Lecture 36 has a review of this topic."
     ]
    },
    {
     "cell_type": "code",
     "collapsed": false,
     "input": [
      "# Dictionary of party affiliation\n",
      "party_map = {'Bachmann, Michelle': 'Republican',\n",
      "           'Cain, Herman': 'Republican',\n",
      "           'Gingrich, Newt': 'Republican',\n",
      "           'Huntsman, Jon': 'Republican',\n",
      "           'Johnson, Gary Earl': 'Republican',\n",
      "           'McCotter, Thaddeus G': 'Republican',\n",
      "           'Obama, Barack': 'Democrat',\n",
      "           'Paul, Ron': 'Republican',\n",
      "           'Pawlenty, Timothy': 'Republican',\n",
      "           'Perry, Rick': 'Republican',\n",
      "           \"Roemer, Charles E. 'Buddy' III\": 'Republican',\n",
      "           'Romney, Mitt': 'Republican',\n",
      "           'Santorum, Rick': 'Republican'}\n",
      "\n",
      "# Now map the party with candidate\n",
      "donor_df['Party'] = donor_df.cand_nm.map(party_map)"
     ],
     "language": "python",
     "metadata": {},
     "outputs": [],
     "prompt_number": 40
    },
    {
     "cell_type": "markdown",
     "metadata": {},
     "source": [
      "A quick note, we could have done this same operation manually using a for loop, however this operation would be much slower than using the map method.\n",
      "\n",
      "'''\n",
      "for i in xrange(0,len(donor_df)):\n",
      "    if donor_df['cand_nm'][i] == 'Obama,Barack':\n",
      "        donor_df['Party'][i] = 'Democrat'\n",
      "    else:\n",
      "        donor_df['Party'][i] = 'Republican'\n",
      "'''"
     ]
    },
    {
     "cell_type": "markdown",
     "metadata": {},
     "source": [
      "Let's look at our DataFrame and also make sure we clear refunds from the contribution amounts."
     ]
    },
    {
     "cell_type": "code",
     "collapsed": false,
     "input": [
      "# Clear refunds\n",
      "donor_df = donor_df[donor_df.contb_receipt_amt >0]\n",
      "\n",
      "# Preview DataFrame\n",
      "donor_df.head()"
     ],
     "language": "python",
     "metadata": {},
     "outputs": [
      {
       "html": [
        "<div style=\"max-width:1500px;overflow:auto;\">\n",
        "<table border=\"1\" class=\"dataframe\">\n",
        "  <thead>\n",
        "    <tr style=\"text-align: right;\">\n",
        "      <th></th>\n",
        "      <th>cmte_id</th>\n",
        "      <th>cand_id</th>\n",
        "      <th>cand_nm</th>\n",
        "      <th>contbr_nm</th>\n",
        "      <th>contbr_city</th>\n",
        "      <th>contbr_st</th>\n",
        "      <th>contbr_zip</th>\n",
        "      <th>contbr_employer</th>\n",
        "      <th>contbr_occupation</th>\n",
        "      <th>contb_receipt_amt</th>\n",
        "      <th>contb_receipt_dt</th>\n",
        "      <th>receipt_desc</th>\n",
        "      <th>memo_cd</th>\n",
        "      <th>memo_text</th>\n",
        "      <th>form_tp</th>\n",
        "      <th>file_num</th>\n",
        "      <th>Party</th>\n",
        "    </tr>\n",
        "  </thead>\n",
        "  <tbody>\n",
        "    <tr>\n",
        "      <th>0</th>\n",
        "      <td>C00410118</td>\n",
        "      <td>P20002978</td>\n",
        "      <td>Bachmann, Michelle</td>\n",
        "      <td>HARVEY, WILLIAM</td>\n",
        "      <td>MOBILE</td>\n",
        "      <td>AL</td>\n",
        "      <td>3.660103e+08</td>\n",
        "      <td>RETIRED</td>\n",
        "      <td>RETIRED</td>\n",
        "      <td>250</td>\n",
        "      <td>20-JUN-11</td>\n",
        "      <td>NaN</td>\n",
        "      <td>NaN</td>\n",
        "      <td>NaN</td>\n",
        "      <td>SA17A</td>\n",
        "      <td>736166</td>\n",
        "      <td>Republican</td>\n",
        "    </tr>\n",
        "    <tr>\n",
        "      <th>1</th>\n",
        "      <td>C00410118</td>\n",
        "      <td>P20002978</td>\n",
        "      <td>Bachmann, Michelle</td>\n",
        "      <td>HARVEY, WILLIAM</td>\n",
        "      <td>MOBILE</td>\n",
        "      <td>AL</td>\n",
        "      <td>3.660103e+08</td>\n",
        "      <td>RETIRED</td>\n",
        "      <td>RETIRED</td>\n",
        "      <td>50</td>\n",
        "      <td>23-JUN-11</td>\n",
        "      <td>NaN</td>\n",
        "      <td>NaN</td>\n",
        "      <td>NaN</td>\n",
        "      <td>SA17A</td>\n",
        "      <td>736166</td>\n",
        "      <td>Republican</td>\n",
        "    </tr>\n",
        "    <tr>\n",
        "      <th>2</th>\n",
        "      <td>C00410118</td>\n",
        "      <td>P20002978</td>\n",
        "      <td>Bachmann, Michelle</td>\n",
        "      <td>SMITH, LANIER</td>\n",
        "      <td>LANETT</td>\n",
        "      <td>AL</td>\n",
        "      <td>3.686334e+08</td>\n",
        "      <td>INFORMATION REQUESTED</td>\n",
        "      <td>INFORMATION REQUESTED</td>\n",
        "      <td>250</td>\n",
        "      <td>05-JUL-11</td>\n",
        "      <td>NaN</td>\n",
        "      <td>NaN</td>\n",
        "      <td>NaN</td>\n",
        "      <td>SA17A</td>\n",
        "      <td>749073</td>\n",
        "      <td>Republican</td>\n",
        "    </tr>\n",
        "    <tr>\n",
        "      <th>3</th>\n",
        "      <td>C00410118</td>\n",
        "      <td>P20002978</td>\n",
        "      <td>Bachmann, Michelle</td>\n",
        "      <td>BLEVINS, DARONDA</td>\n",
        "      <td>PIGGOTT</td>\n",
        "      <td>AR</td>\n",
        "      <td>7.245483e+08</td>\n",
        "      <td>NONE</td>\n",
        "      <td>RETIRED</td>\n",
        "      <td>250</td>\n",
        "      <td>01-AUG-11</td>\n",
        "      <td>NaN</td>\n",
        "      <td>NaN</td>\n",
        "      <td>NaN</td>\n",
        "      <td>SA17A</td>\n",
        "      <td>749073</td>\n",
        "      <td>Republican</td>\n",
        "    </tr>\n",
        "    <tr>\n",
        "      <th>4</th>\n",
        "      <td>C00410118</td>\n",
        "      <td>P20002978</td>\n",
        "      <td>Bachmann, Michelle</td>\n",
        "      <td>WARDENBURG, HAROLD</td>\n",
        "      <td>HOT SPRINGS NATION</td>\n",
        "      <td>AR</td>\n",
        "      <td>7.190165e+08</td>\n",
        "      <td>NONE</td>\n",
        "      <td>RETIRED</td>\n",
        "      <td>300</td>\n",
        "      <td>20-JUN-11</td>\n",
        "      <td>NaN</td>\n",
        "      <td>NaN</td>\n",
        "      <td>NaN</td>\n",
        "      <td>SA17A</td>\n",
        "      <td>736166</td>\n",
        "      <td>Republican</td>\n",
        "    </tr>\n",
        "  </tbody>\n",
        "</table>\n",
        "</div>"
       ],
       "metadata": {},
       "output_type": "pyout",
       "prompt_number": 42,
       "text": [
        "     cmte_id    cand_id             cand_nm           contbr_nm  \\\n",
        "0  C00410118  P20002978  Bachmann, Michelle     HARVEY, WILLIAM   \n",
        "1  C00410118  P20002978  Bachmann, Michelle     HARVEY, WILLIAM   \n",
        "2  C00410118  P20002978  Bachmann, Michelle       SMITH, LANIER   \n",
        "3  C00410118  P20002978  Bachmann, Michelle    BLEVINS, DARONDA   \n",
        "4  C00410118  P20002978  Bachmann, Michelle  WARDENBURG, HAROLD   \n",
        "\n",
        "          contbr_city contbr_st    contbr_zip        contbr_employer  \\\n",
        "0              MOBILE        AL  3.660103e+08                RETIRED   \n",
        "1              MOBILE        AL  3.660103e+08                RETIRED   \n",
        "2              LANETT        AL  3.686334e+08  INFORMATION REQUESTED   \n",
        "3             PIGGOTT        AR  7.245483e+08                   NONE   \n",
        "4  HOT SPRINGS NATION        AR  7.190165e+08                   NONE   \n",
        "\n",
        "       contbr_occupation  contb_receipt_amt contb_receipt_dt receipt_desc  \\\n",
        "0                RETIRED                250        20-JUN-11          NaN   \n",
        "1                RETIRED                 50        23-JUN-11          NaN   \n",
        "2  INFORMATION REQUESTED                250        05-JUL-11          NaN   \n",
        "3                RETIRED                250        01-AUG-11          NaN   \n",
        "4                RETIRED                300        20-JUN-11          NaN   \n",
        "\n",
        "  memo_cd memo_text form_tp  file_num       Party  \n",
        "0     NaN       NaN   SA17A    736166  Republican  \n",
        "1     NaN       NaN   SA17A    736166  Republican  \n",
        "2     NaN       NaN   SA17A    749073  Republican  \n",
        "3     NaN       NaN   SA17A    749073  Republican  \n",
        "4     NaN       NaN   SA17A    736166  Republican  "
       ]
      }
     ],
     "prompt_number": 42
    },
    {
     "cell_type": "markdown",
     "metadata": {},
     "source": [
      "\n",
      "Let's start by aggregating the data by candidate. We'll take a quick look a the total amounts received by each candidate. First we will look a the total number of donations and then at the total amount."
     ]
    },
    {
     "cell_type": "code",
     "collapsed": false,
     "input": [
      "donor_df.groupby('cand_nm')['contb_receipt_amt'].count()"
     ],
     "language": "python",
     "metadata": {},
     "outputs": [
      {
       "metadata": {},
       "output_type": "pyout",
       "prompt_number": 44,
       "text": [
        "cand_nm\n",
        "Bachmann, Michelle                 13082\n",
        "Cain, Herman                       20052\n",
        "Gingrich, Newt                     46883\n",
        "Huntsman, Jon                       4066\n",
        "Johnson, Gary Earl                  1234\n",
        "McCotter, Thaddeus G                  73\n",
        "Obama, Barack                     589127\n",
        "Paul, Ron                         143161\n",
        "Pawlenty, Timothy                   3844\n",
        "Perry, Rick                        12709\n",
        "Roemer, Charles E. 'Buddy' III      5844\n",
        "Romney, Mitt                      105155\n",
        "Santorum, Rick                     46245\n",
        "Name: contb_receipt_amt, dtype: int64"
       ]
      }
     ],
     "prompt_number": 44
    },
    {
     "cell_type": "markdown",
     "metadata": {},
     "source": [
      "\n",
      "Clearly Obama is the front-runner in number of people donating, which makes sense, since he is not competeing with any other democratic nominees. Let's take a look at the total dollar amounts."
     ]
    },
    {
     "cell_type": "code",
     "collapsed": false,
     "input": [
      "# Groupby candidate and then displayt the total amount donated\n",
      "donor_df.groupby('cand_nm')['contb_receipt_amt'].sum()"
     ],
     "language": "python",
     "metadata": {},
     "outputs": [
      {
       "metadata": {},
       "output_type": "pyout",
       "prompt_number": 45,
       "text": [
        "cand_nm\n",
        "Bachmann, Michelle                2.711439e+06\n",
        "Cain, Herman                      7.101082e+06\n",
        "Gingrich, Newt                    1.283277e+07\n",
        "Huntsman, Jon                     3.330373e+06\n",
        "Johnson, Gary Earl                5.669616e+05\n",
        "McCotter, Thaddeus G              3.903000e+04\n",
        "Obama, Barack                     1.358774e+08\n",
        "Paul, Ron                         2.100962e+07\n",
        "Pawlenty, Timothy                 6.004819e+06\n",
        "Perry, Rick                       2.030575e+07\n",
        "Roemer, Charles E. 'Buddy' III    3.730099e+05\n",
        "Romney, Mitt                      8.833591e+07\n",
        "Santorum, Rick                    1.104316e+07\n",
        "Name: contb_receipt_amt, dtype: float64"
       ]
      }
     ],
     "prompt_number": 45
    },
    {
     "cell_type": "markdown",
     "metadata": {},
     "source": [
      "\n",
      "This isn't super readable, and an important aspect of data science is to clearly present information. Let's go ahead and just print out these values in a clean for loop."
     ]
    },
    {
     "cell_type": "code",
     "collapsed": false,
     "input": [
      "# Start by setting the groupby as an object\n",
      "cand_amount = donor_df.groupby('cand_nm')['contb_receipt_amt'].sum()\n",
      "\n",
      "# Our index tracker\n",
      "i = 0\n",
      "\n",
      "for don in cand_amount:\n",
      "    print \" The candidate %s raised %.0f dollars \" %(cand_amount.index[i],don)\n",
      "    print '\\n'\n",
      "    i += 1"
     ],
     "language": "python",
     "metadata": {},
     "outputs": [
      {
       "output_type": "stream",
       "stream": "stdout",
       "text": [
        " The candidate Bachmann, Michelle raised 2711439 dollars \n",
        "\n",
        "\n",
        " The candidate Cain, Herman raised 7101082 dollars \n",
        "\n",
        "\n",
        " The candidate Gingrich, Newt raised 12832770 dollars \n",
        "\n",
        "\n",
        " The candidate Huntsman, Jon raised 3330373 dollars \n",
        "\n",
        "\n",
        " The candidate Johnson, Gary Earl raised 566962 dollars \n",
        "\n",
        "\n",
        " The candidate McCotter, Thaddeus G raised 39030 dollars \n",
        "\n",
        "\n",
        " The candidate Obama, Barack raised 135877427 dollars \n",
        "\n",
        "\n",
        " The candidate Paul, Ron raised 21009620 dollars \n",
        "\n",
        "\n",
        " The candidate Pawlenty, Timothy raised 6004819 dollars \n",
        "\n",
        "\n",
        " The candidate Perry, Rick raised 20305754 dollars \n",
        "\n",
        "\n",
        " The candidate Roemer, Charles E. 'Buddy' III raised 373010 dollars \n",
        "\n",
        "\n",
        " The candidate Romney, Mitt raised 88335908 dollars \n",
        "\n",
        "\n",
        " The candidate Santorum, Rick raised 11043159 dollars \n",
        "\n",
        "\n"
       ]
      }
     ],
     "prompt_number": 46
    },
    {
     "cell_type": "code",
     "collapsed": false,
     "input": [
      "# PLot out total donation amounts\n",
      "cand_amount.plot(kind='bar')"
     ],
     "language": "python",
     "metadata": {},
     "outputs": [
      {
       "metadata": {},
       "output_type": "pyout",
       "prompt_number": 47,
       "text": [
        "<matplotlib.axes._subplots.AxesSubplot at 0x1cb69550>"
       ]
      },
      {
       "metadata": {},
       "output_type": "display_data",
       "png": "[encoded data removed]",
       "text": [
        "<matplotlib.figure.Figure at 0x20f04390>"
       ]
      }
     ],
     "prompt_number": 47
    },
    {
     "cell_type": "markdown",
     "metadata": {},
     "source": [
      "Now the comparison is very easy to see. As we saw berfore, clearly Obama is the front-runner in donation amounts, which makes sense, since he is not competeing with any other democratic nominees. How about we just compare Democrat versus Republican donations?"
     ]
    },
    {
     "cell_type": "code",
     "collapsed": false,
     "input": [
      "# Groupby party and then count donations\n",
      "donor_df.groupby('Party')['contb_receipt_amt'].sum().plot(kind='bar')"
     ],
     "language": "python",
     "metadata": {},
     "outputs": [
      {
       "metadata": {},
       "output_type": "pyout",
       "prompt_number": 48,
       "text": [
        "<matplotlib.axes._subplots.AxesSubplot at 0x20402438>"
       ]
      },
      {
       "metadata": {},
       "output_type": "display_data",
       "png": "[encoded data removed]",
       "text": [
        "<matplotlib.figure.Figure at 0x213fceb8>"
       ]
      }
     ],
     "prompt_number": 48
    },
    {
     "cell_type": "markdown",
     "metadata": {},
     "source": [
      "Looks like Obama couldn't compete against all the republicans, but he certainly has the advantage of their funding being splintered across multiple candidates.\n",
      "\n",
      "Finally to start closing out the project, let's look at donations and who they came from (as far as occupation is concerned). We will start by grabing the occupation information from the dono_df DataFrame and then using pivot_table to make the index defined by the various occupations and then have the columns defined by the Party (Republican or Democrat). FInally we'll also pass an aggregation function in the pivot table, in this case a simple sum function will add up all the comntributions by anyone with the same profession."
     ]
    },
    {
     "cell_type": "code",
     "collapsed": false,
     "input": [
      "# Use a pivot table to extract and organize the data by the donor occupation\n",
      "occupation_df = donor_df.pivot_table('contb_receipt_amt',\n",
      "                                index='contbr_occupation',\n",
      "                                columns='Party', aggfunc='sum')"
     ],
     "language": "python",
     "metadata": {},
     "outputs": [],
     "prompt_number": 49
    },
    {
     "cell_type": "code",
     "collapsed": false,
     "input": [
      "# Let's go ahead and check out the DataFrame\n",
      "occupation_df.head()"
     ],
     "language": "python",
     "metadata": {},
     "outputs": [
      {
       "html": [
        "<div style=\"max-width:1500px;overflow:auto;\">\n",
        "<table border=\"1\" class=\"dataframe\">\n",
        "  <thead>\n",
        "    <tr style=\"text-align: right;\">\n",
        "      <th>Party</th>\n",
        "      <th>Democrat</th>\n",
        "      <th>Republican</th>\n",
        "    </tr>\n",
        "    <tr>\n",
        "      <th>contbr_occupation</th>\n",
        "      <th></th>\n",
        "      <th></th>\n",
        "    </tr>\n",
        "  </thead>\n",
        "  <tbody>\n",
        "    <tr>\n",
        "      <th>MIXED-MEDIA ARTIST / STORYTELLER</th>\n",
        "      <td>100</td>\n",
        "      <td>NaN</td>\n",
        "    </tr>\n",
        "    <tr>\n",
        "      <th>AREA VICE PRESIDENT</th>\n",
        "      <td>250</td>\n",
        "      <td>NaN</td>\n",
        "    </tr>\n",
        "    <tr>\n",
        "      <th>RESEARCH ASSOCIATE</th>\n",
        "      <td>100</td>\n",
        "      <td>NaN</td>\n",
        "    </tr>\n",
        "    <tr>\n",
        "      <th>TEACHER</th>\n",
        "      <td>500</td>\n",
        "      <td>NaN</td>\n",
        "    </tr>\n",
        "    <tr>\n",
        "      <th>THERAPIST</th>\n",
        "      <td>3900</td>\n",
        "      <td>NaN</td>\n",
        "    </tr>\n",
        "  </tbody>\n",
        "</table>\n",
        "</div>"
       ],
       "metadata": {},
       "output_type": "pyout",
       "prompt_number": 50,
       "text": [
        "Party                                Democrat  Republican\n",
        "contbr_occupation                                        \n",
        "   MIXED-MEDIA ARTIST / STORYTELLER       100         NaN\n",
        " AREA VICE PRESIDENT                      250         NaN\n",
        " RESEARCH ASSOCIATE                       100         NaN\n",
        " TEACHER                                  500         NaN\n",
        " THERAPIST                               3900         NaN"
       ]
      }
     ],
     "prompt_number": 50
    },
    {
     "cell_type": "code",
     "collapsed": false,
     "input": [
      "# Check size\n",
      "occupation_df.shape"
     ],
     "language": "python",
     "metadata": {},
     "outputs": [
      {
       "metadata": {},
       "output_type": "pyout",
       "prompt_number": 51,
       "text": [
        "(45067, 2)"
       ]
      }
     ],
     "prompt_number": 51
    },
    {
     "cell_type": "markdown",
     "metadata": {},
     "source": [
      "Wow! This is probably far too large to display effectively with a small, static visualization. What we should do is have a cut-off for total contribution amounts. Afterall, small donations of 20 dollars by one type of occupation won't give us too much insight. So let's set our cut off at 1 million dollars."
     ]
    },
    {
     "cell_type": "code",
     "collapsed": false,
     "input": [
      "# Set a cut off point at 1 milllion dollars of sum contributions\n",
      "occupation_df = occupation_df[occupation_df.sum(1) > 1000000]\n",
      "# Now let's check the size!\n",
      "occupation_df.shape"
     ],
     "language": "python",
     "metadata": {},
     "outputs": [
      {
       "metadata": {},
       "output_type": "pyout",
       "prompt_number": 52,
       "text": [
        "(31, 2)"
       ]
      }
     ],
     "prompt_number": 52
    },
    {
     "cell_type": "code",
     "collapsed": false,
     "input": [
      "# plot out with pandas\n",
      "occupation_df.plot(kind='bar')"
     ],
     "language": "python",
     "metadata": {},
     "outputs": [
      {
       "metadata": {},
       "output_type": "pyout",
       "prompt_number": 53,
       "text": [
        "<matplotlib.axes._subplots.AxesSubplot at 0x1ef11cf8>"
       ]
      },
      {
       "metadata": {},
       "output_type": "display_data",
       "png": "[encoded data removed]",
       "text": [
        "<matplotlib.figure.Figure at 0x22f79860>"
       ]
      }
     ],
     "prompt_number": 53
    },
    {
     "cell_type": "code",
     "collapsed": false,
     "input": [
      "# Horizontal plot, use a convienently colored cmap\n",
      "occupation_df.plot(kind='barh',figsize=(10,12),cmap='seismic')"
     ],
     "language": "python",
     "metadata": {},
     "outputs": [
      {
       "metadata": {},
       "output_type": "pyout",
       "prompt_number": 54,
       "text": [
        "<matplotlib.axes._subplots.AxesSubplot at 0x24ab79e8>"
       ]
      },
      {
       "metadata": {},
       "output_type": "display_data",
       "png": "[encoded data removed]",
       "text": [
        "<matplotlib.figure.Figure at 0x234db908>"
       ]
      }
     ],
     "prompt_number": 54
    },
    {
     "cell_type": "markdown",
     "metadata": {},
     "source": [
      "Looks like there are some occupations that are either mislabeled or aren't really occupations. Let's get rid of: Information Requested occupations and let's combine CEO and C.E.O."
     ]
    },
    {
     "cell_type": "code",
     "collapsed": false,
     "input": [
      "# Drop the unavailble occupations\n",
      "occupation_df.drop(['INFORMATION REQUESTED PER BEST EFFORTS','INFORMATION REQUESTED'],axis=0,inplace=True)"
     ],
     "language": "python",
     "metadata": {},
     "outputs": [],
     "prompt_number": 55
    },
    {
     "cell_type": "code",
     "collapsed": false,
     "input": [
      "# Set new ceo row as sum of the current two\n",
      "occupation_df.loc['CEO'] = occupation_df.loc['CEO'] + occupation_df.loc['C.E.O.']\n",
      "# Drop CEO\n",
      "occupation_df.drop('C.E.O.',inplace=True)"
     ],
     "language": "python",
     "metadata": {},
     "outputs": [],
     "prompt_number": 56
    },
    {
     "cell_type": "code",
     "collapsed": false,
     "input": [
      "# Repeat previous plot!\n",
      "occupation_df.plot(kind='barh',figsize=(10,12),cmap='seismic')"
     ],
     "language": "python",
     "metadata": {},
     "outputs": [
      {
       "metadata": {},
       "output_type": "pyout",
       "prompt_number": 57,
       "text": [
        "<matplotlib.axes._subplots.AxesSubplot at 0x1f937710>"
       ]
      },
      {
       "metadata": {},
       "output_type": "display_data",
       "png": "[encoded data removed]",
       "text": [
        "<matplotlib.figure.Figure at 0x2617f9e8>"
       ]
      }
     ],
     "prompt_number": 57
    },
    {
     "cell_type": "markdown",
     "metadata": {},
     "source": [
      "Awesome! Looks like CEOs are a little more conservative leaning, this may be due to the tax philosphies of each party during the election."
     ]
    },
    {
     "cell_type": "markdown",
     "metadata": {},
     "source": [
      "There's still so much to discover in these rich datasets! Come up with your own political questions you want answered! Or just play around with different methods of visualizing the data!\n",
      "\n",
      "For more on general data analysis of politics, I highly suggest the 538 (http://fivethirtyeight.com/politics/) website!\n",
      "\n",
      "Again, great job on getting through the course this far! Go ahead and search the web for more data to discover!"
     ]
    },
    {
     "cell_type": "code",
     "collapsed": false,
     "input": [],
     "language": "python",
     "metadata": {},
     "outputs": []
    }
   ],
   "metadata": {}
  }
 ]
}