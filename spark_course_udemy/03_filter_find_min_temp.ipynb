{
 "cells": [
  {
   "cell_type": "code",
   "execution_count": 15,
   "metadata": {
    "collapsed": false
   },
   "outputs": [
    {
     "name": "stdout",
     "output_type": "stream",
     "text": [
      "ITE00100554: \t -148.00C\n",
      "EZE00100082: \t -135.00C\n"
     ]
    }
   ],
   "source": [
    "def parseline(x):\n",
    "    fields=x.split(',')\n",
    "    return (fields[0],fields[2],float(fields[3]))\n",
    "\n",
    "lines = sc.textFile(\"file:///SparkCourse/1800.csv\")\n",
    "temp=lines.map(parseline).filter(lambda x: x[1] == 'TMIN').map(lambda x: (x[0],x[2])).reduceByKey(lambda x,y:min(x,y))\n",
    "res =  temp.collect()\n",
    "\n",
    "for r in res:\n",
    "    print r[0]+': \\t {:.2f}C'.format(r[1])"
   ]
  }
 ],
 "metadata": {
  "kernelspec": {
   "display_name": "Python 2",
   "language": "python",
   "name": "python2"
  },
  "language_info": {
   "codemirror_mode": {
    "name": "ipython",
    "version": 2
   },
   "file_extension": ".py",
   "mimetype": "text/x-python",
   "name": "python",
   "nbconvert_exporter": "python",
   "pygments_lexer": "ipython2",
   "version": "2.7.10"
  }
 },
 "nbformat": 4,
 "nbformat_minor": 0
}
