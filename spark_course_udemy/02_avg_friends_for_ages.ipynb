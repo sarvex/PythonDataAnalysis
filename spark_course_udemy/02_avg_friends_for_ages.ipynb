{
 "cells": [
  {
   "cell_type": "code",
   "execution_count": 1,
   "metadata": {
    "collapsed": false
   },
   "outputs": [
    {
     "name": "stdout",
     "output_type": "stream",
     "text": [
      "(18, 343)\n",
      "(20, 165)\n",
      "(22, 206)\n",
      "(24, 233)\n",
      "(26, 242)\n",
      "(28, 209)\n",
      "(30, 235)\n",
      "(32, 207)\n",
      "(34, 245)\n",
      "(36, 246)\n",
      "(38, 193)\n",
      "(40, 250)\n",
      "(42, 303)\n",
      "(44, 282)\n",
      "(46, 223)\n",
      "(48, 281)\n",
      "(50, 254)\n",
      "(52, 340)\n",
      "(54, 278)\n",
      "(56, 306)\n",
      "(58, 116)\n",
      "(60, 202)\n",
      "(62, 220)\n",
      "(64, 281)\n",
      "(66, 276)\n",
      "(68, 269)\n",
      "(19, 213)\n",
      "(21, 350)\n",
      "(23, 246)\n",
      "(25, 197)\n",
      "(27, 228)\n",
      "(29, 215)\n",
      "(31, 267)\n",
      "(33, 325)\n",
      "(35, 211)\n",
      "(37, 249)\n",
      "(39, 169)\n",
      "(41, 268)\n",
      "(43, 230)\n",
      "(45, 309)\n",
      "(47, 233)\n",
      "(49, 184)\n",
      "(51, 302)\n",
      "(53, 222)\n",
      "(55, 295)\n",
      "(57, 258)\n",
      "(59, 220)\n",
      "(61, 256)\n",
      "(63, 384)\n",
      "(65, 298)\n",
      "(67, 214)\n",
      "(69, 235)\n"
     ]
    }
   ],
   "source": [
    "def parseLine(line):\n",
    "    fields = line.split(',')\n",
    "    age = int(fields[2])\n",
    "    numFriends = int(fields[3])\n",
    "    return (age, numFriends)\n",
    "\n",
    "lines = sc.textFile(\"file:///SparkCourse/fakefriends.csv\")\n",
    "rdd = lines.map(parseLine)\n",
    "totalsByAge = rdd.mapValues(lambda x: (x, 1)).reduceByKey(lambda x, y: (x[0] + y[0], x[1] + y[1]))\n",
    "averagesByAge = totalsByAge.mapValues(lambda x: x[0] / x[1])\n",
    "results = averagesByAge.collect()\n",
    "for result in results:\n",
    "    print result"
   ]
  }
 ],
 "metadata": {
  "kernelspec": {
   "display_name": "Python 2",
   "language": "python",
   "name": "python2"
  },
  "language_info": {
   "codemirror_mode": {
    "name": "ipython",
    "version": 2
   },
   "file_extension": ".py",
   "mimetype": "text/x-python",
   "name": "python",
   "nbconvert_exporter": "python",
   "pygments_lexer": "ipython2",
   "version": "2.7.10"
  }
 },
 "nbformat": 4,
 "nbformat_minor": 0
}
